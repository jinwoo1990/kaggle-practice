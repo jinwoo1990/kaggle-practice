{
 "cells": [
  {
   "cell_type": "markdown",
   "metadata": {
    "id": "9ayMBa1_IwX0"
   },
   "source": [
    "# 환경설정"
   ]
  },
  {
   "cell_type": "markdown",
   "metadata": {},
   "source": [
    "## 1. Kaggle 설정 및 데이터 다운로드"
   ]
  },
  {
   "cell_type": "markdown",
   "metadata": {},
   "source": [
    "### 1.1. Colab 설정"
   ]
  },
  {
   "cell_type": "code",
   "execution_count": null,
   "metadata": {
    "colab": {
     "base_uri": "https://localhost:8080/",
     "height": 331,
     "resources": {
      "http://localhost:8080/nbextensions/google.colab/files.js": {
       "data": "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",
       "headers": [
        [
         "content-type",
         "application/javascript"
        ]
       ],
       "ok": true,
       "status": 200,
       "status_text": ""
      }
     }
    },
    "id": "cbjvjkRRIuf5",
    "outputId": "21a53f78-1a40-4071-afa6-e45f760dc39c"
   },
   "outputs": [],
   "source": [
    "# Colab\n",
    "# kaggle api update\n",
    "!pip install --upgrade --force-reinstall --no-deps kaggle\n",
    "\n",
    "# kaggle api token upload\n",
    "# 셀 실행 후 api token이 포함된 kaggle.json 파일 업로드 필요\n",
    "from google.colab import files\n",
    "\n",
    "uploaded = files.upload()\n",
    "\n",
    "for fn in uploaded.keys():\n",
    "    print('User uploaded file \"{name}\" with length {length} bytes'.format(name=fn, length=len(uploaded[fn])))\n",
    "\n",
    "# Then move kaggle.json into the folder where the API expects to find it.\n",
    "!mkdir -p ~/.kaggle/ && mv kaggle.json ~/.kaggle/ && chmod 600 ~/.kaggle/kaggle.json"
   ]
  },
  {
   "cell_type": "markdown",
   "metadata": {},
   "source": [
    "### 1.2. Mac/Linux 설정"
   ]
  },
  {
   "cell_type": "code",
   "execution_count": null,
   "metadata": {},
   "outputs": [],
   "source": [
    "# kaggle 파일 위치 이동 필요 (~/.kaggle/kaggle.json)\n",
    "\n",
    "# 파일 권한 부여\n",
    "# !chmod 600 ~/.kaggle/kaggle.json\n",
    "\n",
    "# kaggle 라이브러리 설치\n",
    "# !pip install kaggle"
   ]
  },
  {
   "cell_type": "markdown",
   "metadata": {},
   "source": [
    "### 1.3. 데이터 다운로드"
   ]
  },
  {
   "cell_type": "code",
   "execution_count": null,
   "metadata": {
    "colab": {
     "base_uri": "https://localhost:8080/"
    },
    "id": "GlMXuvcDfTBa",
    "outputId": "a6b5f627-ee2d-4f3c-b364-3c955168f04d"
   },
   "outputs": [
    {
     "name": "stdout",
     "output_type": "stream",
     "text": [
      "Downloading costa-rican-household-poverty-prediction.zip to /content\n",
      "\r",
      "  0% 0.00/2.33M [00:00<?, ?B/s]\n",
      "\r",
      "100% 2.33M/2.33M [00:00<00:00, 169MB/s]\n"
     ]
    }
   ],
   "source": [
    "!kaggle competitions download -c costa-rican-household-poverty-prediction"
   ]
  },
  {
   "cell_type": "code",
   "execution_count": 1,
   "metadata": {
    "colab": {
     "base_uri": "https://localhost:8080/"
    },
    "id": "N3L_ZEx7fTEQ",
    "outputId": "db52bdc9-7a63-4180-ca3e-2a637d97ac85"
   },
   "outputs": [
    {
     "name": "stdout",
     "output_type": "stream",
     "text": [
      "Archive:  costa-rican-household-poverty-prediction.zip\n",
      "  inflating: codebook.csv            \n",
      "  inflating: codebook.xlsx           \n",
      "  inflating: sample_submission.csv   \n",
      "  inflating: sample_submission.csv.zip  \n",
      "  inflating: test.csv                \n",
      "  inflating: test.csv.zip            \n",
      "  inflating: train.csv               \n",
      "  inflating: train.csv.zip           \n"
     ]
    }
   ],
   "source": [
    "!unzip 'costa-rican-household-poverty-prediction.zip'"
   ]
  },
  {
   "cell_type": "markdown",
   "metadata": {},
   "source": [
    "## 2. 추가 라이브러리 다운로드"
   ]
  },
  {
   "cell_type": "code",
   "execution_count": null,
   "metadata": {
    "colab": {
     "base_uri": "https://localhost:8080/",
     "height": 1000
    },
    "id": "Gj3WEYhUfTG9",
    "outputId": "a63728d5-e6f2-4ec1-f7a0-46b27bc7e50d"
   },
   "outputs": [
    {
     "name": "stdout",
     "output_type": "stream",
     "text": [
      "Collecting shap\n",
      "\u001b[?25l  Downloading https://files.pythonhosted.org/packages/b9/f4/c5b95cddae15be80f8e58b25edceca105aa83c0b8c86a1edad24a6af80d3/shap-0.39.0.tar.gz (356kB)\n",
      "\r",
      "\u001b[K     |█                               | 10kB 14.2MB/s eta 0:00:01\r",
      "\u001b[K     |█▉                              | 20kB 20.4MB/s eta 0:00:01\r",
      "\u001b[K     |██▊                             | 30kB 11.1MB/s eta 0:00:01\r",
      "\u001b[K     |███▊                            | 40kB 8.7MB/s eta 0:00:01\r",
      "\u001b[K     |████▋                           | 51kB 5.3MB/s eta 0:00:01\r",
      "\u001b[K     |█████▌                          | 61kB 5.5MB/s eta 0:00:01\r",
      "\u001b[K     |██████▍                         | 71kB 5.9MB/s eta 0:00:01\r",
      "\u001b[K     |███████▍                        | 81kB 6.2MB/s eta 0:00:01\r",
      "\u001b[K     |████████▎                       | 92kB 6.1MB/s eta 0:00:01\r",
      "\u001b[K     |█████████▏                      | 102kB 5.1MB/s eta 0:00:01\r",
      "\u001b[K     |██████████▏                     | 112kB 5.1MB/s eta 0:00:01\r",
      "\u001b[K     |███████████                     | 122kB 5.1MB/s eta 0:00:01\r",
      "\u001b[K     |████████████                    | 133kB 5.1MB/s eta 0:00:01\r",
      "\u001b[K     |████████████▉                   | 143kB 5.1MB/s eta 0:00:01\r",
      "\u001b[K     |█████████████▉                  | 153kB 5.1MB/s eta 0:00:01\r",
      "\u001b[K     |██████████████▊                 | 163kB 5.1MB/s eta 0:00:01\r",
      "\u001b[K     |███████████████▋                | 174kB 5.1MB/s eta 0:00:01\r",
      "\u001b[K     |████████████████▋               | 184kB 5.1MB/s eta 0:00:01\r",
      "\u001b[K     |█████████████████▌              | 194kB 5.1MB/s eta 0:00:01\r",
      "\u001b[K     |██████████████████▍             | 204kB 5.1MB/s eta 0:00:01\r",
      "\u001b[K     |███████████████████▎            | 215kB 5.1MB/s eta 0:00:01\r",
      "\u001b[K     |████████████████████▎           | 225kB 5.1MB/s eta 0:00:01\r",
      "\u001b[K     |█████████████████████▏          | 235kB 5.1MB/s eta 0:00:01\r",
      "\u001b[K     |██████████████████████          | 245kB 5.1MB/s eta 0:00:01\r",
      "\u001b[K     |███████████████████████         | 256kB 5.1MB/s eta 0:00:01\r",
      "\u001b[K     |████████████████████████        | 266kB 5.1MB/s eta 0:00:01\r",
      "\u001b[K     |████████████████████████▉       | 276kB 5.1MB/s eta 0:00:01\r",
      "\u001b[K     |█████████████████████████▊      | 286kB 5.1MB/s eta 0:00:01\r",
      "\u001b[K     |██████████████████████████▊     | 296kB 5.1MB/s eta 0:00:01\r",
      "\u001b[K     |███████████████████████████▋    | 307kB 5.1MB/s eta 0:00:01\r",
      "\u001b[K     |████████████████████████████▌   | 317kB 5.1MB/s eta 0:00:01\r",
      "\u001b[K     |█████████████████████████████▍  | 327kB 5.1MB/s eta 0:00:01\r",
      "\u001b[K     |██████████████████████████████▍ | 337kB 5.1MB/s eta 0:00:01\r",
      "\u001b[K     |███████████████████████████████▎| 348kB 5.1MB/s eta 0:00:01\r",
      "\u001b[K     |████████████████████████████████| 358kB 5.1MB/s \n",
      "\u001b[?25hRequirement already satisfied: numpy in /usr/local/lib/python3.7/dist-packages (from shap) (1.19.5)\n",
      "Requirement already satisfied: scipy in /usr/local/lib/python3.7/dist-packages (from shap) (1.4.1)\n",
      "Requirement already satisfied: scikit-learn in /usr/local/lib/python3.7/dist-packages (from shap) (0.22.2.post1)\n",
      "Requirement already satisfied: pandas in /usr/local/lib/python3.7/dist-packages (from shap) (1.1.5)\n",
      "Requirement already satisfied: tqdm>4.25.0 in /usr/local/lib/python3.7/dist-packages (from shap) (4.41.1)\n",
      "Collecting slicer==0.0.7\n",
      "  Downloading https://files.pythonhosted.org/packages/78/c2/b3f55dfdb8af9812fdb9baf70cacf3b9e82e505b2bd4324d588888b81202/slicer-0.0.7-py3-none-any.whl\n",
      "Requirement already satisfied: numba in /usr/local/lib/python3.7/dist-packages (from shap) (0.51.2)\n",
      "Requirement already satisfied: cloudpickle in /usr/local/lib/python3.7/dist-packages (from shap) (1.3.0)\n",
      "Requirement already satisfied: joblib>=0.11 in /usr/local/lib/python3.7/dist-packages (from scikit-learn->shap) (1.0.1)\n",
      "Requirement already satisfied: python-dateutil>=2.7.3 in /usr/local/lib/python3.7/dist-packages (from pandas->shap) (2.8.1)\n",
      "Requirement already satisfied: pytz>=2017.2 in /usr/local/lib/python3.7/dist-packages (from pandas->shap) (2018.9)\n",
      "Requirement already satisfied: setuptools in /usr/local/lib/python3.7/dist-packages (from numba->shap) (57.0.0)\n",
      "Requirement already satisfied: llvmlite<0.35,>=0.34.0.dev0 in /usr/local/lib/python3.7/dist-packages (from numba->shap) (0.34.0)\n",
      "Requirement already satisfied: six>=1.5 in /usr/local/lib/python3.7/dist-packages (from python-dateutil>=2.7.3->pandas->shap) (1.15.0)\n",
      "Building wheels for collected packages: shap\n",
      "  Building wheel for shap (setup.py) ... \u001b[?25l\u001b[?25hdone\n",
      "  Created wheel for shap: filename=shap-0.39.0-cp37-cp37m-linux_x86_64.whl size=491624 sha256=a7b71d61d70185c1aed6c1a80ed864923eb670ed418b35339035efc5df6b6f96\n",
      "  Stored in directory: /root/.cache/pip/wheels/15/27/f5/a8ab9da52fd159aae6477b5ede6eaaec69fd130fa0fa59f283\n",
      "Successfully built shap\n",
      "Installing collected packages: slicer, shap\n",
      "Successfully installed shap-0.39.0 slicer-0.0.7\n",
      "Collecting featuretools\n",
      "\u001b[?25l  Downloading https://files.pythonhosted.org/packages/32/62/ddee2eb9d55eb2aeb74d044badaa3eba6aa6e0b2672a1dbf6225c2650bbb/featuretools-0.25.0-py3-none-any.whl (299kB)\n",
      "\u001b[K     |████████████████████████████████| 307kB 5.0MB/s \n",
      "\u001b[?25hRequirement already satisfied: numpy>=1.16.6 in /usr/local/lib/python3.7/dist-packages (from featuretools) (1.19.5)\n",
      "Requirement already satisfied: click>=7.0.0 in /usr/local/lib/python3.7/dist-packages (from featuretools) (7.1.2)\n",
      "Requirement already satisfied: dask[dataframe]>=2.12.0 in /usr/local/lib/python3.7/dist-packages (from featuretools) (2.12.0)\n",
      "Collecting pandas<2.0.0,>=1.2.0\n",
      "\u001b[?25l  Downloading https://files.pythonhosted.org/packages/99/f7/01cea7f6c963100f045876eb4aa1817069c5c9eca73d2dbfb5d31ff9a39f/pandas-1.3.0-cp37-cp37m-manylinux_2_5_x86_64.manylinux1_x86_64.whl (10.8MB)\n",
      "\u001b[K     |████████████████████████████████| 10.8MB 31.3MB/s \n",
      "\u001b[?25hRequirement already satisfied: scipy>=1.3.2 in /usr/local/lib/python3.7/dist-packages (from featuretools) (1.4.1)\n",
      "Collecting pyyaml>=5.4\n",
      "\u001b[?25l  Downloading https://files.pythonhosted.org/packages/7a/a5/393c087efdc78091afa2af9f1378762f9821c9c1d7a22c5753fb5ac5f97a/PyYAML-5.4.1-cp37-cp37m-manylinux1_x86_64.whl (636kB)\n",
      "\u001b[K     |████████████████████████████████| 645kB 38.8MB/s \n",
      "\u001b[?25hCollecting psutil>=5.6.6\n",
      "\u001b[?25l  Downloading https://files.pythonhosted.org/packages/84/da/f7efdcf012b51506938553dbe302aecc22f3f43abd5cffa8320e8e0588d5/psutil-5.8.0-cp37-cp37m-manylinux2010_x86_64.whl (296kB)\n",
      "\u001b[K     |████████████████████████████████| 296kB 55.9MB/s \n",
      "\u001b[?25hRequirement already satisfied: tqdm>=4.32.0 in /usr/local/lib/python3.7/dist-packages (from featuretools) (4.41.1)\n",
      "Requirement already satisfied: cloudpickle>=0.4.0 in /usr/local/lib/python3.7/dist-packages (from featuretools) (1.3.0)\n",
      "Collecting distributed>=2.12.0\n",
      "\u001b[?25l  Downloading https://files.pythonhosted.org/packages/14/03/104c2cb8f498165da0037fbe76581678027ea2722bac2775f04aaeafef65/distributed-2021.6.2-py3-none-any.whl (722kB)\n",
      "\u001b[K     |████████████████████████████████| 727kB 33.9MB/s \n",
      "\u001b[?25hCollecting partd>=0.3.10; extra == \"dataframe\"\n",
      "  Downloading https://files.pythonhosted.org/packages/41/94/360258a68b55f47859d72b2d0b2b3cfe0ca4fbbcb81b78812bd00ae86b7c/partd-1.2.0-py3-none-any.whl\n",
      "Collecting fsspec>=0.6.0; extra == \"dataframe\"\n",
      "\u001b[?25l  Downloading https://files.pythonhosted.org/packages/0e/3a/666e63625a19883ae8e1674099e631f9737bd5478c4790e5ad49c5ac5261/fsspec-2021.6.1-py3-none-any.whl (115kB)\n",
      "\u001b[K     |████████████████████████████████| 122kB 52.8MB/s \n",
      "\u001b[?25hRequirement already satisfied: toolz>=0.7.3; extra == \"dataframe\" in /usr/local/lib/python3.7/dist-packages (from dask[dataframe]>=2.12.0->featuretools) (0.11.1)\n",
      "Requirement already satisfied: pytz>=2017.3 in /usr/local/lib/python3.7/dist-packages (from pandas<2.0.0,>=1.2.0->featuretools) (2018.9)\n",
      "Requirement already satisfied: python-dateutil>=2.7.3 in /usr/local/lib/python3.7/dist-packages (from pandas<2.0.0,>=1.2.0->featuretools) (2.8.1)\n",
      "Requirement already satisfied: zict>=0.1.3 in /usr/local/lib/python3.7/dist-packages (from distributed>=2.12.0->featuretools) (2.0.0)\n",
      "Requirement already satisfied: setuptools in /usr/local/lib/python3.7/dist-packages (from distributed>=2.12.0->featuretools) (57.0.0)\n",
      "Requirement already satisfied: tblib>=1.6.0 in /usr/local/lib/python3.7/dist-packages (from distributed>=2.12.0->featuretools) (1.7.0)\n",
      "Requirement already satisfied: msgpack>=0.6.0 in /usr/local/lib/python3.7/dist-packages (from distributed>=2.12.0->featuretools) (1.0.2)\n",
      "Requirement already satisfied: tornado>=5; python_version < \"3.8\" in /usr/local/lib/python3.7/dist-packages (from distributed>=2.12.0->featuretools) (5.1.1)\n",
      "Requirement already satisfied: sortedcontainers!=2.0.0,!=2.0.1 in /usr/local/lib/python3.7/dist-packages (from distributed>=2.12.0->featuretools) (2.4.0)\n",
      "Collecting locket\n",
      "  Downloading https://files.pythonhosted.org/packages/50/b8/e789e45b9b9c2db75e9d9e6ceb022c8d1d7e49b2c085ce8c05600f90a96b/locket-0.2.1-py2.py3-none-any.whl\n",
      "Requirement already satisfied: six>=1.5 in /usr/local/lib/python3.7/dist-packages (from python-dateutil>=2.7.3->pandas<2.0.0,>=1.2.0->featuretools) (1.15.0)\n",
      "Requirement already satisfied: heapdict in /usr/local/lib/python3.7/dist-packages (from zict>=0.1.3->distributed>=2.12.0->featuretools) (1.0.1)\n",
      "\u001b[31mERROR: google-colab 1.0.0 has requirement pandas~=1.1.0; python_version >= \"3.0\", but you'll have pandas 1.3.0 which is incompatible.\u001b[0m\n",
      "\u001b[31mERROR: distributed 2021.6.2 has requirement cloudpickle>=1.5.0, but you'll have cloudpickle 1.3.0 which is incompatible.\u001b[0m\n",
      "\u001b[31mERROR: distributed 2021.6.2 has requirement dask==2021.06.2, but you'll have dask 2.12.0 which is incompatible.\u001b[0m\n",
      "Installing collected packages: pandas, pyyaml, psutil, distributed, featuretools, locket, partd, fsspec\n",
      "  Found existing installation: pandas 1.1.5\n",
      "    Uninstalling pandas-1.1.5:\n",
      "      Successfully uninstalled pandas-1.1.5\n",
      "  Found existing installation: PyYAML 3.13\n",
      "    Uninstalling PyYAML-3.13:\n",
      "      Successfully uninstalled PyYAML-3.13\n",
      "  Found existing installation: psutil 5.4.8\n",
      "    Uninstalling psutil-5.4.8:\n",
      "      Successfully uninstalled psutil-5.4.8\n",
      "  Found existing installation: distributed 1.25.3\n",
      "    Uninstalling distributed-1.25.3:\n",
      "      Successfully uninstalled distributed-1.25.3\n",
      "Successfully installed distributed-2021.6.2 featuretools-0.25.0 fsspec-2021.6.1 locket-0.2.1 pandas-1.3.0 partd-1.2.0 psutil-5.8.0 pyyaml-5.4.1\n"
     ]
    },
    {
     "data": {
      "application/vnd.colab-display-data+json": {
       "pip_warning": {
        "packages": [
         "pandas",
         "psutil"
        ]
       }
      }
     },
     "metadata": {
      "tags": []
     },
     "output_type": "display_data"
    }
   ],
   "source": [
    "# colab은 설치 후 커널 재시작 필요\n",
    "# !pip install shap\n",
    "# !pip install featuretools"
   ]
  },
  {
   "cell_type": "code",
   "execution_count": null,
   "metadata": {},
   "outputs": [],
   "source": [
    "# xgboost, lightgbm 설치 참조 (Mac 오류 발생 시)\n",
    "# colab 은 기본으로 설치되어있음\n",
    "# docker로 리눅스 띄워서 하는 것도 방법\n",
    "# !brew install libomp  # gcc 오류 해결 해줌\n",
    "# !pip install lightgbm\n",
    "# !pip install xgboost"
   ]
  },
  {
   "cell_type": "markdown",
   "metadata": {
    "id": "m6tEZuZYMD8Z"
   },
   "source": [
    "로컬에서 라이브러리 설치가 되어있고 데이터가 다운되어있다면 위 과정 불필요"
   ]
  },
  {
   "cell_type": "markdown",
   "metadata": {
    "id": "IkwekIkxI5VO"
   },
   "source": [
    "## 3. 필요 라이브러리 import"
   ]
  },
  {
   "cell_type": "code",
   "execution_count": 2,
   "metadata": {
    "id": "XXh555IrfXNk"
   },
   "outputs": [],
   "source": [
    "import pandas as pd\n",
    "import numpy as np\n",
    "\n",
    "import seaborn as sns\n",
    "import matplotlib.pyplot as plt\n",
    "\n",
    "sns.set(font_scale=2.2)\n",
    "plt.style.use('seaborn')\n",
    "\n",
    "from sklearn.preprocessing import LabelEncoder, MinMaxScaler, StandardScaler, OneHotEncoder\n",
    "from sklearn.model_selection import StratifiedKFold, train_test_split, ShuffleSplit\n",
    "from sklearn.metrics import f1_score\n",
    "import itertools\n",
    "import lightgbm as lgb\n",
    "import xgboost as xgb\n",
    "from xgboost import XGBClassifier\n",
    "import shap\n",
    "from tqdm import tqdm\n",
    "import featuretools as ft\n",
    "import warnings\n",
    "warnings.filterwarnings('ignore')\n",
    "import time"
   ]
  },
  {
   "cell_type": "markdown",
   "metadata": {},
   "source": [
    "# 분석"
   ]
  },
  {
   "cell_type": "markdown",
   "metadata": {},
   "source": [
    "이유한님 https://www.kaggle.com/youhanlee/3250feats-532-feats-using-shap-lb-0-436 참조"
   ]
  },
  {
   "cell_type": "markdown",
   "metadata": {},
   "source": [
    "**경로 설정**"
   ]
  },
  {
   "cell_type": "code",
   "execution_count": 1,
   "metadata": {},
   "outputs": [],
   "source": [
    "data_path = \"./data/\"\n",
    "result_path = \"./result/\""
   ]
  },
  {
   "cell_type": "markdown",
   "metadata": {},
   "source": [
    "## 1. EDA"
   ]
  },
  {
   "cell_type": "markdown",
   "metadata": {},
   "source": [
    "### 1.1. 데이터셋 확인"
   ]
  },
  {
   "cell_type": "code",
   "execution_count": 3,
   "metadata": {
    "id": "hDtcfIRif4aE"
   },
   "outputs": [],
   "source": [
    "df_train = pd.read_csv(data_path + 'train.csv')\n",
    "df_test = pd.read_csv(data_path + 'test.csv')"
   ]
  },
  {
   "cell_type": "code",
   "execution_count": 4,
   "metadata": {
    "colab": {
     "base_uri": "https://localhost:8080/",
     "height": 253
    },
    "id": "PKWWVZ-Gf4c_",
    "outputId": "f5966515-92f7-4f44-f9be-cbd1e39658ab"
   },
   "outputs": [
    {
     "name": "stdout",
     "output_type": "stream",
     "text": [
      "(9557, 143)\n"
     ]
    },
    {
     "data": {
      "text/html": [
       "<div>\n",
       "<style scoped>\n",
       "    .dataframe tbody tr th:only-of-type {\n",
       "        vertical-align: middle;\n",
       "    }\n",
       "\n",
       "    .dataframe tbody tr th {\n",
       "        vertical-align: top;\n",
       "    }\n",
       "\n",
       "    .dataframe thead th {\n",
       "        text-align: right;\n",
       "    }\n",
       "</style>\n",
       "<table border=\"1\" class=\"dataframe\">\n",
       "  <thead>\n",
       "    <tr style=\"text-align: right;\">\n",
       "      <th></th>\n",
       "      <th>Id</th>\n",
       "      <th>v2a1</th>\n",
       "      <th>hacdor</th>\n",
       "      <th>rooms</th>\n",
       "      <th>hacapo</th>\n",
       "      <th>v14a</th>\n",
       "      <th>refrig</th>\n",
       "      <th>v18q</th>\n",
       "      <th>v18q1</th>\n",
       "      <th>r4h1</th>\n",
       "      <th>...</th>\n",
       "      <th>SQBescolari</th>\n",
       "      <th>SQBage</th>\n",
       "      <th>SQBhogar_total</th>\n",
       "      <th>SQBedjefe</th>\n",
       "      <th>SQBhogar_nin</th>\n",
       "      <th>SQBovercrowding</th>\n",
       "      <th>SQBdependency</th>\n",
       "      <th>SQBmeaned</th>\n",
       "      <th>agesq</th>\n",
       "      <th>Target</th>\n",
       "    </tr>\n",
       "  </thead>\n",
       "  <tbody>\n",
       "    <tr>\n",
       "      <th>0</th>\n",
       "      <td>ID_279628684</td>\n",
       "      <td>190000.0</td>\n",
       "      <td>0</td>\n",
       "      <td>3</td>\n",
       "      <td>0</td>\n",
       "      <td>1</td>\n",
       "      <td>1</td>\n",
       "      <td>0</td>\n",
       "      <td>NaN</td>\n",
       "      <td>0</td>\n",
       "      <td>...</td>\n",
       "      <td>100</td>\n",
       "      <td>1849</td>\n",
       "      <td>1</td>\n",
       "      <td>100</td>\n",
       "      <td>0</td>\n",
       "      <td>1.000000</td>\n",
       "      <td>0.0</td>\n",
       "      <td>100.0</td>\n",
       "      <td>1849</td>\n",
       "      <td>4</td>\n",
       "    </tr>\n",
       "    <tr>\n",
       "      <th>1</th>\n",
       "      <td>ID_f29eb3ddd</td>\n",
       "      <td>135000.0</td>\n",
       "      <td>0</td>\n",
       "      <td>4</td>\n",
       "      <td>0</td>\n",
       "      <td>1</td>\n",
       "      <td>1</td>\n",
       "      <td>1</td>\n",
       "      <td>1.0</td>\n",
       "      <td>0</td>\n",
       "      <td>...</td>\n",
       "      <td>144</td>\n",
       "      <td>4489</td>\n",
       "      <td>1</td>\n",
       "      <td>144</td>\n",
       "      <td>0</td>\n",
       "      <td>1.000000</td>\n",
       "      <td>64.0</td>\n",
       "      <td>144.0</td>\n",
       "      <td>4489</td>\n",
       "      <td>4</td>\n",
       "    </tr>\n",
       "    <tr>\n",
       "      <th>2</th>\n",
       "      <td>ID_68de51c94</td>\n",
       "      <td>NaN</td>\n",
       "      <td>0</td>\n",
       "      <td>8</td>\n",
       "      <td>0</td>\n",
       "      <td>1</td>\n",
       "      <td>1</td>\n",
       "      <td>0</td>\n",
       "      <td>NaN</td>\n",
       "      <td>0</td>\n",
       "      <td>...</td>\n",
       "      <td>121</td>\n",
       "      <td>8464</td>\n",
       "      <td>1</td>\n",
       "      <td>0</td>\n",
       "      <td>0</td>\n",
       "      <td>0.250000</td>\n",
       "      <td>64.0</td>\n",
       "      <td>121.0</td>\n",
       "      <td>8464</td>\n",
       "      <td>4</td>\n",
       "    </tr>\n",
       "    <tr>\n",
       "      <th>3</th>\n",
       "      <td>ID_d671db89c</td>\n",
       "      <td>180000.0</td>\n",
       "      <td>0</td>\n",
       "      <td>5</td>\n",
       "      <td>0</td>\n",
       "      <td>1</td>\n",
       "      <td>1</td>\n",
       "      <td>1</td>\n",
       "      <td>1.0</td>\n",
       "      <td>0</td>\n",
       "      <td>...</td>\n",
       "      <td>81</td>\n",
       "      <td>289</td>\n",
       "      <td>16</td>\n",
       "      <td>121</td>\n",
       "      <td>4</td>\n",
       "      <td>1.777778</td>\n",
       "      <td>1.0</td>\n",
       "      <td>121.0</td>\n",
       "      <td>289</td>\n",
       "      <td>4</td>\n",
       "    </tr>\n",
       "    <tr>\n",
       "      <th>4</th>\n",
       "      <td>ID_d56d6f5f5</td>\n",
       "      <td>180000.0</td>\n",
       "      <td>0</td>\n",
       "      <td>5</td>\n",
       "      <td>0</td>\n",
       "      <td>1</td>\n",
       "      <td>1</td>\n",
       "      <td>1</td>\n",
       "      <td>1.0</td>\n",
       "      <td>0</td>\n",
       "      <td>...</td>\n",
       "      <td>121</td>\n",
       "      <td>1369</td>\n",
       "      <td>16</td>\n",
       "      <td>121</td>\n",
       "      <td>4</td>\n",
       "      <td>1.777778</td>\n",
       "      <td>1.0</td>\n",
       "      <td>121.0</td>\n",
       "      <td>1369</td>\n",
       "      <td>4</td>\n",
       "    </tr>\n",
       "  </tbody>\n",
       "</table>\n",
       "<p>5 rows × 143 columns</p>\n",
       "</div>"
      ],
      "text/plain": [
       "             Id      v2a1  hacdor  rooms  hacapo  v14a  refrig  v18q  v18q1  \\\n",
       "0  ID_279628684  190000.0       0      3       0     1       1     0    NaN   \n",
       "1  ID_f29eb3ddd  135000.0       0      4       0     1       1     1    1.0   \n",
       "2  ID_68de51c94       NaN       0      8       0     1       1     0    NaN   \n",
       "3  ID_d671db89c  180000.0       0      5       0     1       1     1    1.0   \n",
       "4  ID_d56d6f5f5  180000.0       0      5       0     1       1     1    1.0   \n",
       "\n",
       "   r4h1  ...  SQBescolari  SQBage  SQBhogar_total  SQBedjefe  SQBhogar_nin  \\\n",
       "0     0  ...          100    1849               1        100             0   \n",
       "1     0  ...          144    4489               1        144             0   \n",
       "2     0  ...          121    8464               1          0             0   \n",
       "3     0  ...           81     289              16        121             4   \n",
       "4     0  ...          121    1369              16        121             4   \n",
       "\n",
       "   SQBovercrowding  SQBdependency  SQBmeaned  agesq  Target  \n",
       "0         1.000000            0.0      100.0   1849       4  \n",
       "1         1.000000           64.0      144.0   4489       4  \n",
       "2         0.250000           64.0      121.0   8464       4  \n",
       "3         1.777778            1.0      121.0    289       4  \n",
       "4         1.777778            1.0      121.0   1369       4  \n",
       "\n",
       "[5 rows x 143 columns]"
      ]
     },
     "execution_count": 4,
     "metadata": {},
     "output_type": "execute_result"
    }
   ],
   "source": [
    "print(df_train.shape)\n",
    "df_train.head()"
   ]
  },
  {
   "cell_type": "code",
   "execution_count": 5,
   "metadata": {
    "colab": {
     "base_uri": "https://localhost:8080/",
     "height": 253
    },
    "id": "TG3T3knl-NXh",
    "outputId": "c6a52398-5aec-42e6-8e59-83580eb2c9d8"
   },
   "outputs": [
    {
     "name": "stdout",
     "output_type": "stream",
     "text": [
      "(23856, 142)\n"
     ]
    },
    {
     "data": {
      "text/html": [
       "<div>\n",
       "<style scoped>\n",
       "    .dataframe tbody tr th:only-of-type {\n",
       "        vertical-align: middle;\n",
       "    }\n",
       "\n",
       "    .dataframe tbody tr th {\n",
       "        vertical-align: top;\n",
       "    }\n",
       "\n",
       "    .dataframe thead th {\n",
       "        text-align: right;\n",
       "    }\n",
       "</style>\n",
       "<table border=\"1\" class=\"dataframe\">\n",
       "  <thead>\n",
       "    <tr style=\"text-align: right;\">\n",
       "      <th></th>\n",
       "      <th>Id</th>\n",
       "      <th>v2a1</th>\n",
       "      <th>hacdor</th>\n",
       "      <th>rooms</th>\n",
       "      <th>hacapo</th>\n",
       "      <th>v14a</th>\n",
       "      <th>refrig</th>\n",
       "      <th>v18q</th>\n",
       "      <th>v18q1</th>\n",
       "      <th>r4h1</th>\n",
       "      <th>...</th>\n",
       "      <th>age</th>\n",
       "      <th>SQBescolari</th>\n",
       "      <th>SQBage</th>\n",
       "      <th>SQBhogar_total</th>\n",
       "      <th>SQBedjefe</th>\n",
       "      <th>SQBhogar_nin</th>\n",
       "      <th>SQBovercrowding</th>\n",
       "      <th>SQBdependency</th>\n",
       "      <th>SQBmeaned</th>\n",
       "      <th>agesq</th>\n",
       "    </tr>\n",
       "  </thead>\n",
       "  <tbody>\n",
       "    <tr>\n",
       "      <th>0</th>\n",
       "      <td>ID_2f6873615</td>\n",
       "      <td>NaN</td>\n",
       "      <td>0</td>\n",
       "      <td>5</td>\n",
       "      <td>0</td>\n",
       "      <td>1</td>\n",
       "      <td>1</td>\n",
       "      <td>0</td>\n",
       "      <td>NaN</td>\n",
       "      <td>1</td>\n",
       "      <td>...</td>\n",
       "      <td>4</td>\n",
       "      <td>0</td>\n",
       "      <td>16</td>\n",
       "      <td>9</td>\n",
       "      <td>0</td>\n",
       "      <td>1</td>\n",
       "      <td>2.25</td>\n",
       "      <td>0.25</td>\n",
       "      <td>272.25</td>\n",
       "      <td>16</td>\n",
       "    </tr>\n",
       "    <tr>\n",
       "      <th>1</th>\n",
       "      <td>ID_1c78846d2</td>\n",
       "      <td>NaN</td>\n",
       "      <td>0</td>\n",
       "      <td>5</td>\n",
       "      <td>0</td>\n",
       "      <td>1</td>\n",
       "      <td>1</td>\n",
       "      <td>0</td>\n",
       "      <td>NaN</td>\n",
       "      <td>1</td>\n",
       "      <td>...</td>\n",
       "      <td>41</td>\n",
       "      <td>256</td>\n",
       "      <td>1681</td>\n",
       "      <td>9</td>\n",
       "      <td>0</td>\n",
       "      <td>1</td>\n",
       "      <td>2.25</td>\n",
       "      <td>0.25</td>\n",
       "      <td>272.25</td>\n",
       "      <td>1681</td>\n",
       "    </tr>\n",
       "    <tr>\n",
       "      <th>2</th>\n",
       "      <td>ID_e5442cf6a</td>\n",
       "      <td>NaN</td>\n",
       "      <td>0</td>\n",
       "      <td>5</td>\n",
       "      <td>0</td>\n",
       "      <td>1</td>\n",
       "      <td>1</td>\n",
       "      <td>0</td>\n",
       "      <td>NaN</td>\n",
       "      <td>1</td>\n",
       "      <td>...</td>\n",
       "      <td>41</td>\n",
       "      <td>289</td>\n",
       "      <td>1681</td>\n",
       "      <td>9</td>\n",
       "      <td>0</td>\n",
       "      <td>1</td>\n",
       "      <td>2.25</td>\n",
       "      <td>0.25</td>\n",
       "      <td>272.25</td>\n",
       "      <td>1681</td>\n",
       "    </tr>\n",
       "    <tr>\n",
       "      <th>3</th>\n",
       "      <td>ID_a8db26a79</td>\n",
       "      <td>NaN</td>\n",
       "      <td>0</td>\n",
       "      <td>14</td>\n",
       "      <td>0</td>\n",
       "      <td>1</td>\n",
       "      <td>1</td>\n",
       "      <td>1</td>\n",
       "      <td>1.0</td>\n",
       "      <td>0</td>\n",
       "      <td>...</td>\n",
       "      <td>59</td>\n",
       "      <td>256</td>\n",
       "      <td>3481</td>\n",
       "      <td>1</td>\n",
       "      <td>256</td>\n",
       "      <td>0</td>\n",
       "      <td>1.00</td>\n",
       "      <td>0.00</td>\n",
       "      <td>256.00</td>\n",
       "      <td>3481</td>\n",
       "    </tr>\n",
       "    <tr>\n",
       "      <th>4</th>\n",
       "      <td>ID_a62966799</td>\n",
       "      <td>175000.0</td>\n",
       "      <td>0</td>\n",
       "      <td>4</td>\n",
       "      <td>0</td>\n",
       "      <td>1</td>\n",
       "      <td>1</td>\n",
       "      <td>1</td>\n",
       "      <td>1.0</td>\n",
       "      <td>0</td>\n",
       "      <td>...</td>\n",
       "      <td>18</td>\n",
       "      <td>121</td>\n",
       "      <td>324</td>\n",
       "      <td>1</td>\n",
       "      <td>0</td>\n",
       "      <td>1</td>\n",
       "      <td>0.25</td>\n",
       "      <td>64.00</td>\n",
       "      <td>NaN</td>\n",
       "      <td>324</td>\n",
       "    </tr>\n",
       "  </tbody>\n",
       "</table>\n",
       "<p>5 rows × 142 columns</p>\n",
       "</div>"
      ],
      "text/plain": [
       "             Id      v2a1  hacdor  rooms  hacapo  v14a  refrig  v18q  v18q1  \\\n",
       "0  ID_2f6873615       NaN       0      5       0     1       1     0    NaN   \n",
       "1  ID_1c78846d2       NaN       0      5       0     1       1     0    NaN   \n",
       "2  ID_e5442cf6a       NaN       0      5       0     1       1     0    NaN   \n",
       "3  ID_a8db26a79       NaN       0     14       0     1       1     1    1.0   \n",
       "4  ID_a62966799  175000.0       0      4       0     1       1     1    1.0   \n",
       "\n",
       "   r4h1  ...  age  SQBescolari  SQBage  SQBhogar_total  SQBedjefe  \\\n",
       "0     1  ...    4            0      16               9          0   \n",
       "1     1  ...   41          256    1681               9          0   \n",
       "2     1  ...   41          289    1681               9          0   \n",
       "3     0  ...   59          256    3481               1        256   \n",
       "4     0  ...   18          121     324               1          0   \n",
       "\n",
       "   SQBhogar_nin  SQBovercrowding  SQBdependency  SQBmeaned  agesq  \n",
       "0             1             2.25           0.25     272.25     16  \n",
       "1             1             2.25           0.25     272.25   1681  \n",
       "2             1             2.25           0.25     272.25   1681  \n",
       "3             0             1.00           0.00     256.00   3481  \n",
       "4             1             0.25          64.00        NaN    324  \n",
       "\n",
       "[5 rows x 142 columns]"
      ]
     },
     "execution_count": 5,
     "metadata": {},
     "output_type": "execute_result"
    }
   ],
   "source": [
    "print(df_test.shape)\n",
    "df_test.head()"
   ]
  },
  {
   "cell_type": "code",
   "execution_count": 6,
   "metadata": {},
   "outputs": [
    {
     "data": {
      "text/html": [
       "<div>\n",
       "<style scoped>\n",
       "    .dataframe tbody tr th:only-of-type {\n",
       "        vertical-align: middle;\n",
       "    }\n",
       "\n",
       "    .dataframe tbody tr th {\n",
       "        vertical-align: top;\n",
       "    }\n",
       "\n",
       "    .dataframe thead th {\n",
       "        text-align: right;\n",
       "    }\n",
       "</style>\n",
       "<table border=\"1\" class=\"dataframe\">\n",
       "  <thead>\n",
       "    <tr style=\"text-align: right;\">\n",
       "      <th></th>\n",
       "      <th>Variable description</th>\n",
       "    </tr>\n",
       "    <tr>\n",
       "      <th>Variable name</th>\n",
       "      <th></th>\n",
       "    </tr>\n",
       "  </thead>\n",
       "  <tbody>\n",
       "    <tr>\n",
       "      <th>v2a1</th>\n",
       "      <td>Monthly rent payment</td>\n",
       "    </tr>\n",
       "    <tr>\n",
       "      <th>hacdor</th>\n",
       "      <td>=1 Overcrowding by bedrooms</td>\n",
       "    </tr>\n",
       "    <tr>\n",
       "      <th>rooms</th>\n",
       "      <td>number of all rooms in the house</td>\n",
       "    </tr>\n",
       "    <tr>\n",
       "      <th>hacapo</th>\n",
       "      <td>=1 Overcrowding by rooms</td>\n",
       "    </tr>\n",
       "    <tr>\n",
       "      <th>v14a</th>\n",
       "      <td>=1 has toilet in the household</td>\n",
       "    </tr>\n",
       "    <tr>\n",
       "      <th>...</th>\n",
       "      <td>...</td>\n",
       "    </tr>\n",
       "    <tr>\n",
       "      <th>SQBhogar_nin</th>\n",
       "      <td>hogar_nin squared</td>\n",
       "    </tr>\n",
       "    <tr>\n",
       "      <th>SQBovercrowding</th>\n",
       "      <td>overcrowding squared</td>\n",
       "    </tr>\n",
       "    <tr>\n",
       "      <th>SQBdependency</th>\n",
       "      <td>dependency squared</td>\n",
       "    </tr>\n",
       "    <tr>\n",
       "      <th>SQBmeaned</th>\n",
       "      <td>meaned squared</td>\n",
       "    </tr>\n",
       "    <tr>\n",
       "      <th>agesq</th>\n",
       "      <td>Age squared</td>\n",
       "    </tr>\n",
       "  </tbody>\n",
       "</table>\n",
       "<p>141 rows × 1 columns</p>\n",
       "</div>"
      ],
      "text/plain": [
       "                              Variable description\n",
       "Variable name                                     \n",
       "v2a1                          Monthly rent payment\n",
       "hacdor                 =1 Overcrowding by bedrooms\n",
       "rooms             number of all rooms in the house\n",
       "hacapo                    =1 Overcrowding by rooms\n",
       "v14a                =1 has toilet in the household\n",
       "...                                            ...\n",
       "SQBhogar_nin                     hogar_nin squared\n",
       "SQBovercrowding               overcrowding squared\n",
       "SQBdependency                   dependency squared\n",
       "SQBmeaned                           meaned squared\n",
       "agesq                                  Age squared\n",
       "\n",
       "[141 rows x 1 columns]"
      ]
     },
     "execution_count": 6,
     "metadata": {},
     "output_type": "execute_result"
    }
   ],
   "source": [
    "# 컬럼 dictionary\n",
    "df_codebook = pd.read_csv(data_path + \"codebook.csv\")\n",
    "df_codebook.set_index(\"Variable name\", inplace=True)\n",
    "df_codebook"
   ]
  },
  {
   "cell_type": "markdown",
   "metadata": {},
   "source": [
    "### 1.2. Null 값 체크"
   ]
  },
  {
   "cell_type": "code",
   "execution_count": 7,
   "metadata": {
    "colab": {
     "base_uri": "https://localhost:8080/"
    },
    "id": "m7lCUtEZfXQP",
    "outputId": "ca0f7dd4-638e-49d5-826c-48605c28c92a"
   },
   "outputs": [
    {
     "name": "stdout",
     "output_type": "stream",
     "text": [
      "--- df_train\n",
      "rez_esc      7928\n",
      "v18q1        7342\n",
      "v2a1         6860\n",
      "SQBmeaned       5\n",
      "meaneduc        5\n",
      "dtype: int64 \n",
      "\n",
      "--- df_test\n",
      "rez_esc      19653\n",
      "v18q1        18126\n",
      "v2a1         17403\n",
      "meaneduc        31\n",
      "SQBmeaned       31\n",
      "dtype: int64\n"
     ]
    }
   ],
   "source": [
    "# 빈 값 체크\n",
    "# train\n",
    "print('---', 'df_train')\n",
    "df_train_null_cnt = df_train.isnull().sum().sort_values(ascending=False)\n",
    "print(df_train_null_cnt[df_train_null_cnt > 0], '\\n')\n",
    "\n",
    "# test\n",
    "print('---', 'df_test')\n",
    "df_test_null_cnt = df_test.isnull().sum().sort_values(ascending=False)\n",
    "print(df_test_null_cnt[df_test_null_cnt > 0])"
   ]
  },
  {
   "cell_type": "code",
   "execution_count": 8,
   "metadata": {
    "colab": {
     "base_uri": "https://localhost:8080/"
    },
    "id": "MxZzBpwqj-ae",
    "outputId": "b191abde-c6d5-49ba-b1f4-c333b234449d"
   },
   "outputs": [
    {
     "name": "stdout",
     "output_type": "stream",
     "text": [
      "--- df_train\n",
      "Series([], dtype: int64) \n",
      "\n",
      "--- df_test\n",
      "Series([], dtype: int64) \n",
      "\n"
     ]
    }
   ],
   "source": [
    "# inf 값 체크 (optional)\n",
    "# train\n",
    "print('---', 'df_train')\n",
    "df_train_inf_cnt = df_train.isin([np.inf, -np.inf]).sum().sort_values(ascending=False)\n",
    "print(df_train_inf_cnt[df_train_inf_cnt > 0], '\\n')\n",
    "\n",
    "# test\n",
    "print('---', 'df_test')\n",
    "df_test_inf_cnt = df_test.isin([np.inf, -np.inf]).sum().sort_values(ascending=False)\n",
    "print(df_test_inf_cnt[df_test_inf_cnt > 0], '\\n')"
   ]
  },
  {
   "cell_type": "markdown",
   "metadata": {},
   "source": [
    "### 1.3. Null 값 수정"
   ]
  },
  {
   "cell_type": "markdown",
   "metadata": {},
   "source": [
    "rez_esc, v18q1, v2a1, SQBmeaned, meaneduc 컬럼에 대한 null 값 수정 필요\n"
   ]
  },
  {
   "cell_type": "code",
   "execution_count": 9,
   "metadata": {},
   "outputs": [],
   "source": [
    "def inspect_var(df, df_code, var_name):\n",
    "    print('---', 'Variable description')\n",
    "    print(df_code.loc[var_name][0])\n",
    "    print('')\n",
    "    print('---', 'Variable sample')\n",
    "    print(df[var_name])\n",
    "    print('')\n",
    "    print('---', 'Variable unique values')\n",
    "    print(df[var_name].unique())\n",
    "    print('')\n",
    "    print('---', 'Variable value counts')\n",
    "    print(\"-- NaN value counts: \", df[var_name].isnull().sum())\n",
    "    print(df[var_name].value_counts())\n",
    "    return"
   ]
  },
  {
   "cell_type": "markdown",
   "metadata": {},
   "source": [
    "<b>rez_esc</b>"
   ]
  },
  {
   "cell_type": "code",
   "execution_count": 10,
   "metadata": {},
   "outputs": [
    {
     "name": "stdout",
     "output_type": "stream",
     "text": [
      "--- Variable description\n",
      "Years behind in school\n",
      "\n",
      "--- Variable sample\n",
      "0       NaN\n",
      "1       NaN\n",
      "2       NaN\n",
      "3       1.0\n",
      "4       NaN\n",
      "       ... \n",
      "9552    NaN\n",
      "9553    NaN\n",
      "9554    NaN\n",
      "9555    NaN\n",
      "9556    NaN\n",
      "Name: rez_esc, Length: 9557, dtype: float64\n",
      "\n",
      "--- Variable unique values\n",
      "[nan  1.  0.  3.  2.  4.  5.]\n",
      "\n",
      "--- Variable value counts\n",
      "-- NaN value counts:  7928\n",
      "0.0    1211\n",
      "1.0     227\n",
      "2.0      98\n",
      "3.0      55\n",
      "4.0      29\n",
      "5.0       9\n",
      "Name: rez_esc, dtype: int64\n"
     ]
    }
   ],
   "source": [
    "inspect_var(df_train, df_codebook, \"rez_esc\")"
   ]
  },
  {
   "cell_type": "code",
   "execution_count": 11,
   "metadata": {},
   "outputs": [],
   "source": [
    "# nan 값을 0으로 대체\n",
    "df_train['rez_esc'].fillna(0, inplace=True)\n",
    "df_test['rez_esc'].fillna(0, inplace=True)"
   ]
  },
  {
   "cell_type": "markdown",
   "metadata": {},
   "source": [
    "**SQBmeaned**"
   ]
  },
  {
   "cell_type": "code",
   "execution_count": 12,
   "metadata": {},
   "outputs": [
    {
     "name": "stdout",
     "output_type": "stream",
     "text": [
      "--- Variable description\n",
      "meaned squared\n",
      "\n",
      "--- Variable sample\n",
      "0       100.0000\n",
      "1       144.0000\n",
      "2       121.0000\n",
      "3       121.0000\n",
      "4       121.0000\n",
      "          ...   \n",
      "9552     68.0625\n",
      "9553     68.0625\n",
      "9554     68.0625\n",
      "9555     68.0625\n",
      "9556     68.0625\n",
      "Name: SQBmeaned, Length: 9557, dtype: float64\n",
      "\n",
      "--- Variable unique values\n",
      "[1.0000000e+02 1.4400000e+02 1.2100000e+02 5.2900000e+02 9.0250000e+01\n",
      " 2.8900000e+02 1.8225000e+02 1.0677777e+02 2.2500000e+02 4.4444443e+01\n",
      " 2.7562500e+01 4.9000000e+01 2.4025000e+02 8.1000000e+01 1.6900000e+02\n",
      " 1.9600000e+02 2.7225000e+02 2.0544444e+02 8.7111107e+01 4.2250000e+01\n",
      " 3.6000000e+01 6.4000000e+01 1.6000000e+01 1.3225000e+02 1.6256250e+02\n",
      " 1.5625000e+02 3.0250000e+01 6.0493824e+01 5.6250000e+01 2.0250000e+01\n",
      " 1.2844444e+02 3.9062500e+01 2.5600000e+02 3.6100000e+02 2.5000000e+01\n",
      " 1.5006250e+02 3.2111111e+01 9.3444450e+01 4.0000000e+00 1.1025000e+02\n",
      " 1.2995999e+02 1.3806250e+02 1.8677779e+02 6.2500000e+00 7.5111115e+01\n",
      " 6.0062500e+01 3.2400000e+02 2.1025000e+02 7.2250000e+01 1.0000000e+00\n",
      " 3.9510201e+01 1.0506250e+02 1.2250000e+01 1.8777779e+01 6.9444443e+01\n",
      " 2.0164000e+02 3.4225000e+02 4.4100000e+02 2.1777777e+01 3.0625000e+02\n",
      " 8.5562500e+01 9.5062500e+01 5.8777775e+01 7.3960007e+01 2.4544446e+02\n",
      " 1.3611111e+02 2.8444447e+01 4.5562500e+01 1.1236001e+02 9.0000000e+00\n",
      " 4.0000000e+02 1.6044446e+02 1.2656250e+02 5.2562500e+01 4.0111115e+01\n",
      " 1.3444445e+01 1.5211110e+02 7.6562500e+01 2.1511111e+02 3.0044446e+02\n",
      " 4.6225000e+02 0.0000000e+00 7.7440002e+01 1.1377779e+02 1.8906250e+02\n",
      " 1.7777777e+02 2.6677780e+02 5.3777779e+01           nan 1.0815999e+02\n",
      " 4.2025000e+02 5.7759998e+01 2.3511110e+02 1.8062500e+01 1.1556250e+02\n",
      " 7.8400000e+02 3.1211108e+02 1.7556250e+02 2.2500000e+00 3.3062500e+01\n",
      " 6.8062500e+01 4.8400000e+02 5.4444442e+00 1.3456001e+02 1.2543999e+02\n",
      " 8.4100000e+02 1.1664001e+02 2.1756250e+02 7.0559990e+01 7.1111116e+00\n",
      " 4.5938271e+01 6.2500000e+02 2.3256250e+02 2.1160000e+01 2.4806250e+02\n",
      " 1.1111111e+01 3.1040819e+01 7.5625000e+00 9.2160004e+01 6.7239998e+01\n",
      " 1.7639997e+01 2.0306250e+02 5.5225000e+02 9.1612236e+01 1.6384001e+02\n",
      " 6.0025000e+02 5.1839996e+01 4.4444448e-01 3.4027779e+01 2.2562500e+01\n",
      " 6.0840004e+01 1.2469445e+02 2.5000000e-01 1.9044000e+02 1.0403999e+02\n",
      " 8.8359993e+01 1.0240001e+01 1.8496001e+02 7.2900000e+02 1.4440000e+01\n",
      " 2.7039997e+01 1.3690000e+03 1.7777779e+00 1.4062500e+01 8.4639999e+01\n",
      " 1.7423999e+02 9.6040001e+01 5.4760002e+01 6.2015625e+01 7.8448975e+01\n",
      " 3.1359999e+01 4.0960003e+01 1.1111112e-01 2.9160002e+01 1.0240000e+03\n",
      " 1.2959999e+01]\n",
      "\n",
      "--- Variable value counts\n",
      "-- NaN value counts:  5\n",
      "36.000000      846\n",
      "121.000000     491\n",
      "81.000000      398\n",
      "72.250000      341\n",
      "100.000000     330\n",
      "              ... \n",
      "552.250000       3\n",
      "1369.000000      3\n",
      "0.111111         3\n",
      "1024.000000      2\n",
      "729.000000       2\n",
      "Name: SQBmeaned, Length: 155, dtype: int64\n"
     ]
    }
   ],
   "source": [
    "inspect_var(df_train, df_codebook, \"SQBmeaned\")"
   ]
  },
  {
   "cell_type": "code",
   "execution_count": 13,
   "metadata": {},
   "outputs": [],
   "source": [
    "# nan 값을 0으로 대체\n",
    "df_train['SQBmeaned'].fillna(0, inplace=True)\n",
    "df_test['SQBmeaned'].fillna(0, inplace=True)"
   ]
  },
  {
   "cell_type": "markdown",
   "metadata": {},
   "source": [
    "**mean_educ**"
   ]
  },
  {
   "cell_type": "code",
   "execution_count": 14,
   "metadata": {},
   "outputs": [
    {
     "name": "stdout",
     "output_type": "stream",
     "text": [
      "--- Variable description\n",
      "average years of education for adults (18+)\n",
      "\n",
      "--- Variable sample\n",
      "0       10.00\n",
      "1       12.00\n",
      "2       11.00\n",
      "3       11.00\n",
      "4       11.00\n",
      "        ...  \n",
      "9552     8.25\n",
      "9553     8.25\n",
      "9554     8.25\n",
      "9555     8.25\n",
      "9556     8.25\n",
      "Name: meaneduc, Length: 9557, dtype: float64\n",
      "\n",
      "--- Variable unique values\n",
      "[10.         12.         11.         23.          9.5        17.\n",
      " 13.5        10.333333   15.          6.6666665   5.25        7.\n",
      " 15.5         9.         13.         14.         16.5        14.333333\n",
      "  9.333333    6.5         6.          8.          4.         11.5\n",
      " 12.75       12.5         5.5         7.7777777   7.5         4.5\n",
      " 11.333333    6.25       16.         19.          5.         12.25\n",
      "  5.6666665   9.666667    2.         10.5        11.4        11.75\n",
      " 13.666667    2.5         8.666667    7.75       18.         14.5\n",
      "  8.5         1.          6.2857141  10.25        3.5         4.3333335\n",
      "  8.333333   14.2        18.5        21.          4.6666665  17.5\n",
      "  9.25        9.75        7.6666665   8.6000004  15.666667   11.666667\n",
      "  5.3333335   6.75       10.6         3.         20.         12.666667\n",
      " 11.25        7.25        6.3333335   3.6666667  12.333333    8.75\n",
      " 14.666667   17.333334   21.5         0.          8.8000002  10.666667\n",
      " 13.75       13.333333   16.333334    7.3333335          nan 10.4\n",
      " 20.5         7.5999999  15.333333    4.25       10.75       28.\n",
      " 17.666666   13.25        1.5         5.75        8.25       22.\n",
      "  2.3333333  11.6        11.2        29.         10.8        14.75\n",
      "  8.3999996   2.6666667   6.7777777  25.         15.25        4.5999999\n",
      " 15.75        3.3333333   5.5714288   2.75        9.6000004   8.1999998\n",
      "  4.1999998  14.25       23.5         9.5714283  12.8        24.5\n",
      "  7.1999998   0.66666669  5.8333335   4.75        7.8000002  11.166667\n",
      "  0.5        13.8        10.2         9.3999996   3.2        13.6\n",
      " 27.          3.8         5.1999998  37.          1.3333334   3.75\n",
      "  9.1999998  13.2         9.8000002   7.4000001   7.875       8.8571424\n",
      "  5.5999999   6.4000001   0.33333334  5.4000001  32.          3.5999999 ]\n",
      "\n",
      "--- Variable value counts\n",
      "-- NaN value counts:  5\n",
      "6.000000     846\n",
      "11.000000    491\n",
      "9.000000     398\n",
      "8.500000     341\n",
      "10.000000    330\n",
      "            ... \n",
      "23.500000      3\n",
      "37.000000      3\n",
      "0.333333       3\n",
      "32.000000      2\n",
      "27.000000      2\n",
      "Name: meaneduc, Length: 155, dtype: int64\n"
     ]
    }
   ],
   "source": [
    "inspect_var(df_train, df_codebook, \"meaneduc\")"
   ]
  },
  {
   "cell_type": "code",
   "execution_count": 15,
   "metadata": {},
   "outputs": [],
   "source": [
    "# nan 값을 0으로 대체\n",
    "df_train['meaneduc'].fillna(0, inplace=True)\n",
    "df_test['meaneduc'].fillna(0, inplace=True)"
   ]
  },
  {
   "cell_type": "markdown",
   "metadata": {},
   "source": [
    "**v18q1**"
   ]
  },
  {
   "cell_type": "code",
   "execution_count": 16,
   "metadata": {},
   "outputs": [
    {
     "name": "stdout",
     "output_type": "stream",
     "text": [
      "--- Variable description\n",
      "number of tablets household owns\n",
      "\n",
      "--- Variable sample\n",
      "0       NaN\n",
      "1       1.0\n",
      "2       NaN\n",
      "3       1.0\n",
      "4       1.0\n",
      "       ... \n",
      "9552    NaN\n",
      "9553    NaN\n",
      "9554    NaN\n",
      "9555    NaN\n",
      "9556    NaN\n",
      "Name: v18q1, Length: 9557, dtype: float64\n",
      "\n",
      "--- Variable unique values\n",
      "[nan  1.  2.  3.  4.  5.  6.]\n",
      "\n",
      "--- Variable value counts\n",
      "-- NaN value counts:  7342\n",
      "1.0    1586\n",
      "2.0     444\n",
      "3.0     129\n",
      "4.0      37\n",
      "5.0      13\n",
      "6.0       6\n",
      "Name: v18q1, dtype: int64\n"
     ]
    }
   ],
   "source": [
    "inspect_var(df_train, df_codebook, \"v18q1\")"
   ]
  },
  {
   "cell_type": "code",
   "execution_count": 17,
   "metadata": {},
   "outputs": [
    {
     "name": "stdout",
     "output_type": "stream",
     "text": [
      "--- Variable description\n",
      "owns a tablet\n",
      "\n",
      "--- Variable sample\n",
      "0       0\n",
      "1       1\n",
      "2       0\n",
      "3       1\n",
      "4       1\n",
      "       ..\n",
      "9552    0\n",
      "9553    0\n",
      "9554    0\n",
      "9555    0\n",
      "9556    0\n",
      "Name: v18q, Length: 9557, dtype: int64\n",
      "\n",
      "--- Variable unique values\n",
      "[0 1]\n",
      "\n",
      "--- Variable value counts\n",
      "-- NaN value counts:  0\n",
      "0    7342\n",
      "1    2215\n",
      "Name: v18q, dtype: int64\n"
     ]
    }
   ],
   "source": [
    "# 참조할 다른 컬럼인 v18q 존재\n",
    "inspect_var(df_train, df_codebook, \"v18q\")"
   ]
  },
  {
   "cell_type": "code",
   "execution_count": 18,
   "metadata": {},
   "outputs": [
    {
     "data": {
      "text/plain": [
       "1.0    1586\n",
       "2.0     444\n",
       "3.0     129\n",
       "4.0      37\n",
       "5.0      13\n",
       "6.0       6\n",
       "Name: v18q1, dtype: int64"
      ]
     },
     "execution_count": 18,
     "metadata": {},
     "output_type": "execute_result"
    }
   ],
   "source": [
    "# 태블릿이 있을 때 v18q1 값 살펴보기\n",
    "# 결과가 v18q1 과 v18q 가 똑같이 나옴. nan 값일 때는 모두 v18q 값이 0 임을 확인 가능\n",
    "df_train.loc[df_train['v18q'] == 1, 'v18q1'].value_counts()"
   ]
  },
  {
   "cell_type": "code",
   "execution_count": 19,
   "metadata": {},
   "outputs": [],
   "source": [
    "# nan 값을 0으로 대체 (위에서 nan 값들을 0으로 대체해도 된다는 것 확인)\n",
    "df_train['v18q1'].fillna(0, inplace=True)\n",
    "df_test['v18q1'].fillna(0, inplace=True)"
   ]
  },
  {
   "cell_type": "markdown",
   "metadata": {},
   "source": [
    "**v2a1**"
   ]
  },
  {
   "cell_type": "code",
   "execution_count": 20,
   "metadata": {},
   "outputs": [
    {
     "name": "stdout",
     "output_type": "stream",
     "text": [
      "--- Variable description\n",
      "Monthly rent payment\n",
      "\n",
      "--- Variable sample\n",
      "0       190000.0\n",
      "1       135000.0\n",
      "2            NaN\n",
      "3       180000.0\n",
      "4       180000.0\n",
      "          ...   \n",
      "9552     80000.0\n",
      "9553     80000.0\n",
      "9554     80000.0\n",
      "9555     80000.0\n",
      "9556     80000.0\n",
      "Name: v2a1, Length: 9557, dtype: float64\n",
      "\n",
      "--- Variable unique values\n",
      "[ 190000.  135000.      nan  180000.  130000.  100000.   90000.  215000.\n",
      "  150000.  120000.   80000.  168000.   40000.  155000.  200000.  350000.\n",
      "  270000.  300000.  250000.  260000.  564834.  175000.   25310.  400000.\n",
      "  450000.  399378.  119813.  125518.  125000.   60000.   35000.  160000.\n",
      "  170000.  500000.  230000.  185000.  220000.  570540.  342324.       0.\n",
      "  127000.   52000.  240000.  278000.   70000.  110000.  100297.  210000.\n",
      "  770229.  285270.  145000.   96000.  542013.   65000.   85000.  104000.\n",
      "  275000.  140000.  280000.  105661.   20000.   16000.   55000.   30000.\n",
      "  283000.  245000.  191500.  510000.   36350.   89000.  600000.   75000.\n",
      "   50000.   84529.  550000.  132000.  470000.   27000.  176000.  205000.\n",
      "  380000.  855810.  427905.  290975.  188000.  118097.  360000.  325000.\n",
      " 1000000.  700000.  288750.  219087.   95000.   93000.  800000.  456432.\n",
      "  142635.   97000.   51000.   62539.   68000.  225000.  234000.  105000.\n",
      "  432000.   45000.  357000.  115000.  253000.  525000.  684648.   72000.\n",
      "  480000.   94000.   78039.   72554.  159751. 2353477.   14000.   13000.\n",
      "   78000.  540000.  165000.  268153.  420000.   92000.   25000.   52831.\n",
      "  328000.   28000.  285000.   83333.   73000.   23000.  178000.  172000.\n",
      "   15000.  171162.  106000.  620000.   26000.  249896.  107000.  108000.\n",
      "   42500.  169000.   32600.   12000.   58731.  320000.   17000.   77000.\n",
      "  102000.  294000.   32000.   44000.  163000.   46500.]\n",
      "\n",
      "--- Variable value counts\n",
      "-- NaN value counts:  6860\n",
      "150000.0    233\n",
      "100000.0    181\n",
      "200000.0    159\n",
      "120000.0    149\n",
      "50000.0     118\n",
      "           ... \n",
      "118097.0      1\n",
      "108000.0      1\n",
      "119813.0      1\n",
      "249896.0      1\n",
      "25310.0       1\n",
      "Name: v2a1, Length: 157, dtype: int64\n"
     ]
    }
   ],
   "source": [
    "inspect_var(df_train, df_codebook, \"v2a1\")"
   ]
  },
  {
   "cell_type": "code",
   "execution_count": 21,
   "metadata": {},
   "outputs": [
    {
     "name": "stdout",
     "output_type": "stream",
     "text": [
      "--- Variable description\n",
      "=1 rented\n",
      "\n",
      "--- Variable sample\n",
      "0       1\n",
      "1       1\n",
      "2       0\n",
      "3       1\n",
      "4       1\n",
      "       ..\n",
      "9552    1\n",
      "9553    1\n",
      "9554    1\n",
      "9555    1\n",
      "9556    1\n",
      "Name: tipovivi3, Length: 9557, dtype: int64\n",
      "\n",
      "--- Variable unique values\n",
      "[1 0]\n",
      "\n",
      "--- Variable value counts\n",
      "-- NaN value counts:  0\n",
      "0    7821\n",
      "1    1736\n",
      "Name: tipovivi3, dtype: int64\n"
     ]
    }
   ],
   "source": [
    "# 참조할 다른 컬럼인 tipovivi3 존재\n",
    "inspect_var(df_train, df_codebook, \"tipovivi3\")"
   ]
  },
  {
   "cell_type": "code",
   "execution_count": 22,
   "metadata": {},
   "outputs": [
    {
     "data": {
      "text/plain": [
       "100000.0    63\n",
       "150000.0    57\n",
       "200000.0    55\n",
       "300000.0    47\n",
       "250000.0    43\n",
       "            ..\n",
       "119813.0     1\n",
       "234000.0     1\n",
       "190000.0     1\n",
       "510000.0     1\n",
       "253000.0     1\n",
       "Name: v2a1, Length: 112, dtype: int64"
      ]
     },
     "execution_count": 22,
     "metadata": {},
     "output_type": "execute_result"
    }
   ],
   "source": [
    "# v18q1 과 달리 값이 다른 부분들이 존재 (rent를 안했어도 rent 비용이 있는 데이터 존재)\n",
    "df_train.loc[df_train['tipovivi3'] == 0, 'v2a1'].value_counts()"
   ]
  },
  {
   "cell_type": "code",
   "execution_count": 23,
   "metadata": {},
   "outputs": [
    {
     "data": {
      "image/png": "[encoded data removed]",
      "text/plain": [
       "<Figure size 576x396 with 1 Axes>"
      ]
     },
     "metadata": {},
     "output_type": "display_data"
    }
   ],
   "source": [
    "# kdeplot으로 분포도 살펴보기\n",
    "sns.kdeplot(df_train.loc[df_train['tipovivi3'] == 1, \"v2a1\"],\n",
    "           label=\"Monthly rent payment of household (rented=1)\")\n",
    "sns.kdeplot(df_train.loc[df_train['tipovivi3'] == 0, \"v2a1\"],\n",
    "           label=\"Monthly rent payment of household (rented=0)\")\n",
    "plt.xscale('log')\n",
    "plt.legend()\n",
    "plt.show()"
   ]
  },
  {
   "cell_type": "code",
   "execution_count": 24,
   "metadata": {},
   "outputs": [],
   "source": [
    "# nan 값을 0으로 대체 (대체할 다른 값이 없음)\n",
    "df_train['v2a1'].fillna(0, inplace=True)\n",
    "df_test['v2a1'].fillna(0, inplace=True)"
   ]
  },
  {
   "cell_type": "markdown",
   "metadata": {},
   "source": [
    "**전처리 후 Null 값 체크**"
   ]
  },
  {
   "cell_type": "code",
   "execution_count": 25,
   "metadata": {},
   "outputs": [],
   "source": [
    "def check_null_var(df):\n",
    "    total = df.isnull().sum().sort_values(ascending=False)\n",
    "    percent = (df.isnull().sum() / df.count()).sort_values(ascending=False)\n",
    "    missing_df = pd.concat([total, percent], axis=1, keys=['Total', 'Percent'])\n",
    "    return missing_df"
   ]
  },
  {
   "cell_type": "code",
   "execution_count": 26,
   "metadata": {},
   "outputs": [
    {
     "data": {
      "text/html": [
       "<div>\n",
       "<style scoped>\n",
       "    .dataframe tbody tr th:only-of-type {\n",
       "        vertical-align: middle;\n",
       "    }\n",
       "\n",
       "    .dataframe tbody tr th {\n",
       "        vertical-align: top;\n",
       "    }\n",
       "\n",
       "    .dataframe thead th {\n",
       "        text-align: right;\n",
       "    }\n",
       "</style>\n",
       "<table border=\"1\" class=\"dataframe\">\n",
       "  <thead>\n",
       "    <tr style=\"text-align: right;\">\n",
       "      <th></th>\n",
       "      <th>Total</th>\n",
       "      <th>Percent</th>\n",
       "    </tr>\n",
       "  </thead>\n",
       "  <tbody>\n",
       "    <tr>\n",
       "      <th>Id</th>\n",
       "      <td>0</td>\n",
       "      <td>0.0</td>\n",
       "    </tr>\n",
       "    <tr>\n",
       "      <th>hogar_mayor</th>\n",
       "      <td>0</td>\n",
       "      <td>0.0</td>\n",
       "    </tr>\n",
       "    <tr>\n",
       "      <th>parentesco10</th>\n",
       "      <td>0</td>\n",
       "      <td>0.0</td>\n",
       "    </tr>\n",
       "    <tr>\n",
       "      <th>parentesco11</th>\n",
       "      <td>0</td>\n",
       "      <td>0.0</td>\n",
       "    </tr>\n",
       "    <tr>\n",
       "      <th>parentesco12</th>\n",
       "      <td>0</td>\n",
       "      <td>0.0</td>\n",
       "    </tr>\n",
       "    <tr>\n",
       "      <th>...</th>\n",
       "      <td>...</td>\n",
       "      <td>...</td>\n",
       "    </tr>\n",
       "    <tr>\n",
       "      <th>coopele</th>\n",
       "      <td>0</td>\n",
       "      <td>0.0</td>\n",
       "    </tr>\n",
       "    <tr>\n",
       "      <th>sanitario1</th>\n",
       "      <td>0</td>\n",
       "      <td>0.0</td>\n",
       "    </tr>\n",
       "    <tr>\n",
       "      <th>sanitario2</th>\n",
       "      <td>0</td>\n",
       "      <td>0.0</td>\n",
       "    </tr>\n",
       "    <tr>\n",
       "      <th>sanitario3</th>\n",
       "      <td>0</td>\n",
       "      <td>0.0</td>\n",
       "    </tr>\n",
       "    <tr>\n",
       "      <th>Target</th>\n",
       "      <td>0</td>\n",
       "      <td>0.0</td>\n",
       "    </tr>\n",
       "  </tbody>\n",
       "</table>\n",
       "<p>143 rows × 2 columns</p>\n",
       "</div>"
      ],
      "text/plain": [
       "              Total  Percent\n",
       "Id                0      0.0\n",
       "hogar_mayor       0      0.0\n",
       "parentesco10      0      0.0\n",
       "parentesco11      0      0.0\n",
       "parentesco12      0      0.0\n",
       "...             ...      ...\n",
       "coopele           0      0.0\n",
       "sanitario1        0      0.0\n",
       "sanitario2        0      0.0\n",
       "sanitario3        0      0.0\n",
       "Target            0      0.0\n",
       "\n",
       "[143 rows x 2 columns]"
      ]
     },
     "execution_count": 26,
     "metadata": {},
     "output_type": "execute_result"
    }
   ],
   "source": [
    "check_null_var(df_train)"
   ]
  },
  {
   "cell_type": "code",
   "execution_count": 27,
   "metadata": {},
   "outputs": [
    {
     "data": {
      "text/html": [
       "<div>\n",
       "<style scoped>\n",
       "    .dataframe tbody tr th:only-of-type {\n",
       "        vertical-align: middle;\n",
       "    }\n",
       "\n",
       "    .dataframe tbody tr th {\n",
       "        vertical-align: top;\n",
       "    }\n",
       "\n",
       "    .dataframe thead th {\n",
       "        text-align: right;\n",
       "    }\n",
       "</style>\n",
       "<table border=\"1\" class=\"dataframe\">\n",
       "  <thead>\n",
       "    <tr style=\"text-align: right;\">\n",
       "      <th></th>\n",
       "      <th>Total</th>\n",
       "      <th>Percent</th>\n",
       "    </tr>\n",
       "  </thead>\n",
       "  <tbody>\n",
       "    <tr>\n",
       "      <th>Id</th>\n",
       "      <td>0</td>\n",
       "      <td>0.0</td>\n",
       "    </tr>\n",
       "    <tr>\n",
       "      <th>hogar_adul</th>\n",
       "      <td>0</td>\n",
       "      <td>0.0</td>\n",
       "    </tr>\n",
       "    <tr>\n",
       "      <th>parentesco9</th>\n",
       "      <td>0</td>\n",
       "      <td>0.0</td>\n",
       "    </tr>\n",
       "    <tr>\n",
       "      <th>parentesco10</th>\n",
       "      <td>0</td>\n",
       "      <td>0.0</td>\n",
       "    </tr>\n",
       "    <tr>\n",
       "      <th>parentesco11</th>\n",
       "      <td>0</td>\n",
       "      <td>0.0</td>\n",
       "    </tr>\n",
       "    <tr>\n",
       "      <th>...</th>\n",
       "      <td>...</td>\n",
       "      <td>...</td>\n",
       "    </tr>\n",
       "    <tr>\n",
       "      <th>cielorazo</th>\n",
       "      <td>0</td>\n",
       "      <td>0.0</td>\n",
       "    </tr>\n",
       "    <tr>\n",
       "      <th>techootro</th>\n",
       "      <td>0</td>\n",
       "      <td>0.0</td>\n",
       "    </tr>\n",
       "    <tr>\n",
       "      <th>techocane</th>\n",
       "      <td>0</td>\n",
       "      <td>0.0</td>\n",
       "    </tr>\n",
       "    <tr>\n",
       "      <th>techoentrepiso</th>\n",
       "      <td>0</td>\n",
       "      <td>0.0</td>\n",
       "    </tr>\n",
       "    <tr>\n",
       "      <th>agesq</th>\n",
       "      <td>0</td>\n",
       "      <td>0.0</td>\n",
       "    </tr>\n",
       "  </tbody>\n",
       "</table>\n",
       "<p>142 rows × 2 columns</p>\n",
       "</div>"
      ],
      "text/plain": [
       "                Total  Percent\n",
       "Id                  0      0.0\n",
       "hogar_adul          0      0.0\n",
       "parentesco9         0      0.0\n",
       "parentesco10        0      0.0\n",
       "parentesco11        0      0.0\n",
       "...               ...      ...\n",
       "cielorazo           0      0.0\n",
       "techootro           0      0.0\n",
       "techocane           0      0.0\n",
       "techoentrepiso      0      0.0\n",
       "agesq               0      0.0\n",
       "\n",
       "[142 rows x 2 columns]"
      ]
     },
     "execution_count": 27,
     "metadata": {},
     "output_type": "execute_result"
    }
   ],
   "source": [
    "check_null_var(df_test)"
   ]
  },
  {
   "cell_type": "markdown",
   "metadata": {},
   "source": [
    "### 1.4. 데이터 타입이 숫자형이 아닌 컬럼 확인 (Object 등)"
   ]
  },
  {
   "cell_type": "code",
   "execution_count": 28,
   "metadata": {},
   "outputs": [
    {
     "name": "stdout",
     "output_type": "stream",
     "text": [
      "<class 'pandas.core.frame.DataFrame'>\n",
      "RangeIndex: 9557 entries, 0 to 9556\n",
      "Columns: 143 entries, Id to Target\n",
      "dtypes: float64(8), int64(130), object(5)\n",
      "memory usage: 10.4+ MB\n"
     ]
    }
   ],
   "source": [
    "df_train.info()"
   ]
  },
  {
   "cell_type": "markdown",
   "metadata": {},
   "source": [
    "모델에 바로 활용할 수 없는 object 필드 확인 필요"
   ]
  },
  {
   "cell_type": "code",
   "execution_count": 29,
   "metadata": {},
   "outputs": [
    {
     "data": {
      "text/plain": [
       "['Id', 'idhogar', 'dependency', 'edjefe', 'edjefa']"
      ]
     },
     "execution_count": 29,
     "metadata": {},
     "output_type": "execute_result"
    }
   ],
   "source": [
    "features_object = [col for col in df_train.columns if df_train[col].dtype == 'object']\n",
    "features_object"
   ]
  },
  {
   "cell_type": "code",
   "execution_count": 30,
   "metadata": {},
   "outputs": [
    {
     "data": {
      "text/html": [
       "<div>\n",
       "<style scoped>\n",
       "    .dataframe tbody tr th:only-of-type {\n",
       "        vertical-align: middle;\n",
       "    }\n",
       "\n",
       "    .dataframe tbody tr th {\n",
       "        vertical-align: top;\n",
       "    }\n",
       "\n",
       "    .dataframe thead th {\n",
       "        text-align: right;\n",
       "    }\n",
       "</style>\n",
       "<table border=\"1\" class=\"dataframe\">\n",
       "  <thead>\n",
       "    <tr style=\"text-align: right;\">\n",
       "      <th></th>\n",
       "      <th>Id</th>\n",
       "      <th>idhogar</th>\n",
       "      <th>dependency</th>\n",
       "      <th>edjefe</th>\n",
       "      <th>edjefa</th>\n",
       "    </tr>\n",
       "  </thead>\n",
       "  <tbody>\n",
       "    <tr>\n",
       "      <th>0</th>\n",
       "      <td>ID_279628684</td>\n",
       "      <td>21eb7fcc1</td>\n",
       "      <td>no</td>\n",
       "      <td>10</td>\n",
       "      <td>no</td>\n",
       "    </tr>\n",
       "    <tr>\n",
       "      <th>1</th>\n",
       "      <td>ID_f29eb3ddd</td>\n",
       "      <td>0e5d7a658</td>\n",
       "      <td>8</td>\n",
       "      <td>12</td>\n",
       "      <td>no</td>\n",
       "    </tr>\n",
       "    <tr>\n",
       "      <th>2</th>\n",
       "      <td>ID_68de51c94</td>\n",
       "      <td>2c7317ea8</td>\n",
       "      <td>8</td>\n",
       "      <td>no</td>\n",
       "      <td>11</td>\n",
       "    </tr>\n",
       "    <tr>\n",
       "      <th>3</th>\n",
       "      <td>ID_d671db89c</td>\n",
       "      <td>2b58d945f</td>\n",
       "      <td>yes</td>\n",
       "      <td>11</td>\n",
       "      <td>no</td>\n",
       "    </tr>\n",
       "    <tr>\n",
       "      <th>4</th>\n",
       "      <td>ID_d56d6f5f5</td>\n",
       "      <td>2b58d945f</td>\n",
       "      <td>yes</td>\n",
       "      <td>11</td>\n",
       "      <td>no</td>\n",
       "    </tr>\n",
       "    <tr>\n",
       "      <th>...</th>\n",
       "      <td>...</td>\n",
       "      <td>...</td>\n",
       "      <td>...</td>\n",
       "      <td>...</td>\n",
       "      <td>...</td>\n",
       "    </tr>\n",
       "    <tr>\n",
       "      <th>9552</th>\n",
       "      <td>ID_d45ae367d</td>\n",
       "      <td>d6c086aa3</td>\n",
       "      <td>.25</td>\n",
       "      <td>9</td>\n",
       "      <td>no</td>\n",
       "    </tr>\n",
       "    <tr>\n",
       "      <th>9553</th>\n",
       "      <td>ID_c94744e07</td>\n",
       "      <td>d6c086aa3</td>\n",
       "      <td>.25</td>\n",
       "      <td>9</td>\n",
       "      <td>no</td>\n",
       "    </tr>\n",
       "    <tr>\n",
       "      <th>9554</th>\n",
       "      <td>ID_85fc658f8</td>\n",
       "      <td>d6c086aa3</td>\n",
       "      <td>.25</td>\n",
       "      <td>9</td>\n",
       "      <td>no</td>\n",
       "    </tr>\n",
       "    <tr>\n",
       "      <th>9555</th>\n",
       "      <td>ID_ced540c61</td>\n",
       "      <td>d6c086aa3</td>\n",
       "      <td>.25</td>\n",
       "      <td>9</td>\n",
       "      <td>no</td>\n",
       "    </tr>\n",
       "    <tr>\n",
       "      <th>9556</th>\n",
       "      <td>ID_a38c64491</td>\n",
       "      <td>d6c086aa3</td>\n",
       "      <td>.25</td>\n",
       "      <td>9</td>\n",
       "      <td>no</td>\n",
       "    </tr>\n",
       "  </tbody>\n",
       "</table>\n",
       "<p>9557 rows × 5 columns</p>\n",
       "</div>"
      ],
      "text/plain": [
       "                Id    idhogar dependency edjefe edjefa\n",
       "0     ID_279628684  21eb7fcc1         no     10     no\n",
       "1     ID_f29eb3ddd  0e5d7a658          8     12     no\n",
       "2     ID_68de51c94  2c7317ea8          8     no     11\n",
       "3     ID_d671db89c  2b58d945f        yes     11     no\n",
       "4     ID_d56d6f5f5  2b58d945f        yes     11     no\n",
       "...            ...        ...        ...    ...    ...\n",
       "9552  ID_d45ae367d  d6c086aa3        .25      9     no\n",
       "9553  ID_c94744e07  d6c086aa3        .25      9     no\n",
       "9554  ID_85fc658f8  d6c086aa3        .25      9     no\n",
       "9555  ID_ced540c61  d6c086aa3        .25      9     no\n",
       "9556  ID_a38c64491  d6c086aa3        .25      9     no\n",
       "\n",
       "[9557 rows x 5 columns]"
      ]
     },
     "execution_count": 30,
     "metadata": {},
     "output_type": "execute_result"
    }
   ],
   "source": [
    "# 실제 값 확인\n",
    "df_train[features_object]"
   ]
  },
  {
   "cell_type": "markdown",
   "metadata": {},
   "source": [
    "Id, idhogar 는 추후에 제외하고 모델링하면 되지만 dependency, edjefe, edjefa 는 전처리 필요"
   ]
  },
  {
   "cell_type": "markdown",
   "metadata": {},
   "source": [
    "**dependency**"
   ]
  },
  {
   "cell_type": "code",
   "execution_count": 31,
   "metadata": {},
   "outputs": [
    {
     "data": {
      "text/plain": [
       "'Dependency rate'"
      ]
     },
     "execution_count": 31,
     "metadata": {},
     "output_type": "execute_result"
    }
   ],
   "source": [
    "df_codebook.loc[\"dependency\"][0]"
   ]
  },
  {
   "cell_type": "code",
   "execution_count": 32,
   "metadata": {},
   "outputs": [
    {
     "data": {
      "text/html": [
       "<div>\n",
       "<style scoped>\n",
       "    .dataframe tbody tr th:only-of-type {\n",
       "        vertical-align: middle;\n",
       "    }\n",
       "\n",
       "    .dataframe tbody tr th {\n",
       "        vertical-align: top;\n",
       "    }\n",
       "\n",
       "    .dataframe thead th {\n",
       "        text-align: right;\n",
       "    }\n",
       "</style>\n",
       "<table border=\"1\" class=\"dataframe\">\n",
       "  <thead>\n",
       "    <tr style=\"text-align: right;\">\n",
       "      <th></th>\n",
       "      <th>dependency</th>\n",
       "      <th>SQBdependency</th>\n",
       "    </tr>\n",
       "  </thead>\n",
       "  <tbody>\n",
       "    <tr>\n",
       "      <th>0</th>\n",
       "      <td>no</td>\n",
       "      <td>0.0</td>\n",
       "    </tr>\n",
       "    <tr>\n",
       "      <th>3</th>\n",
       "      <td>yes</td>\n",
       "      <td>1.0</td>\n",
       "    </tr>\n",
       "    <tr>\n",
       "      <th>4</th>\n",
       "      <td>yes</td>\n",
       "      <td>1.0</td>\n",
       "    </tr>\n",
       "    <tr>\n",
       "      <th>5</th>\n",
       "      <td>yes</td>\n",
       "      <td>1.0</td>\n",
       "    </tr>\n",
       "    <tr>\n",
       "      <th>6</th>\n",
       "      <td>yes</td>\n",
       "      <td>1.0</td>\n",
       "    </tr>\n",
       "    <tr>\n",
       "      <th>...</th>\n",
       "      <td>...</td>\n",
       "      <td>...</td>\n",
       "    </tr>\n",
       "    <tr>\n",
       "      <th>9528</th>\n",
       "      <td>no</td>\n",
       "      <td>0.0</td>\n",
       "    </tr>\n",
       "    <tr>\n",
       "      <th>9529</th>\n",
       "      <td>no</td>\n",
       "      <td>0.0</td>\n",
       "    </tr>\n",
       "    <tr>\n",
       "      <th>9530</th>\n",
       "      <td>no</td>\n",
       "      <td>0.0</td>\n",
       "    </tr>\n",
       "    <tr>\n",
       "      <th>9550</th>\n",
       "      <td>yes</td>\n",
       "      <td>1.0</td>\n",
       "    </tr>\n",
       "    <tr>\n",
       "      <th>9551</th>\n",
       "      <td>yes</td>\n",
       "      <td>1.0</td>\n",
       "    </tr>\n",
       "  </tbody>\n",
       "</table>\n",
       "<p>3939 rows × 2 columns</p>\n",
       "</div>"
      ],
      "text/plain": [
       "     dependency  SQBdependency\n",
       "0            no            0.0\n",
       "3           yes            1.0\n",
       "4           yes            1.0\n",
       "5           yes            1.0\n",
       "6           yes            1.0\n",
       "...         ...            ...\n",
       "9528         no            0.0\n",
       "9529         no            0.0\n",
       "9530         no            0.0\n",
       "9550        yes            1.0\n",
       "9551        yes            1.0\n",
       "\n",
       "[3939 rows x 2 columns]"
      ]
     },
     "execution_count": 32,
     "metadata": {},
     "output_type": "execute_result"
    }
   ],
   "source": [
    "# dependency에 있는 yes, no 값 채워넣기 위해 유사 컬럼이 SQBdependency 와 비교\n",
    "df_train[(df_train[\"dependency\"] == \"yes\") | (df_train[\"dependency\"] == \"no\")][[\"dependency\", \"SQBdependency\"]]\n",
    "# df_train[[\"dependency\", \"SQBdependency\"]].query('dependency == \"yes\" | dependency == \"no\"')"
   ]
  },
  {
   "cell_type": "code",
   "execution_count": 33,
   "metadata": {},
   "outputs": [],
   "source": [
    "# SQBdependency 의 제곱근으로 값 대체\n",
    "df_train[\"dependency\"] = np.sqrt(df_train[\"SQBdependency\"])\n",
    "df_test[\"dependency\"] = np.sqrt(df_test[\"SQBdependency\"])"
   ]
  },
  {
   "cell_type": "markdown",
   "metadata": {},
   "source": [
    "**edjefe, edjefa**"
   ]
  },
  {
   "cell_type": "code",
   "execution_count": 34,
   "metadata": {},
   "outputs": [
    {
     "data": {
      "text/plain": [
       "'years of education of male head of household'"
      ]
     },
     "execution_count": 34,
     "metadata": {},
     "output_type": "execute_result"
    }
   ],
   "source": [
    "# edjefe\n",
    "df_codebook.loc[\"edjefe\"][0]"
   ]
  },
  {
   "cell_type": "code",
   "execution_count": 35,
   "metadata": {},
   "outputs": [
    {
     "data": {
      "text/plain": [
       "'years of education of female head of household'"
      ]
     },
     "execution_count": 35,
     "metadata": {},
     "output_type": "execute_result"
    }
   ],
   "source": [
    "# edjefa\n",
    "df_codebook.loc[\"edjefa\"][0]"
   ]
  },
  {
   "cell_type": "code",
   "execution_count": 36,
   "metadata": {},
   "outputs": [
    {
     "data": {
      "text/plain": [
       "'years of schooling'"
      ]
     },
     "execution_count": 36,
     "metadata": {},
     "output_type": "execute_result"
    }
   ],
   "source": [
    "df_codebook.loc[\"escolari\"][0]"
   ]
  },
  {
   "cell_type": "code",
   "execution_count": 37,
   "metadata": {},
   "outputs": [
    {
     "data": {
      "text/plain": [
       "'=1 if household head'"
      ]
     },
     "execution_count": 37,
     "metadata": {},
     "output_type": "execute_result"
    }
   ],
   "source": [
    "df_codebook.loc[\"parentesco1\"][0]"
   ]
  },
  {
   "cell_type": "code",
   "execution_count": 38,
   "metadata": {},
   "outputs": [
    {
     "data": {
      "text/plain": [
       "count    9557.000000\n",
       "mean        7.200272\n",
       "std         4.730877\n",
       "min         0.000000\n",
       "25%         4.000000\n",
       "50%         6.000000\n",
       "75%        11.000000\n",
       "max        21.000000\n",
       "Name: escolari, dtype: float64"
      ]
     },
     "execution_count": 38,
     "metadata": {},
     "output_type": "execute_result"
    }
   ],
   "source": [
    "df_train[\"escolari\"].describe()"
   ]
  },
  {
   "cell_type": "code",
   "execution_count": 39,
   "metadata": {},
   "outputs": [
    {
     "data": {
      "text/plain": [
       "6.0"
      ]
     },
     "execution_count": 39,
     "metadata": {},
     "output_type": "execute_result"
    }
   ],
   "source": [
    "df_train[\"escolari\"].median()"
   ]
  },
  {
   "cell_type": "code",
   "execution_count": 40,
   "metadata": {},
   "outputs": [],
   "source": [
    "# edjefe = yes\n",
    "# parentesco1=1(가장)이면 escolari로 값 edjefe 값 대체\n",
    "# 나머지는 escolari의 median인 6으로 대체\n",
    "# edjefe = no\n",
    "# 0으로 대체\n",
    "\n",
    "def transform_edjefe_edjefa(df, col):\n",
    "    df.loc[(df[col] == \"yes\") & (df[\"parentesco1\"] == 1), col] = df.loc[(df[col] == \"yes\") & (df[\"parentesco1\"] == 1), \"escolari\"]\n",
    "    df.loc[(df[col] == \"yes\"), col] = 6\n",
    "    df.loc[(df[col] == \"no\"), col] = 0\n",
    "    \n",
    "    return"
   ]
  },
  {
   "cell_type": "code",
   "execution_count": 41,
   "metadata": {},
   "outputs": [],
   "source": [
    "# 변환\n",
    "transform_edjefe_edjefa(df_train, \"edjefe\")\n",
    "transform_edjefe_edjefa(df_train, \"edjefa\")\n",
    "transform_edjefe_edjefa(df_test, \"edjefe\")\n",
    "transform_edjefe_edjefa(df_test, \"edjefa\")"
   ]
  },
  {
   "cell_type": "code",
   "execution_count": 42,
   "metadata": {},
   "outputs": [],
   "source": [
    "# object 타입 형 변환\n",
    "df_train[\"edjefe\"] = df_train[\"edjefe\"].astype(float)\n",
    "df_train[\"edjefa\"] = df_train[\"edjefa\"].astype(float)\n",
    "df_test[\"edjefe\"] = df_test[\"edjefe\"].astype(float)\n",
    "df_test[\"edjefa\"] = df_test[\"edjefa\"].astype(float)"
   ]
  },
  {
   "cell_type": "code",
   "execution_count": 43,
   "metadata": {},
   "outputs": [
    {
     "data": {
      "text/plain": [
       "['Id', 'idhogar']"
      ]
     },
     "execution_count": 43,
     "metadata": {},
     "output_type": "execute_result"
    }
   ],
   "source": [
    "# object 컬럼 확인\n",
    "features_object_after_transform = [col for col in df_train.columns if df_train[col].dtype == 'object']\n",
    "features_object_after_transform"
   ]
  },
  {
   "cell_type": "code",
   "execution_count": 44,
   "metadata": {},
   "outputs": [
    {
     "name": "stdout",
     "output_type": "stream",
     "text": [
      "<class 'pandas.core.frame.DataFrame'>\n",
      "RangeIndex: 9557 entries, 0 to 9556\n",
      "Columns: 143 entries, Id to Target\n",
      "dtypes: float64(11), int64(130), object(2)\n",
      "memory usage: 10.4+ MB\n"
     ]
    }
   ],
   "source": [
    "df_train.info()"
   ]
  },
  {
   "cell_type": "markdown",
   "metadata": {},
   "source": [
    "인덱스 컬럼에 해당하는 Id, idhogar 빼고 모두 모델에 활용가능한 타입으로 바뀜"
   ]
  },
  {
   "cell_type": "code",
   "execution_count": 45,
   "metadata": {},
   "outputs": [
    {
     "name": "stdout",
     "output_type": "stream",
     "text": [
      "(9557, 143)\n",
      "(23856, 142)\n"
     ]
    }
   ],
   "source": [
    "print(df_train.shape)\n",
    "print(df_test.shape)"
   ]
  },
  {
   "cell_type": "markdown",
   "metadata": {},
   "source": [
    "## 2. Feature engineering"
   ]
  },
  {
   "cell_type": "markdown",
   "metadata": {},
   "source": [
    "### 2.1. Continuos feature 변환으로 새로운 파생 변수 만들기"
   ]
  },
  {
   "cell_type": "code",
   "execution_count": 46,
   "metadata": {},
   "outputs": [],
   "source": [
    "continous_features = [col for col in df_train.columns if df_train[col].value_counts().shape[0] > 2]\n",
    "continous_features = [col for col in continous_features if col not in [\"Id\", \"idhogar\", \"Target\"]]"
   ]
  },
  {
   "cell_type": "code",
   "execution_count": 47,
   "metadata": {},
   "outputs": [
    {
     "name": "stdout",
     "output_type": "stream",
     "text": [
      "There are 38 continous features\n",
      "v2a1: Monthly rent payment\n",
      "rooms:  number of all rooms in the house\n",
      "v18q1: number of tablets household owns\n",
      "r4h1: Males younger than 12 years of age\n",
      "r4h2: Males 12 years of age and older\n",
      "r4h3: Total males in the household\n",
      "r4m1: Females younger than 12 years of age\n",
      "r4m2: Females 12 years of age and older\n",
      "r4m3: Total females in the household\n",
      "r4t1: persons younger than 12 years of age\n",
      "r4t2: persons 12 years of age and older\n",
      "r4t3: Total persons in the household\n",
      "tamhog: size of the household\n",
      "tamviv: TamViv\n",
      "escolari: years of schooling\n",
      "rez_esc: Years behind in school\n",
      "hhsize: household size\n",
      "hogar_nin: Number of children 0 to 19 in household\n",
      "hogar_adul: Number of adults in household\n",
      "hogar_mayor: # of individuals 65+ in the household\n",
      "hogar_total: # of total individuals in the household\n",
      "dependency: Dependency rate\n",
      "edjefe: years of education of male head of household\n",
      "edjefa: years of education of female head of household\n",
      "meaneduc: average years of education for adults (18+)\n",
      "bedrooms: number of bedrooms\n",
      "overcrowding: # persons per room\n",
      "qmobilephone: # of mobile phones\n",
      "age: Age in years\n",
      "SQBescolari: escolari squared\n",
      "SQBage: age squared\n",
      "SQBhogar_total: hogar_total squared\n",
      "SQBedjefe: edjefe squared\n",
      "SQBhogar_nin: hogar_nin squared\n",
      "SQBovercrowding: overcrowding squared\n",
      "SQBdependency: dependency squared\n",
      "SQBmeaned: meaned squared\n",
      "agesq: Age squared\n"
     ]
    }
   ],
   "source": [
    "print(\"There are %s continous features\" % len(continous_features))\n",
    "for col in continous_features:\n",
    "    print(\"%s: %s\" % (col, df_codebook.loc[col][0]))"
   ]
  },
  {
   "cell_type": "code",
   "execution_count": 48,
   "metadata": {},
   "outputs": [],
   "source": [
    "# create family size derived features\n",
    "# hogar_total 기준으로 변수 만들기 \n",
    "def create_family_derived_var(df):\n",
    "    df[\"adult\"] = df[\"hogar_adul\"] - df[\"hogar_mayor\"]\n",
    "    df[\"child_percent\"] = df[\"hogar_nin\"] / df[\"hogar_total\"]\n",
    "    df[\"elder_percent\"] = df[\"hogar_mayor\"] / df[\"hogar_total\"]\n",
    "    df[\"adult_percent\"] = df[\"hogar_adul\"] / df[\"hogar_total\"]\n",
    "    df[\"males_younger_12_years_percent\"] = df[\"r4h1\"] / df[\"hogar_total\"]\n",
    "    df[\"males_older_12_years_percent\"] = df[\"r4h2\"] / df[\"hogar_total\"]\n",
    "    df[\"males_percent\"] = df[\"r4h3\"] / df[\"hogar_total\"]\n",
    "    df[\"females_younger_12_years_percent\"] = df[\"r4m1\"] / df[\"hogar_total\"]\n",
    "    df[\"females_older_12_years_percent\"] = df[\"r4m2\"] / df[\"hogar_total\"]\n",
    "    df[\"females_percent\"] = df[\"r4m3\"] / df[\"hogar_total\"]\n",
    "    df[\"persons_younger_12_years_percent\"] = df[\"r4t1\"] / df[\"hogar_total\"]\n",
    "    df[\"persons_older_12_years_percent\"] = df[\"r4t2\"] / df[\"hogar_total\"]\n",
    "    df[\"persons_percent\"] = df[\"r4t3\"] / df[\"hogar_total\"]\n",
    "    \n",
    "    print('Success')\n",
    "    \n",
    "    return "
   ]
  },
  {
   "cell_type": "code",
   "execution_count": 49,
   "metadata": {},
   "outputs": [
    {
     "name": "stdout",
     "output_type": "stream",
     "text": [
      "Success\n",
      "Success\n"
     ]
    }
   ],
   "source": [
    "create_family_derived_var(df_train)\n",
    "create_family_derived_var(df_test)"
   ]
  },
  {
   "cell_type": "code",
   "execution_count": 50,
   "metadata": {},
   "outputs": [
    {
     "data": {
      "text/plain": [
       "array([1.        , 3.        , 1.33333333, 2.        , 1.5       ,\n",
       "       1.75      , 1.25      , 2.5       , 1.2       , 1.66666667])"
      ]
     },
     "execution_count": 50,
     "metadata": {},
     "output_type": "execute_result"
    }
   ],
   "source": [
    "# 뭔가 값이 좀 이상함\n",
    "df_train[\"persons_percent\"].unique()"
   ]
  },
  {
   "cell_type": "code",
   "execution_count": 51,
   "metadata": {},
   "outputs": [
    {
     "name": "stdout",
     "output_type": "stream",
     "text": [
      "전체 데이터 갯수:  9557\n",
      "hogar_total == r4t3:  9509\n",
      "hogar_total == hhszie:  9557\n"
     ]
    }
   ],
   "source": [
    "# 같은 값을 가져야 하는 hogar_total, r4t3, hhsize 이지만 r4t3는 다른 값을 가짐\n",
    "print(\"전체 데이터 갯수: \", df_train.shape[0])\n",
    "print(\"hogar_total == r4t3: \", (df_train[\"hogar_total\"] == df_train[\"r4t3\"]).sum())\n",
    "print(\"hogar_total == hhszie: \", (df_train[\"hogar_total\"] == df_train[\"hhsize\"]).sum())"
   ]
  },
  {
   "cell_type": "code",
   "execution_count": 52,
   "metadata": {},
   "outputs": [
    {
     "data": {
      "text/html": [
       "<div>\n",
       "<style scoped>\n",
       "    .dataframe tbody tr th:only-of-type {\n",
       "        vertical-align: middle;\n",
       "    }\n",
       "\n",
       "    .dataframe tbody tr th {\n",
       "        vertical-align: top;\n",
       "    }\n",
       "\n",
       "    .dataframe thead th {\n",
       "        text-align: right;\n",
       "    }\n",
       "</style>\n",
       "<table border=\"1\" class=\"dataframe\">\n",
       "  <thead>\n",
       "    <tr style=\"text-align: right;\">\n",
       "      <th></th>\n",
       "      <th>r4h1</th>\n",
       "      <th>r4m1</th>\n",
       "      <th>r4t1</th>\n",
       "      <th>r4h2</th>\n",
       "      <th>r4m2</th>\n",
       "      <th>r4t2</th>\n",
       "      <th>r4h3</th>\n",
       "      <th>r4m3</th>\n",
       "      <th>r4t3</th>\n",
       "      <th>hogar_total</th>\n",
       "      <th>hhsize</th>\n",
       "      <th>persons_percent</th>\n",
       "    </tr>\n",
       "  </thead>\n",
       "  <tbody>\n",
       "    <tr>\n",
       "      <th>497</th>\n",
       "      <td>0</td>\n",
       "      <td>0</td>\n",
       "      <td>0</td>\n",
       "      <td>0</td>\n",
       "      <td>3</td>\n",
       "      <td>3</td>\n",
       "      <td>0</td>\n",
       "      <td>3</td>\n",
       "      <td>3</td>\n",
       "      <td>1</td>\n",
       "      <td>1</td>\n",
       "      <td>3.000000</td>\n",
       "    </tr>\n",
       "    <tr>\n",
       "      <th>640</th>\n",
       "      <td>1</td>\n",
       "      <td>1</td>\n",
       "      <td>2</td>\n",
       "      <td>0</td>\n",
       "      <td>2</td>\n",
       "      <td>2</td>\n",
       "      <td>1</td>\n",
       "      <td>3</td>\n",
       "      <td>4</td>\n",
       "      <td>3</td>\n",
       "      <td>3</td>\n",
       "      <td>1.333333</td>\n",
       "    </tr>\n",
       "    <tr>\n",
       "      <th>641</th>\n",
       "      <td>1</td>\n",
       "      <td>1</td>\n",
       "      <td>2</td>\n",
       "      <td>0</td>\n",
       "      <td>2</td>\n",
       "      <td>2</td>\n",
       "      <td>1</td>\n",
       "      <td>3</td>\n",
       "      <td>4</td>\n",
       "      <td>3</td>\n",
       "      <td>3</td>\n",
       "      <td>1.333333</td>\n",
       "    </tr>\n",
       "    <tr>\n",
       "      <th>642</th>\n",
       "      <td>1</td>\n",
       "      <td>1</td>\n",
       "      <td>2</td>\n",
       "      <td>0</td>\n",
       "      <td>2</td>\n",
       "      <td>2</td>\n",
       "      <td>1</td>\n",
       "      <td>3</td>\n",
       "      <td>4</td>\n",
       "      <td>3</td>\n",
       "      <td>3</td>\n",
       "      <td>1.333333</td>\n",
       "    </tr>\n",
       "    <tr>\n",
       "      <th>1034</th>\n",
       "      <td>0</td>\n",
       "      <td>0</td>\n",
       "      <td>0</td>\n",
       "      <td>0</td>\n",
       "      <td>2</td>\n",
       "      <td>2</td>\n",
       "      <td>0</td>\n",
       "      <td>2</td>\n",
       "      <td>2</td>\n",
       "      <td>1</td>\n",
       "      <td>1</td>\n",
       "      <td>2.000000</td>\n",
       "    </tr>\n",
       "    <tr>\n",
       "      <th>...</th>\n",
       "      <td>...</td>\n",
       "      <td>...</td>\n",
       "      <td>...</td>\n",
       "      <td>...</td>\n",
       "      <td>...</td>\n",
       "      <td>...</td>\n",
       "      <td>...</td>\n",
       "      <td>...</td>\n",
       "      <td>...</td>\n",
       "      <td>...</td>\n",
       "      <td>...</td>\n",
       "      <td>...</td>\n",
       "    </tr>\n",
       "    <tr>\n",
       "      <th>8425</th>\n",
       "      <td>0</td>\n",
       "      <td>2</td>\n",
       "      <td>2</td>\n",
       "      <td>2</td>\n",
       "      <td>2</td>\n",
       "      <td>4</td>\n",
       "      <td>2</td>\n",
       "      <td>4</td>\n",
       "      <td>6</td>\n",
       "      <td>5</td>\n",
       "      <td>5</td>\n",
       "      <td>1.200000</td>\n",
       "    </tr>\n",
       "    <tr>\n",
       "      <th>8426</th>\n",
       "      <td>0</td>\n",
       "      <td>2</td>\n",
       "      <td>2</td>\n",
       "      <td>2</td>\n",
       "      <td>2</td>\n",
       "      <td>4</td>\n",
       "      <td>2</td>\n",
       "      <td>4</td>\n",
       "      <td>6</td>\n",
       "      <td>5</td>\n",
       "      <td>5</td>\n",
       "      <td>1.200000</td>\n",
       "    </tr>\n",
       "    <tr>\n",
       "      <th>9002</th>\n",
       "      <td>1</td>\n",
       "      <td>0</td>\n",
       "      <td>1</td>\n",
       "      <td>2</td>\n",
       "      <td>2</td>\n",
       "      <td>4</td>\n",
       "      <td>3</td>\n",
       "      <td>2</td>\n",
       "      <td>5</td>\n",
       "      <td>3</td>\n",
       "      <td>3</td>\n",
       "      <td>1.666667</td>\n",
       "    </tr>\n",
       "    <tr>\n",
       "      <th>9003</th>\n",
       "      <td>1</td>\n",
       "      <td>0</td>\n",
       "      <td>1</td>\n",
       "      <td>2</td>\n",
       "      <td>2</td>\n",
       "      <td>4</td>\n",
       "      <td>3</td>\n",
       "      <td>2</td>\n",
       "      <td>5</td>\n",
       "      <td>3</td>\n",
       "      <td>3</td>\n",
       "      <td>1.666667</td>\n",
       "    </tr>\n",
       "    <tr>\n",
       "      <th>9004</th>\n",
       "      <td>1</td>\n",
       "      <td>0</td>\n",
       "      <td>1</td>\n",
       "      <td>2</td>\n",
       "      <td>2</td>\n",
       "      <td>4</td>\n",
       "      <td>3</td>\n",
       "      <td>2</td>\n",
       "      <td>5</td>\n",
       "      <td>3</td>\n",
       "      <td>3</td>\n",
       "      <td>1.666667</td>\n",
       "    </tr>\n",
       "  </tbody>\n",
       "</table>\n",
       "<p>48 rows × 12 columns</p>\n",
       "</div>"
      ],
      "text/plain": [
       "      r4h1  r4m1  r4t1  r4h2  r4m2  r4t2  r4h3  r4m3  r4t3  hogar_total  \\\n",
       "497      0     0     0     0     3     3     0     3     3            1   \n",
       "640      1     1     2     0     2     2     1     3     4            3   \n",
       "641      1     1     2     0     2     2     1     3     4            3   \n",
       "642      1     1     2     0     2     2     1     3     4            3   \n",
       "1034     0     0     0     0     2     2     0     2     2            1   \n",
       "...    ...   ...   ...   ...   ...   ...   ...   ...   ...          ...   \n",
       "8425     0     2     2     2     2     4     2     4     6            5   \n",
       "8426     0     2     2     2     2     4     2     4     6            5   \n",
       "9002     1     0     1     2     2     4     3     2     5            3   \n",
       "9003     1     0     1     2     2     4     3     2     5            3   \n",
       "9004     1     0     1     2     2     4     3     2     5            3   \n",
       "\n",
       "      hhsize  persons_percent  \n",
       "497        1         3.000000  \n",
       "640        3         1.333333  \n",
       "641        3         1.333333  \n",
       "642        3         1.333333  \n",
       "1034       1         2.000000  \n",
       "...      ...              ...  \n",
       "8425       5         1.200000  \n",
       "8426       5         1.200000  \n",
       "9002       3         1.666667  \n",
       "9003       3         1.666667  \n",
       "9004       3         1.666667  \n",
       "\n",
       "[48 rows x 12 columns]"
      ]
     },
     "execution_count": 52,
     "metadata": {},
     "output_type": "execute_result"
    }
   ],
   "source": [
    "# 관련 변수 값 확인\n",
    "pd.set_option('display.max_row', 20)\n",
    "df_train[[\"r4h1\", \"r4m1\", \"r4t1\", \"r4h2\", \"r4m2\", \"r4t2\", \"r4h3\", \"r4m3\", \"r4t3\", \"hogar_total\", \"hhsize\", \"persons_percent\"]][df_train[\"persons_percent\"] != 1]"
   ]
  },
  {
   "cell_type": "code",
   "execution_count": 53,
   "metadata": {},
   "outputs": [],
   "source": [
    "# 위에서 percent가 1이 넘어가는 경우들은 컬럼이 잘못 만들어진 것임으로 수정 필요\n",
    "# \"males_younger_12_years_percent\", \"males_older_12_years_percent\", \"males_percent\" 등 feature 삭제\n",
    "df_train.drop(['males_younger_12_years_percent',\n",
    "               'males_older_12_years_percent',\n",
    "               'males_percent',\n",
    "               'females_younger_12_years_percent',\n",
    "               'females_older_12_years_percent',\n",
    "               'females_percent',\n",
    "               'persons_younger_12_years_percent',\n",
    "               'persons_older_12_years_percent',\n",
    "               'persons_percent'], axis=1, inplace=True)\n",
    "\n",
    "df_test.drop(['males_younger_12_years_percent',\n",
    "              'males_older_12_years_percent',\n",
    "              'males_percent',\n",
    "              'females_younger_12_years_percent',\n",
    "              'females_older_12_years_percent',\n",
    "              'females_percent',\n",
    "              'persons_younger_12_years_percent',\n",
    "              'persons_older_12_years_percent',\n",
    "              'persons_percent'], axis=1, inplace=True)"
   ]
  },
  {
   "cell_type": "code",
   "execution_count": 54,
   "metadata": {},
   "outputs": [],
   "source": [
    "# 수정된 함수 정의\n",
    "def create_family_derived_var_fixed(df):\n",
    "    df[\"adult\"] = df[\"hogar_adul\"] - df[\"hogar_mayor\"]\n",
    "    df[\"child_percent\"] = df[\"hogar_nin\"] / df[\"hogar_total\"]\n",
    "    df[\"elder_percent\"] = df[\"hogar_mayor\"] / df[\"hogar_total\"]\n",
    "    df[\"adult_percent\"] = df[\"hogar_adul\"] / df[\"hogar_total\"]\n",
    "    df[\"males_younger_12_years_percent\"] = df[\"r4h1\"] / df[\"r4t3\"]\n",
    "    df[\"males_older_12_years_percent\"] = df[\"r4h2\"] / df[\"r4t3\"]\n",
    "    df[\"males_percent\"] = df[\"r4h3\"] / df[\"r4t3\"]\n",
    "    df[\"females_younger_12_years_percent\"] = df[\"r4m1\"] / df[\"r4t3\"]\n",
    "    df[\"females_older_12_years_percent\"] = df[\"r4m2\"] / df[\"r4t3\"]\n",
    "    df[\"females_percent\"] = df[\"r4m3\"] / df[\"r4t3\"]\n",
    "    df[\"persons_younger_12_years_percent\"] = df[\"r4t1\"] / df[\"r4t3\"]\n",
    "    df[\"persons_older_12_years_percent\"] = df[\"r4t2\"] / df[\"r4t3\"]\n",
    "    \n",
    "    # persons_percent는 1로 나오는 의미없는 컬럼이므로 제외\n",
    "    # df[\"persons_percent\"] = df[\"r4t3\"] / df[\"hogar_total\"]\n",
    "    \n",
    "    print('Success')\n",
    "    \n",
    "    return "
   ]
  },
  {
   "cell_type": "code",
   "execution_count": 55,
   "metadata": {},
   "outputs": [
    {
     "name": "stdout",
     "output_type": "stream",
     "text": [
      "Success\n",
      "Success\n"
     ]
    }
   ],
   "source": [
    "create_family_derived_var_fixed(df_train)\n",
    "create_family_derived_var_fixed(df_test)"
   ]
  },
  {
   "cell_type": "code",
   "execution_count": 56,
   "metadata": {},
   "outputs": [
    {
     "data": {
      "text/plain": [
       "child_percent                       0\n",
       "elder_percent                       0\n",
       "adult_percent                       0\n",
       "males_younger_12_years_percent      0\n",
       "males_older_12_years_percent        0\n",
       "males_percent                       0\n",
       "females_younger_12_years_percent    0\n",
       "females_older_12_years_percent      0\n",
       "females_percent                     0\n",
       "persons_younger_12_years_percent    0\n",
       "persons_older_12_years_percent      0\n",
       "dtype: int64"
      ]
     },
     "execution_count": 56,
     "metadata": {},
     "output_type": "execute_result"
    }
   ],
   "source": [
    "# percent로 끝나는 컬럼 중에 1보다 크게 나오는 값 있는지 확인\n",
    "(df_train.filter(regex=(\"percent$\")) > 1.0).sum()"
   ]
  },
  {
   "cell_type": "code",
   "execution_count": 57,
   "metadata": {},
   "outputs": [],
   "source": [
    "# per family feature\n",
    "family_size_features = [\"adult\", \"hogar_adul\", \"hogar_mayor\", \"hogar_total\",\n",
    "                       \"r4h1\", \"r4h2\", \"r4h3\", \"r4m1\", \"r4m2\", \"r4m3\", \"r4t1\", \"r4t2\", \"r4t3\"]\n",
    "\n",
    "def create_per_family_derived_var(df, feat):\n",
    "    new_feats = []\n",
    "    \n",
    "    for col in family_size_features:\n",
    "        new_col_name = \"new_%s_per_%s\" % (feat, col)\n",
    "        new_feats.append(new_col_name)\n",
    "        df[new_col_name] = df[feat] / df[col]\n",
    "    \n",
    "    for col in new_feats:\n",
    "        df[col].replace([np.inf, -np.inf, np.nan], 0, inplace=True)\n",
    "        \n",
    "    return"
   ]
  },
  {
   "cell_type": "code",
   "execution_count": 58,
   "metadata": {},
   "outputs": [],
   "source": [
    "# 다양한 per family feature 생성\n",
    "create_per_family_derived_var(df_train, \"v2a1\")\n",
    "create_per_family_derived_var(df_test, \"v2a1\")\n",
    "\n",
    "create_per_family_derived_var(df_train, \"rooms\")\n",
    "create_per_family_derived_var(df_test, \"rooms\")\n",
    "\n",
    "create_per_family_derived_var(df_train, \"bedrooms\")\n",
    "create_per_family_derived_var(df_test, \"bedrooms\")\n",
    "\n",
    "create_per_family_derived_var(df_train, \"v18q1\")\n",
    "create_per_family_derived_var(df_test, \"v18q1\")\n",
    "\n",
    "create_per_family_derived_var(df_train, \"qmobilephone\")\n",
    "create_per_family_derived_var(df_test, \"qmobilephone\")\n",
    "\n",
    "create_per_family_derived_var(df_train, \"rez_esc\")\n",
    "create_per_family_derived_var(df_test, \"rez_esc\")"
   ]
  },
  {
   "cell_type": "code",
   "execution_count": 59,
   "metadata": {},
   "outputs": [
    {
     "name": "stdout",
     "output_type": "stream",
     "text": [
      "(9557, 233)\n",
      "(23856, 232)\n"
     ]
    }
   ],
   "source": [
    "print(df_train.shape)\n",
    "print(df_test.shape)"
   ]
  },
  {
   "cell_type": "code",
   "execution_count": 60,
   "metadata": {},
   "outputs": [],
   "source": [
    "# 기타 변수 생성 (추후 shap에서 선별하기 전에 다양한 방법으로 늘리는 용도)\n",
    "def create_derived_var_etc(df):\n",
    "    df[\"escolari_age\"] = df[\"escolari\"] / df[\"age\"]\n",
    "    df[\"age_12_19\"] = df[\"hogar_nin\"] - df[\"r4t1\"]\n",
    "    \n",
    "    df[\"phones-per-capita\"] = df[\"qmobilephone\"] / df[\"tamviv\"]\n",
    "    df[\"tablets-per-capita\"] = df[\"v18q1\"] / df[\"tamviv\"]\n",
    "    df[\"rooms-per-capita\"] = df[\"rooms\"] / df[\"tamviv\"]\n",
    "    df[\"rent-per-capita\"] = df[\"v2a1\"] / df[\"tamviv\"]\n",
    "    \n",
    "    df[\"tabulet_x_qmobilephone\"] = df[\"v18q1\"] * df[\"qmobilephone\"]\n",
    "    \n",
    "    return"
   ]
  },
  {
   "cell_type": "code",
   "execution_count": 61,
   "metadata": {},
   "outputs": [],
   "source": [
    "create_derived_var_etc(df_train)\n",
    "create_derived_var_etc(df_test)"
   ]
  },
  {
   "cell_type": "code",
   "execution_count": 62,
   "metadata": {},
   "outputs": [
    {
     "name": "stdout",
     "output_type": "stream",
     "text": [
      "(9557, 240)\n",
      "(23856, 239)\n"
     ]
    }
   ],
   "source": [
    "print(df_train.shape)\n",
    "print(df_test.shape)"
   ]
  },
  {
   "cell_type": "markdown",
   "metadata": {},
   "source": [
    "### 2.2. Categorical featues 변환으로 새로운 파생 변수 만들기"
   ]
  },
  {
   "cell_type": "code",
   "execution_count": 63,
   "metadata": {},
   "outputs": [],
   "source": [
    "def create_comb_2_derived_var(df, feat_list_1, feat_list_2):\n",
    "    for col1 in feat_list_1:\n",
    "        for col2 in feat_list_2:\n",
    "            new_col_name = \"new_%s_x_%s\" % (col1, col2)\n",
    "            df[new_col_name] = df[col1] * df[col2]\n",
    "    \n",
    "    return"
   ]
  },
  {
   "cell_type": "code",
   "execution_count": 64,
   "metadata": {},
   "outputs": [],
   "source": [
    "create_comb_2_derived_var(df_train, [\"epared1\", \"epared2\", \"epared3\"], [\"etecho1\", \"etecho2\", \"etecho3\"])\n",
    "create_comb_2_derived_var(df_test, [\"epared1\", \"epared2\", \"epared3\"], [\"etecho1\", \"etecho2\", \"etecho3\"])\n",
    "\n",
    "create_comb_2_derived_var(df_train, [\"epared1\", \"epared2\", \"epared3\"], [\"eviv1\", \"eviv2\", \"eviv3\"])\n",
    "create_comb_2_derived_var(df_test, [\"epared1\", \"epared2\", \"epared3\"], [\"eviv1\", \"eviv2\", \"eviv3\"])\n",
    "\n",
    "create_comb_2_derived_var(df_train, [\"etecho1\", \"etecho2\", \"etecho3\"], [\"eviv1\", \"eviv2\", \"eviv3\"])\n",
    "create_comb_2_derived_var(df_test, [\"etecho1\", \"etecho2\", \"etecho3\"], [\"eviv1\", \"eviv2\", \"eviv3\"])\n",
    "\n",
    "create_comb_2_derived_var(df_train, [\"public\", \"planpri\", \"noelec\", \"coopele\"], [\"energcocinar1\", \"energcocinar2\", \"energcocinar3\", \"energcocinar4\"])\n",
    "create_comb_2_derived_var(df_test, [\"public\", \"planpri\", \"noelec\", \"coopele\"], [\"energcocinar1\", \"energcocinar2\", \"energcocinar3\", \"energcocinar4\"])\n",
    "\n",
    "create_comb_2_derived_var(df_train, [\"sanitario1\", \"sanitario2\", \"sanitario3\", \"sanitario5\", \"sanitario6\"], [\"elimbasu1\", \"elimbasu2\", \"elimbasu3\", \"elimbasu4\", \"elimbasu5\", \"elimbasu6\"])\n",
    "create_comb_2_derived_var(df_test, [\"sanitario1\", \"sanitario2\", \"sanitario3\", \"sanitario5\", \"sanitario6\"], [\"elimbasu1\", \"elimbasu2\", \"elimbasu3\", \"elimbasu4\", \"elimbasu5\", \"elimbasu6\"])\n",
    "\n",
    "create_comb_2_derived_var(df_train, [\"abastaguadentro\", \"abastaguafuera\", \"abastaguano\"], [\"sanitario1\", \"sanitario2\", \"sanitario3\", \"sanitario5\", \"sanitario6\"])\n",
    "create_comb_2_derived_var(df_test, [\"abastaguadentro\", \"abastaguafuera\", \"abastaguano\"], [\"sanitario1\", \"sanitario2\", \"sanitario3\", \"sanitario5\", \"sanitario6\"])\n",
    "\n",
    "create_comb_2_derived_var(df_train, [\"area1\", \"area2\"], [\"instlevel1\", \"instlevel2\", \"instlevel3\", \"instlevel4\", \"instlevel5\", \"instlevel6\", \"instlevel7\", \"instlevel8\", \"instlevel9\"])\n",
    "create_comb_2_derived_var(df_test, [\"area1\", \"area2\"], [\"instlevel1\", \"instlevel2\", \"instlevel3\", \"instlevel4\", \"instlevel5\", \"instlevel6\", \"instlevel7\", \"instlevel8\", \"instlevel9\"])\n",
    "\n",
    "create_comb_2_derived_var(df_train, [\"lugar1\", \"lugar2\", \"lugar3\", \"lugar4\", \"lugar5\", \"lugar6\"], [\"instlevel1\", \"instlevel2\", \"instlevel3\", \"instlevel4\", \"instlevel5\", \"instlevel6\", \"instlevel7\", \"instlevel8\", \"instlevel9\"])\n",
    "create_comb_2_derived_var(df_test, [\"lugar1\", \"lugar2\", \"lugar3\", \"lugar4\", \"lugar5\", \"lugar6\"], [\"instlevel1\", \"instlevel2\", \"instlevel3\", \"instlevel4\", \"instlevel5\", \"instlevel6\", \"instlevel7\", \"instlevel8\", \"instlevel9\"])\n",
    "\n",
    "create_comb_2_derived_var(df_train, [\"paredblolad\", \"paredzocalo\", \"paredpreb\", \"pareddes\", \"paredmad\", \"paredzinc\", \"paredfibras\", \"paredother\"], [\"pisomoscer\", \"pisocemento\", \"pisoother\", \"pisonatur\", \"pisonotiene\", \"pisomadera\"])\n",
    "create_comb_2_derived_var(df_test, [\"paredblolad\", \"paredzocalo\", \"paredpreb\", \"pareddes\", \"paredmad\", \"paredzinc\", \"paredfibras\", \"paredother\"], [\"pisomoscer\", \"pisocemento\", \"pisoother\", \"pisonatur\", \"pisonotiene\", \"pisomadera\"])\n",
    "\n",
    "create_comb_2_derived_var(df_train, [\"pisomoscer\", \"pisocemento\", \"pisoother\", \"pisonatur\", \"pisonotiene\", \"pisomadera\"], [\"techozinc\", \"techoentrepiso\", \"techocane\", \"techootro\"])\n",
    "create_comb_2_derived_var(df_test, [\"pisomoscer\", \"pisocemento\", \"pisoother\", \"pisonatur\", \"pisonotiene\", \"pisomadera\"], [\"techozinc\", \"techoentrepiso\", \"techocane\", \"techootro\"])\n",
    "\n",
    "create_comb_2_derived_var(df_train, [\"paredblolad\", \"paredzocalo\", \"paredpreb\", \"pareddes\", \"paredmad\", \"paredzinc\", \"paredfibras\", \"paredother\"], [\"techozinc\", \"techoentrepiso\", \"techocane\", \"techootro\"])\n",
    "create_comb_2_derived_var(df_test, [\"paredblolad\", \"paredzocalo\", \"paredpreb\", \"pareddes\", \"paredmad\", \"paredzinc\", \"paredfibras\", \"paredother\"], [\"techozinc\", \"techoentrepiso\", \"techocane\", \"techootro\"])"
   ]
  },
  {
   "cell_type": "code",
   "execution_count": 65,
   "metadata": {},
   "outputs": [
    {
     "name": "stdout",
     "output_type": "stream",
     "text": [
      "(9557, 504)\n",
      "(23856, 503)\n"
     ]
    }
   ],
   "source": [
    "print(df_train.shape)\n",
    "print(df_test.shape)"
   ]
  },
  {
   "cell_type": "code",
   "execution_count": 66,
   "metadata": {},
   "outputs": [],
   "source": [
    "def create_comb_3_derived_var(df, feat_list_1, feat_list_2, feat_list_3):\n",
    "    for col1 in feat_list_1:\n",
    "        for col2 in feat_list_2:\n",
    "            for col3 in feat_list_3:\n",
    "                new_col_name = \"new_%s_x_%s_x_%s\" % (col1, col2, col3)\n",
    "                df[new_col_name] = df[col1] * df[col2] * df[col3]\n",
    "    \n",
    "    return"
   ]
  },
  {
   "cell_type": "code",
   "execution_count": 67,
   "metadata": {},
   "outputs": [],
   "source": [
    "create_comb_3_derived_var(df_train, [\"epared1\", \"epared2\", \"epared3\"], [\"etecho1\", \"etecho2\", \"etecho3\"], [\"eviv1\", \"eviv2\", \"eviv3\"])\n",
    "create_comb_3_derived_var(df_test, [\"epared1\", \"epared2\", \"epared3\"], [\"etecho1\", \"etecho2\", \"etecho3\"], [\"eviv1\", \"eviv2\", \"eviv3\"])\n",
    "\n",
    "create_comb_3_derived_var(df_train, [\"paredblolad\", \"paredzocalo\", \"paredpreb\", \"pareddes\", \"paredmad\", \"paredzinc\", \"paredfibras\", \"paredother\"], [\"pisomoscer\", \"pisocemento\", \"pisoother\", \"pisonatur\", \"pisonotiene\", \"pisomadera\"], [\"techozinc\", \"techoentrepiso\", \"techocane\", \"techootro\"])\n",
    "create_comb_3_derived_var(df_test, [\"paredblolad\", \"paredzocalo\", \"paredpreb\", \"pareddes\", \"paredmad\", \"paredzinc\", \"paredfibras\", \"paredother\"], [\"pisomoscer\", \"pisocemento\", \"pisoother\", \"pisonatur\", \"pisonotiene\", \"pisomadera\"], [\"techozinc\", \"techoentrepiso\", \"techocane\", \"techootro\"])"
   ]
  },
  {
   "cell_type": "code",
   "execution_count": 68,
   "metadata": {},
   "outputs": [
    {
     "name": "stdout",
     "output_type": "stream",
     "text": [
      "(9557, 723)\n",
      "(23856, 722)\n"
     ]
    }
   ],
   "source": [
    "print(df_train.shape)\n",
    "print(df_test.shape)"
   ]
  },
  {
   "cell_type": "markdown",
   "metadata": {},
   "source": [
    "**하나의 값만 있는 컬럼 삭제하기**"
   ]
  },
  {
   "cell_type": "code",
   "execution_count": 69,
   "metadata": {},
   "outputs": [
    {
     "name": "stdout",
     "output_type": "stream",
     "text": [
      "elimbasu5\n",
      "new_planpri_x_energcocinar1\n",
      "new_planpri_x_energcocinar2\n",
      "new_planpri_x_energcocinar3\n",
      "new_planpri_x_energcocinar4\n",
      "new_noelec_x_energcocinar2\n",
      "new_sanitario1_x_elimbasu4\n",
      "new_sanitario1_x_elimbasu5\n",
      "new_sanitario1_x_elimbasu6\n",
      "new_sanitario2_x_elimbasu4\n",
      "new_sanitario2_x_elimbasu5\n",
      "new_sanitario2_x_elimbasu6\n",
      "new_sanitario3_x_elimbasu5\n",
      "new_sanitario5_x_elimbasu4\n",
      "new_sanitario5_x_elimbasu5\n",
      "new_sanitario5_x_elimbasu6\n",
      "new_sanitario6_x_elimbasu2\n",
      "new_sanitario6_x_elimbasu4\n",
      "new_sanitario6_x_elimbasu5\n",
      "new_sanitario6_x_elimbasu6\n",
      "new_abastaguafuera_x_sanitario6\n",
      "new_abastaguano_x_sanitario2\n",
      "new_abastaguano_x_sanitario6\n",
      "new_paredblolad_x_pisonatur\n",
      "new_paredblolad_x_pisonotiene\n",
      "new_paredzocalo_x_pisoother\n",
      "new_paredzocalo_x_pisonatur\n",
      "new_paredpreb_x_pisonatur\n",
      "new_pareddes_x_pisoother\n",
      "new_pareddes_x_pisonatur\n",
      "new_paredmad_x_pisoother\n",
      "new_paredmad_x_pisonatur\n",
      "new_paredzinc_x_pisoother\n",
      "new_paredzinc_x_pisonatur\n",
      "new_paredfibras_x_pisoother\n",
      "new_paredfibras_x_pisonatur\n",
      "new_paredfibras_x_pisonotiene\n",
      "new_paredfibras_x_pisomadera\n",
      "new_paredother_x_pisoother\n",
      "new_paredother_x_pisonatur\n",
      "new_paredother_x_pisonotiene\n",
      "new_paredother_x_pisomadera\n",
      "new_pisocemento_x_techocane\n",
      "new_pisocemento_x_techootro\n",
      "new_pisoother_x_techoentrepiso\n",
      "new_pisoother_x_techocane\n",
      "new_pisoother_x_techootro\n",
      "new_pisonatur_x_techozinc\n",
      "new_pisonatur_x_techoentrepiso\n",
      "new_pisonatur_x_techocane\n",
      "new_pisonatur_x_techootro\n",
      "new_pisonotiene_x_techoentrepiso\n",
      "new_pisonotiene_x_techocane\n",
      "new_pisonotiene_x_techootro\n",
      "new_pisomadera_x_techocane\n",
      "new_pisomadera_x_techootro\n",
      "new_paredzocalo_x_techoentrepiso\n",
      "new_paredzocalo_x_techocane\n",
      "new_paredzocalo_x_techootro\n",
      "new_paredpreb_x_techootro\n",
      "new_pareddes_x_techoentrepiso\n",
      "new_pareddes_x_techocane\n",
      "new_pareddes_x_techootro\n",
      "new_paredmad_x_techocane\n",
      "new_paredmad_x_techootro\n",
      "new_paredzinc_x_techoentrepiso\n",
      "new_paredzinc_x_techocane\n",
      "new_paredzinc_x_techootro\n",
      "new_paredfibras_x_techoentrepiso\n",
      "new_paredfibras_x_techootro\n",
      "new_paredother_x_techoentrepiso\n",
      "new_paredother_x_techocane\n",
      "new_paredother_x_techootro\n",
      "new_paredblolad_x_pisocemento_x_techocane\n",
      "new_paredblolad_x_pisocemento_x_techootro\n",
      "new_paredblolad_x_pisoother_x_techoentrepiso\n",
      "new_paredblolad_x_pisoother_x_techocane\n",
      "new_paredblolad_x_pisoother_x_techootro\n",
      "new_paredblolad_x_pisonatur_x_techozinc\n",
      "new_paredblolad_x_pisonatur_x_techoentrepiso\n",
      "new_paredblolad_x_pisonatur_x_techocane\n",
      "new_paredblolad_x_pisonatur_x_techootro\n",
      "new_paredblolad_x_pisonotiene_x_techozinc\n",
      "new_paredblolad_x_pisonotiene_x_techoentrepiso\n",
      "new_paredblolad_x_pisonotiene_x_techocane\n",
      "new_paredblolad_x_pisonotiene_x_techootro\n",
      "new_paredblolad_x_pisomadera_x_techocane\n",
      "new_paredblolad_x_pisomadera_x_techootro\n",
      "new_paredzocalo_x_pisomoscer_x_techoentrepiso\n",
      "new_paredzocalo_x_pisomoscer_x_techocane\n",
      "new_paredzocalo_x_pisomoscer_x_techootro\n",
      "new_paredzocalo_x_pisocemento_x_techoentrepiso\n",
      "new_paredzocalo_x_pisocemento_x_techocane\n",
      "new_paredzocalo_x_pisocemento_x_techootro\n",
      "new_paredzocalo_x_pisoother_x_techozinc\n",
      "new_paredzocalo_x_pisoother_x_techoentrepiso\n",
      "new_paredzocalo_x_pisoother_x_techocane\n",
      "new_paredzocalo_x_pisoother_x_techootro\n",
      "new_paredzocalo_x_pisonatur_x_techozinc\n",
      "new_paredzocalo_x_pisonatur_x_techoentrepiso\n",
      "new_paredzocalo_x_pisonatur_x_techocane\n",
      "new_paredzocalo_x_pisonatur_x_techootro\n",
      "new_paredzocalo_x_pisonotiene_x_techoentrepiso\n",
      "new_paredzocalo_x_pisonotiene_x_techocane\n",
      "new_paredzocalo_x_pisonotiene_x_techootro\n",
      "new_paredzocalo_x_pisomadera_x_techoentrepiso\n",
      "new_paredzocalo_x_pisomadera_x_techocane\n",
      "new_paredzocalo_x_pisomadera_x_techootro\n",
      "new_paredpreb_x_pisomoscer_x_techootro\n",
      "new_paredpreb_x_pisocemento_x_techoentrepiso\n",
      "new_paredpreb_x_pisocemento_x_techocane\n",
      "new_paredpreb_x_pisocemento_x_techootro\n",
      "new_paredpreb_x_pisoother_x_techoentrepiso\n",
      "new_paredpreb_x_pisoother_x_techocane\n",
      "new_paredpreb_x_pisoother_x_techootro\n",
      "new_paredpreb_x_pisonatur_x_techozinc\n",
      "new_paredpreb_x_pisonatur_x_techoentrepiso\n",
      "new_paredpreb_x_pisonatur_x_techocane\n",
      "new_paredpreb_x_pisonatur_x_techootro\n",
      "new_paredpreb_x_pisonotiene_x_techoentrepiso\n",
      "new_paredpreb_x_pisonotiene_x_techocane\n",
      "new_paredpreb_x_pisonotiene_x_techootro\n",
      "new_paredpreb_x_pisomadera_x_techoentrepiso\n",
      "new_paredpreb_x_pisomadera_x_techocane\n",
      "new_paredpreb_x_pisomadera_x_techootro\n",
      "new_pareddes_x_pisomoscer_x_techozinc\n",
      "new_pareddes_x_pisomoscer_x_techoentrepiso\n",
      "new_pareddes_x_pisomoscer_x_techocane\n",
      "new_pareddes_x_pisomoscer_x_techootro\n",
      "new_pareddes_x_pisocemento_x_techoentrepiso\n",
      "new_pareddes_x_pisocemento_x_techocane\n",
      "new_pareddes_x_pisocemento_x_techootro\n",
      "new_pareddes_x_pisoother_x_techozinc\n",
      "new_pareddes_x_pisoother_x_techoentrepiso\n",
      "new_pareddes_x_pisoother_x_techocane\n",
      "new_pareddes_x_pisoother_x_techootro\n",
      "new_pareddes_x_pisonatur_x_techozinc\n",
      "new_pareddes_x_pisonatur_x_techoentrepiso\n",
      "new_pareddes_x_pisonatur_x_techocane\n",
      "new_pareddes_x_pisonatur_x_techootro\n",
      "new_pareddes_x_pisonotiene_x_techoentrepiso\n",
      "new_pareddes_x_pisonotiene_x_techocane\n",
      "new_pareddes_x_pisonotiene_x_techootro\n",
      "new_pareddes_x_pisomadera_x_techozinc\n",
      "new_pareddes_x_pisomadera_x_techoentrepiso\n",
      "new_pareddes_x_pisomadera_x_techocane\n",
      "new_pareddes_x_pisomadera_x_techootro\n",
      "new_paredmad_x_pisomoscer_x_techocane\n",
      "new_paredmad_x_pisomoscer_x_techootro\n",
      "new_paredmad_x_pisocemento_x_techocane\n",
      "new_paredmad_x_pisocemento_x_techootro\n",
      "new_paredmad_x_pisoother_x_techozinc\n",
      "new_paredmad_x_pisoother_x_techoentrepiso\n",
      "new_paredmad_x_pisoother_x_techocane\n",
      "new_paredmad_x_pisoother_x_techootro\n",
      "new_paredmad_x_pisonatur_x_techozinc\n",
      "new_paredmad_x_pisonatur_x_techoentrepiso\n",
      "new_paredmad_x_pisonatur_x_techocane\n",
      "new_paredmad_x_pisonatur_x_techootro\n",
      "new_paredmad_x_pisonotiene_x_techoentrepiso\n",
      "new_paredmad_x_pisonotiene_x_techocane\n",
      "new_paredmad_x_pisonotiene_x_techootro\n",
      "new_paredmad_x_pisomadera_x_techocane\n",
      "new_paredmad_x_pisomadera_x_techootro\n",
      "new_paredzinc_x_pisomoscer_x_techoentrepiso\n",
      "new_paredzinc_x_pisomoscer_x_techocane\n",
      "new_paredzinc_x_pisomoscer_x_techootro\n",
      "new_paredzinc_x_pisocemento_x_techoentrepiso\n",
      "new_paredzinc_x_pisocemento_x_techocane\n",
      "new_paredzinc_x_pisocemento_x_techootro\n",
      "new_paredzinc_x_pisoother_x_techozinc\n",
      "new_paredzinc_x_pisoother_x_techoentrepiso\n",
      "new_paredzinc_x_pisoother_x_techocane\n",
      "new_paredzinc_x_pisoother_x_techootro\n",
      "new_paredzinc_x_pisonatur_x_techozinc\n",
      "new_paredzinc_x_pisonatur_x_techoentrepiso\n",
      "new_paredzinc_x_pisonatur_x_techocane\n",
      "new_paredzinc_x_pisonatur_x_techootro\n",
      "new_paredzinc_x_pisonotiene_x_techoentrepiso\n",
      "new_paredzinc_x_pisonotiene_x_techocane\n",
      "new_paredzinc_x_pisonotiene_x_techootro\n",
      "new_paredzinc_x_pisomadera_x_techoentrepiso\n",
      "new_paredzinc_x_pisomadera_x_techocane\n",
      "new_paredzinc_x_pisomadera_x_techootro\n",
      "new_paredfibras_x_pisomoscer_x_techoentrepiso\n",
      "new_paredfibras_x_pisomoscer_x_techocane\n",
      "new_paredfibras_x_pisomoscer_x_techootro\n",
      "new_paredfibras_x_pisocemento_x_techoentrepiso\n",
      "new_paredfibras_x_pisocemento_x_techocane\n",
      "new_paredfibras_x_pisocemento_x_techootro\n",
      "new_paredfibras_x_pisoother_x_techozinc\n",
      "new_paredfibras_x_pisoother_x_techoentrepiso\n",
      "new_paredfibras_x_pisoother_x_techocane\n",
      "new_paredfibras_x_pisoother_x_techootro\n",
      "new_paredfibras_x_pisonatur_x_techozinc\n",
      "new_paredfibras_x_pisonatur_x_techoentrepiso\n",
      "new_paredfibras_x_pisonatur_x_techocane\n",
      "new_paredfibras_x_pisonatur_x_techootro\n",
      "new_paredfibras_x_pisonotiene_x_techozinc\n",
      "new_paredfibras_x_pisonotiene_x_techoentrepiso\n",
      "new_paredfibras_x_pisonotiene_x_techocane\n",
      "new_paredfibras_x_pisonotiene_x_techootro\n",
      "new_paredfibras_x_pisomadera_x_techozinc\n",
      "new_paredfibras_x_pisomadera_x_techoentrepiso\n",
      "new_paredfibras_x_pisomadera_x_techocane\n",
      "new_paredfibras_x_pisomadera_x_techootro\n",
      "new_paredother_x_pisomoscer_x_techoentrepiso\n",
      "new_paredother_x_pisomoscer_x_techocane\n",
      "new_paredother_x_pisomoscer_x_techootro\n",
      "new_paredother_x_pisocemento_x_techoentrepiso\n",
      "new_paredother_x_pisocemento_x_techocane\n",
      "new_paredother_x_pisocemento_x_techootro\n",
      "new_paredother_x_pisoother_x_techozinc\n",
      "new_paredother_x_pisoother_x_techoentrepiso\n",
      "new_paredother_x_pisoother_x_techocane\n",
      "new_paredother_x_pisoother_x_techootro\n",
      "new_paredother_x_pisonatur_x_techozinc\n",
      "new_paredother_x_pisonatur_x_techoentrepiso\n",
      "new_paredother_x_pisonatur_x_techocane\n",
      "new_paredother_x_pisonatur_x_techootro\n",
      "new_paredother_x_pisonotiene_x_techozinc\n",
      "new_paredother_x_pisonotiene_x_techoentrepiso\n",
      "new_paredother_x_pisonotiene_x_techocane\n",
      "new_paredother_x_pisonotiene_x_techootro\n",
      "new_paredother_x_pisomadera_x_techozinc\n",
      "new_paredother_x_pisomadera_x_techoentrepiso\n",
      "new_paredother_x_pisomadera_x_techocane\n",
      "new_paredother_x_pisomadera_x_techootro\n"
     ]
    }
   ],
   "source": [
    "cols_with_only_one_value = []\n",
    "\n",
    "for col in df_train.columns:\n",
    "    if col == \"Target\":\n",
    "        continue\n",
    "    if df_train[col].value_counts().shape[0] == 1 or df_test[col].value_counts().shape[0] == 1:\n",
    "        print(col)\n",
    "        cols_with_only_one_value.append(col)"
   ]
  },
  {
   "cell_type": "code",
   "execution_count": 70,
   "metadata": {},
   "outputs": [],
   "source": [
    "df_train.drop(cols_with_only_one_value, axis=1, inplace=True)\n",
    "df_test.drop(cols_with_only_one_value, axis=1, inplace=True)"
   ]
  },
  {
   "cell_type": "code",
   "execution_count": 71,
   "metadata": {},
   "outputs": [
    {
     "name": "stdout",
     "output_type": "stream",
     "text": [
      "(9557, 495)\n",
      "(23856, 494)\n"
     ]
    }
   ],
   "source": [
    "print(df_train.shape)\n",
    "print(df_test.shape)"
   ]
  },
  {
   "cell_type": "markdown",
   "metadata": {},
   "source": [
    "### 2.3. Aggregation 파생 변수 만들기"
   ]
  },
  {
   "cell_type": "code",
   "execution_count": 72,
   "metadata": {},
   "outputs": [],
   "source": [
    "def max_min(x):\n",
    "    return x.max() - x.min()"
   ]
  },
  {
   "cell_type": "code",
   "execution_count": 73,
   "metadata": {},
   "outputs": [],
   "source": [
    "agg_train = pd.DataFrame()\n",
    "agg_test = pd.DataFrame()"
   ]
  },
  {
   "cell_type": "code",
   "execution_count": 74,
   "metadata": {},
   "outputs": [],
   "source": [
    "def create_aggr_derived_var(df, agg_df, aggr_list):\n",
    "    for item in tqdm(aggr_list):\n",
    "        for i, function in enumerate([\"mean\", \"std\", \"min\", \"max\", \"sum\", \"count\", max_min]):\n",
    "            group_df = df[item].groupby(df[\"idhogar\"]).agg(function)\n",
    "\n",
    "            if i == 6:\n",
    "                new_col = item + \"_new_\" + \"max_min\"\n",
    "            else:\n",
    "                new_col = item + \"_new_\" + function\n",
    "\n",
    "            agg_df[new_col] = group_df\n",
    "    \n",
    "    return"
   ]
  },
  {
   "cell_type": "code",
   "execution_count": 75,
   "metadata": {},
   "outputs": [
    {
     "name": "stderr",
     "output_type": "stream",
     "text": [
      "100%|█████████████████████████████████████████████| 13/13 [00:03<00:00,  4.08it/s]\n",
      "100%|█████████████████████████████████████████████| 13/13 [00:07<00:00,  1.75it/s]\n"
     ]
    }
   ],
   "source": [
    "create_aggr_derived_var(df_train, agg_train, family_size_features)\n",
    "create_aggr_derived_var(df_test, agg_test, family_size_features)"
   ]
  },
  {
   "cell_type": "code",
   "execution_count": 76,
   "metadata": {},
   "outputs": [
    {
     "name": "stdout",
     "output_type": "stream",
     "text": [
      "(2988, 91)\n",
      "(7352, 91)\n"
     ]
    }
   ],
   "source": [
    "print(agg_train.shape)\n",
    "print(agg_test.shape)"
   ]
  },
  {
   "cell_type": "code",
   "execution_count": 77,
   "metadata": {},
   "outputs": [
    {
     "name": "stderr",
     "output_type": "stream",
     "text": [
      "100%|███████████████████████████████████████████████| 9/9 [00:02<00:00,  3.90it/s]\n",
      "100%|███████████████████████████████████████████████| 9/9 [00:05<00:00,  1.67it/s]\n"
     ]
    }
   ],
   "source": [
    "aggr_list_1 = [\"escolari\", \"age\", \"escolari_age\", \"dependency\", \"bedrooms\", \"overcrowding\", \"rooms\", \"qmobilephone\", \"v18q1\"]\n",
    "\n",
    "create_aggr_derived_var(df_train, agg_train, aggr_list_1)\n",
    "create_aggr_derived_var(df_test, agg_test, aggr_list_1)"
   ]
  },
  {
   "cell_type": "code",
   "execution_count": 78,
   "metadata": {},
   "outputs": [
    {
     "name": "stdout",
     "output_type": "stream",
     "text": [
      "(2988, 154)\n",
      "(7352, 154)\n"
     ]
    }
   ],
   "source": [
    "print(agg_train.shape)\n",
    "print(agg_test.shape)"
   ]
  },
  {
   "cell_type": "code",
   "execution_count": 79,
   "metadata": {},
   "outputs": [],
   "source": [
    "# 그룹된 데이터 합치기\n",
    "agg_train = agg_train.reset_index()\n",
    "agg_test = agg_test.reset_index()\n",
    "\n",
    "train = pd.merge(df_train, agg_train, on=\"idhogar\")\n",
    "test = pd.merge(df_test, agg_test, on=\"idhogar\")"
   ]
  },
  {
   "cell_type": "code",
   "execution_count": 80,
   "metadata": {},
   "outputs": [
    {
     "data": {
      "text/plain": [
       "escolari_age_new_std          400\n",
       "bedrooms_new_std              398\n",
       "r4h3_new_std                  398\n",
       "adult_new_std                 398\n",
       "hogar_mayor_new_std           398\n",
       "                             ... \n",
       "new_qmobilephone_per_r4t2       0\n",
       "new_qmobilephone_per_r4t3       0\n",
       "new_rez_esc_per_adult           0\n",
       "new_rez_esc_per_hogar_adul      0\n",
       "v18q1_new_max_min               0\n",
       "Length: 649, dtype: int64"
      ]
     },
     "execution_count": 80,
     "metadata": {},
     "output_type": "execute_result"
    }
   ],
   "source": [
    "train.isna().sum().sort_values(ascending=False)"
   ]
  },
  {
   "cell_type": "markdown",
   "metadata": {},
   "source": [
    "idhogar에 따라 그룹했을 때 값이 하나인 컬럼은 std가 없으므로 빈 값을 채워줘야 함"
   ]
  },
  {
   "cell_type": "code",
   "execution_count": 81,
   "metadata": {},
   "outputs": [],
   "source": [
    "# nan -> 0\n",
    "train.fillna(value=0, inplace=True)\n",
    "test.fillna(value=0, inplace=True)"
   ]
  },
  {
   "cell_type": "code",
   "execution_count": 82,
   "metadata": {},
   "outputs": [
    {
     "data": {
      "text/plain": [
       "Id                               0\n",
       "new_epared2_x_etecho3_x_eviv1    0\n",
       "new_paredfibras_x_techozinc      0\n",
       "new_paredfibras_x_techocane      0\n",
       "new_paredother_x_techozinc       0\n",
       "                                ..\n",
       "new_qmobilephone_per_r4t3        0\n",
       "new_rez_esc_per_adult            0\n",
       "new_rez_esc_per_hogar_adul       0\n",
       "new_rez_esc_per_hogar_mayor      0\n",
       "v18q1_new_max_min                0\n",
       "Length: 649, dtype: int64"
      ]
     },
     "execution_count": 82,
     "metadata": {},
     "output_type": "execute_result"
    }
   ],
   "source": [
    "train.isna().sum().sort_values(ascending=False)"
   ]
  },
  {
   "cell_type": "markdown",
   "metadata": {},
   "source": [
    "**lugar 변수 활용 그룹핑**"
   ]
  },
  {
   "cell_type": "code",
   "execution_count": 83,
   "metadata": {},
   "outputs": [],
   "source": [
    "# idhogar, lugar 두 컬럼을 이용해서 그룹 변수 만들기\n",
    "# 실제로는 idhogar 하나에 두 개의 lugar이 안 나와서 의미는 없으나 다른 데이터에서는 의미 있을 접근 방법\n",
    "def create_lugar_aggr_derived_var(df, merged_df, aggr_list, func_list):\n",
    "    for function in tqdm(func_list):\n",
    "        for lugar in [\"lugar1\", \"lugar2\", \"lugar3\", \"lugar4\", \"lugar5\", \"lugar6\"]:\n",
    "            group_df = df[[lugar, \"idhogar\"] + aggr_list].groupby([lugar, \"idhogar\"]).agg(function).reset_index()\n",
    "            group_df.columns = [lugar, \"idhogar\"] + [\"new_%s_idhogar_%s_%s\" % (lugar, col, function) for col in group_df][2:]\n",
    "            \n",
    "            merged_df = pd.merge(merged_df, group_df, on=[lugar, \"idhogar\"])\n",
    "    \n",
    "    return"
   ]
  },
  {
   "cell_type": "code",
   "execution_count": 84,
   "metadata": {},
   "outputs": [
    {
     "name": "stderr",
     "output_type": "stream",
     "text": [
      "100%|███████████████████████████████████████████████| 6/6 [00:01<00:00,  3.89it/s]\n",
      "100%|███████████████████████████████████████████████| 6/6 [00:03<00:00,  1.94it/s]\n"
     ]
    }
   ],
   "source": [
    "aggr_list = [\"age\", \"meaneduc\", \"dependency\", \"hogar_nin\", \"hogar_adul\", \"hogar_mayor\", \"hogar_total\", \"bedrooms\", \"overcrowding\"]\n",
    "func_list = [\"mean\", \"std\", \"min\", \"max\", \"sum\", \"count\"]\n",
    "\n",
    "create_lugar_aggr_derived_var(df_train, train, aggr_list, func_list)\n",
    "create_lugar_aggr_derived_var(df_test, test, aggr_list, func_list)"
   ]
  },
  {
   "cell_type": "code",
   "execution_count": 85,
   "metadata": {},
   "outputs": [
    {
     "name": "stdout",
     "output_type": "stream",
     "text": [
      "--- train\n",
      "Series([], dtype: int64) \n",
      "\n",
      "--- test\n",
      "Series([], dtype: int64) \n",
      "\n"
     ]
    }
   ],
   "source": [
    "# inf 값 체크 (optional)\n",
    "# train\n",
    "print('---', 'train')\n",
    "train_inf_cnt = train.isin([np.inf, -np.inf]).sum().sort_values(ascending=False)\n",
    "print(train_inf_cnt[train_inf_cnt > 0], '\\n')\n",
    "\n",
    "# test\n",
    "print('---', 'test')\n",
    "test_inf_cnt = test.isin([np.inf, -np.inf]).sum().sort_values(ascending=False)\n",
    "print(test_inf_cnt[test_inf_cnt > 0], '\\n')"
   ]
  },
  {
   "cell_type": "markdown",
   "metadata": {},
   "source": [
    "**기타 정리**"
   ]
  },
  {
   "cell_type": "code",
   "execution_count": 86,
   "metadata": {},
   "outputs": [],
   "source": [
    "# head of households 만 scoring에 쓰므로 train 데이터 줄여 선택\n",
    "train = train.query(\"parentesco1==1\")"
   ]
  },
  {
   "cell_type": "code",
   "execution_count": 87,
   "metadata": {},
   "outputs": [],
   "source": [
    "# submission 파일 준비\n",
    "submission = test[[\"Id\"]]\n",
    "\n",
    "# 필요없는 데이터 정리 (중복 등)\n",
    "drop_cols = [\"idhogar\", \"Id\", \"agesq\", \"hogar_adul\", \"SQBescolari\", \"SQBage\", \"SQBhogar_total\", \"SQBedjefe\", \"SQBhogar_nin\", \"SQBovercrowding\", \"SQBdependency\", \"SQBmeaned\"]\n",
    "train.drop(drop_cols, axis=1, inplace=True)\n",
    "test.drop(drop_cols, axis=1, inplace=True)"
   ]
  },
  {
   "cell_type": "code",
   "execution_count": 88,
   "metadata": {},
   "outputs": [
    {
     "name": "stdout",
     "output_type": "stream",
     "text": [
      "estadocivil1\n",
      "parentesco1\n",
      "parentesco2\n",
      "parentesco3\n",
      "parentesco4\n",
      "parentesco5\n",
      "parentesco6\n",
      "parentesco7\n",
      "parentesco8\n",
      "parentesco9\n",
      "parentesco10\n",
      "parentesco11\n",
      "parentesco12\n",
      "new_rez_esc_per_hogar_mayor\n",
      "new_lugar6_x_instlevel9\n",
      "adult_new_std\n",
      "adult_new_max_min\n",
      "hogar_adul_new_std\n",
      "hogar_adul_new_max_min\n",
      "hogar_mayor_new_std\n",
      "hogar_mayor_new_max_min\n",
      "hogar_total_new_std\n",
      "hogar_total_new_max_min\n",
      "r4h1_new_std\n",
      "r4h1_new_max_min\n",
      "r4h2_new_std\n",
      "r4h2_new_max_min\n",
      "r4h3_new_std\n",
      "r4h3_new_max_min\n",
      "r4m1_new_std\n",
      "r4m1_new_max_min\n",
      "r4m2_new_std\n",
      "r4m2_new_max_min\n",
      "r4m3_new_std\n",
      "r4m3_new_max_min\n",
      "r4t1_new_std\n",
      "r4t1_new_max_min\n",
      "r4t2_new_std\n",
      "r4t2_new_max_min\n",
      "r4t3_new_std\n",
      "r4t3_new_max_min\n",
      "dependency_new_std\n",
      "dependency_new_max_min\n",
      "bedrooms_new_std\n",
      "bedrooms_new_max_min\n",
      "overcrowding_new_std\n",
      "overcrowding_new_max_min\n",
      "rooms_new_std\n",
      "rooms_new_max_min\n",
      "qmobilephone_new_std\n",
      "qmobilephone_new_max_min\n",
      "v18q1_new_std\n",
      "v18q1_new_max_min\n"
     ]
    }
   ],
   "source": [
    "cols_with_only_one_value = []\n",
    "\n",
    "for col in train.columns:\n",
    "    if col == \"Target\":\n",
    "        continue\n",
    "    if train[col].value_counts().shape[0] == 1 or test[col].value_counts().shape[0] == 1:\n",
    "        print(col)\n",
    "        cols_with_only_one_value.append(col)"
   ]
  },
  {
   "cell_type": "code",
   "execution_count": 89,
   "metadata": {},
   "outputs": [],
   "source": [
    "train.drop(cols_with_only_one_value, axis=1, inplace=True)\n",
    "test.drop(cols_with_only_one_value, axis=1, inplace=True)"
   ]
  },
  {
   "cell_type": "code",
   "execution_count": 90,
   "metadata": {},
   "outputs": [
    {
     "name": "stdout",
     "output_type": "stream",
     "text": [
      "(2973, 584)\n",
      "(23856, 583)\n"
     ]
    }
   ],
   "source": [
    "print(train.shape)\n",
    "print(test.shape)"
   ]
  },
  {
   "cell_type": "markdown",
   "metadata": {},
   "source": [
    "**Correlation 분석**"
   ]
  },
  {
   "cell_type": "code",
   "execution_count": 91,
   "metadata": {},
   "outputs": [],
   "source": [
    "correlation = train.corr()\n",
    "correlation = correlation[\"Target\"].sort_values(ascending=False)"
   ]
  },
  {
   "cell_type": "code",
   "execution_count": 92,
   "metadata": {},
   "outputs": [
    {
     "name": "stdout",
     "output_type": "stream",
     "text": [
      "Top 20 positive features:\n",
      "Target                                      1.000000\n",
      "escolari_new_mean                           0.423626\n",
      "escolari_new_max                            0.373091\n",
      "escolari                                    0.333791\n",
      "meaneduc                                    0.331489\n",
      "escolari_new_min                            0.306693\n",
      "phones-per-capita                           0.299026\n",
      "new_epared3_x_eviv3                         0.298196\n",
      "cielorazo                                   0.295249\n",
      "eviv3                                       0.293540\n",
      "new_etecho3_x_eviv3                         0.290338\n",
      "new_epared3_x_etecho3_x_eviv3               0.288869\n",
      "new_paredblolad_x_pisomoscer                0.281393\n",
      "epared3                                     0.280947\n",
      "new_epared3_x_etecho3                       0.276940\n",
      "escolari_age_new_min                        0.276896\n",
      "pisomoscer                                  0.275452\n",
      "new_paredblolad_x_pisomoscer_x_techozinc    0.270626\n",
      "adult_percent                               0.263882\n",
      "etecho3                                     0.261142\n",
      "Name: Target, dtype: float64\n"
     ]
    }
   ],
   "source": [
    "print(\"Top 20 positive features:\")\n",
    "print(correlation.head(20))"
   ]
  },
  {
   "cell_type": "code",
   "execution_count": 93,
   "metadata": {},
   "outputs": [
    {
     "name": "stdout",
     "output_type": "stream",
     "text": [
      "Top 20 negative features:\n",
      "overcrowding_new_sum               -0.209164\n",
      "etecho1                            -0.209181\n",
      "r4m1_new_max                       -0.209479\n",
      "r4m1_new_min                       -0.209479\n",
      "r4m1                               -0.209479\n",
      "r4m1_new_mean                      -0.209479\n",
      "eviv1                              -0.217908\n",
      "overcrowding_new_mean              -0.234954\n",
      "overcrowding_new_max               -0.234954\n",
      "overcrowding_new_min               -0.234954\n",
      "overcrowding                       -0.234954\n",
      "r4t1_new_sum                       -0.236645\n",
      "persons_younger_12_years_percent   -0.248346\n",
      "dependency_new_sum                 -0.259547\n",
      "r4t1                               -0.260917\n",
      "r4t1_new_max                       -0.260917\n",
      "r4t1_new_min                       -0.260917\n",
      "r4t1_new_mean                      -0.260917\n",
      "child_percent                      -0.263882\n",
      "hogar_nin                          -0.266309\n",
      "Name: Target, dtype: float64\n"
     ]
    }
   ],
   "source": [
    "print(\"Top 20 negative features:\")\n",
    "print(correlation.tail(20))"
   ]
  },
  {
   "cell_type": "markdown",
   "metadata": {},
   "source": [
    "## 3. Feature selection"
   ]
  },
  {
   "cell_type": "code",
   "execution_count": 94,
   "metadata": {},
   "outputs": [],
   "source": [
    "# y 값 분리\n",
    "y = train[\"Target\"]\n",
    "train = train.drop([\"Target\"], axis=1)"
   ]
  },
  {
   "cell_type": "code",
   "execution_count": 95,
   "metadata": {},
   "outputs": [
    {
     "data": {
      "text/plain": [
       "['hacdor',\n",
       " 'hacapo',\n",
       " 'v14a',\n",
       " 'refrig',\n",
       " 'v18q',\n",
       " 'rez_esc',\n",
       " 'paredblolad',\n",
       " 'paredzocalo',\n",
       " 'paredpreb',\n",
       " 'pareddes',\n",
       " 'paredmad',\n",
       " 'paredzinc',\n",
       " 'paredfibras',\n",
       " 'paredother',\n",
       " 'pisomoscer',\n",
       " 'pisocemento',\n",
       " 'pisoother',\n",
       " 'pisonatur',\n",
       " 'pisonotiene',\n",
       " 'pisomadera',\n",
       " 'techozinc',\n",
       " 'techoentrepiso',\n",
       " 'techocane',\n",
       " 'techootro',\n",
       " 'cielorazo',\n",
       " 'abastaguadentro',\n",
       " 'abastaguafuera',\n",
       " 'abastaguano',\n",
       " 'public',\n",
       " 'planpri',\n",
       " 'noelec',\n",
       " 'coopele',\n",
       " 'sanitario1',\n",
       " 'sanitario2',\n",
       " 'sanitario3',\n",
       " 'sanitario5',\n",
       " 'sanitario6',\n",
       " 'energcocinar1',\n",
       " 'energcocinar2',\n",
       " 'energcocinar3',\n",
       " 'energcocinar4',\n",
       " 'elimbasu1',\n",
       " 'elimbasu2',\n",
       " 'elimbasu3',\n",
       " 'elimbasu4',\n",
       " 'elimbasu6',\n",
       " 'epared1',\n",
       " 'epared2',\n",
       " 'epared3',\n",
       " 'etecho1',\n",
       " 'etecho2',\n",
       " 'etecho3',\n",
       " 'eviv1',\n",
       " 'eviv2',\n",
       " 'eviv3',\n",
       " 'dis',\n",
       " 'male',\n",
       " 'female',\n",
       " 'estadocivil2',\n",
       " 'estadocivil3',\n",
       " 'estadocivil4',\n",
       " 'estadocivil5',\n",
       " 'estadocivil6',\n",
       " 'estadocivil7',\n",
       " 'instlevel1',\n",
       " 'instlevel2',\n",
       " 'instlevel3',\n",
       " 'instlevel4',\n",
       " 'instlevel5',\n",
       " 'instlevel6',\n",
       " 'instlevel7',\n",
       " 'instlevel8',\n",
       " 'instlevel9',\n",
       " 'tipovivi1',\n",
       " 'tipovivi2',\n",
       " 'tipovivi3',\n",
       " 'tipovivi4',\n",
       " 'tipovivi5',\n",
       " 'computer',\n",
       " 'television',\n",
       " 'mobilephone',\n",
       " 'lugar1',\n",
       " 'lugar2',\n",
       " 'lugar3',\n",
       " 'lugar4',\n",
       " 'lugar5',\n",
       " 'lugar6',\n",
       " 'area1',\n",
       " 'area2',\n",
       " 'new_rez_esc_per_adult',\n",
       " 'new_rez_esc_per_hogar_adul',\n",
       " 'new_rez_esc_per_hogar_total',\n",
       " 'new_rez_esc_per_r4h1',\n",
       " 'new_rez_esc_per_r4h2',\n",
       " 'new_rez_esc_per_r4h3',\n",
       " 'new_rez_esc_per_r4m1',\n",
       " 'new_rez_esc_per_r4m2',\n",
       " 'new_rez_esc_per_r4m3',\n",
       " 'new_rez_esc_per_r4t1',\n",
       " 'new_rez_esc_per_r4t2',\n",
       " 'new_rez_esc_per_r4t3',\n",
       " 'new_epared1_x_etecho1',\n",
       " 'new_epared1_x_etecho2',\n",
       " 'new_epared1_x_etecho3',\n",
       " 'new_epared2_x_etecho1',\n",
       " 'new_epared2_x_etecho2',\n",
       " 'new_epared2_x_etecho3',\n",
       " 'new_epared3_x_etecho1',\n",
       " 'new_epared3_x_etecho2',\n",
       " 'new_epared3_x_etecho3',\n",
       " 'new_epared1_x_eviv1',\n",
       " 'new_epared1_x_eviv2',\n",
       " 'new_epared1_x_eviv3',\n",
       " 'new_epared2_x_eviv1',\n",
       " 'new_epared2_x_eviv2',\n",
       " 'new_epared2_x_eviv3',\n",
       " 'new_epared3_x_eviv1',\n",
       " 'new_epared3_x_eviv2',\n",
       " 'new_epared3_x_eviv3',\n",
       " 'new_etecho1_x_eviv1',\n",
       " 'new_etecho1_x_eviv2',\n",
       " 'new_etecho1_x_eviv3',\n",
       " 'new_etecho2_x_eviv1',\n",
       " 'new_etecho2_x_eviv2',\n",
       " 'new_etecho2_x_eviv3',\n",
       " 'new_etecho3_x_eviv1',\n",
       " 'new_etecho3_x_eviv2',\n",
       " 'new_etecho3_x_eviv3',\n",
       " 'new_public_x_energcocinar1',\n",
       " 'new_public_x_energcocinar2',\n",
       " 'new_public_x_energcocinar3',\n",
       " 'new_public_x_energcocinar4',\n",
       " 'new_noelec_x_energcocinar1',\n",
       " 'new_noelec_x_energcocinar3',\n",
       " 'new_noelec_x_energcocinar4',\n",
       " 'new_coopele_x_energcocinar1',\n",
       " 'new_coopele_x_energcocinar2',\n",
       " 'new_coopele_x_energcocinar3',\n",
       " 'new_coopele_x_energcocinar4',\n",
       " 'new_sanitario1_x_elimbasu1',\n",
       " 'new_sanitario1_x_elimbasu2',\n",
       " 'new_sanitario1_x_elimbasu3',\n",
       " 'new_sanitario2_x_elimbasu1',\n",
       " 'new_sanitario2_x_elimbasu2',\n",
       " 'new_sanitario2_x_elimbasu3',\n",
       " 'new_sanitario3_x_elimbasu1',\n",
       " 'new_sanitario3_x_elimbasu2',\n",
       " 'new_sanitario3_x_elimbasu3',\n",
       " 'new_sanitario3_x_elimbasu4',\n",
       " 'new_sanitario3_x_elimbasu6',\n",
       " 'new_sanitario5_x_elimbasu1',\n",
       " 'new_sanitario5_x_elimbasu2',\n",
       " 'new_sanitario5_x_elimbasu3',\n",
       " 'new_sanitario6_x_elimbasu1',\n",
       " 'new_sanitario6_x_elimbasu3',\n",
       " 'new_abastaguadentro_x_sanitario1',\n",
       " 'new_abastaguadentro_x_sanitario2',\n",
       " 'new_abastaguadentro_x_sanitario3',\n",
       " 'new_abastaguadentro_x_sanitario5',\n",
       " 'new_abastaguadentro_x_sanitario6',\n",
       " 'new_abastaguafuera_x_sanitario1',\n",
       " 'new_abastaguafuera_x_sanitario2',\n",
       " 'new_abastaguafuera_x_sanitario3',\n",
       " 'new_abastaguafuera_x_sanitario5',\n",
       " 'new_abastaguano_x_sanitario1',\n",
       " 'new_abastaguano_x_sanitario3',\n",
       " 'new_abastaguano_x_sanitario5',\n",
       " 'new_area1_x_instlevel1',\n",
       " 'new_area1_x_instlevel2',\n",
       " 'new_area1_x_instlevel3',\n",
       " 'new_area1_x_instlevel4',\n",
       " 'new_area1_x_instlevel5',\n",
       " 'new_area1_x_instlevel6',\n",
       " 'new_area1_x_instlevel7',\n",
       " 'new_area1_x_instlevel8',\n",
       " 'new_area1_x_instlevel9',\n",
       " 'new_area2_x_instlevel1',\n",
       " 'new_area2_x_instlevel2',\n",
       " 'new_area2_x_instlevel3',\n",
       " 'new_area2_x_instlevel4',\n",
       " 'new_area2_x_instlevel5',\n",
       " 'new_area2_x_instlevel6',\n",
       " 'new_area2_x_instlevel7',\n",
       " 'new_area2_x_instlevel8',\n",
       " 'new_area2_x_instlevel9',\n",
       " 'new_lugar1_x_instlevel1',\n",
       " 'new_lugar1_x_instlevel2',\n",
       " 'new_lugar1_x_instlevel3',\n",
       " 'new_lugar1_x_instlevel4',\n",
       " 'new_lugar1_x_instlevel5',\n",
       " 'new_lugar1_x_instlevel6',\n",
       " 'new_lugar1_x_instlevel7',\n",
       " 'new_lugar1_x_instlevel8',\n",
       " 'new_lugar1_x_instlevel9',\n",
       " 'new_lugar2_x_instlevel1',\n",
       " 'new_lugar2_x_instlevel2',\n",
       " 'new_lugar2_x_instlevel3',\n",
       " 'new_lugar2_x_instlevel4',\n",
       " 'new_lugar2_x_instlevel5',\n",
       " 'new_lugar2_x_instlevel6',\n",
       " 'new_lugar2_x_instlevel7',\n",
       " 'new_lugar2_x_instlevel8',\n",
       " 'new_lugar2_x_instlevel9',\n",
       " 'new_lugar3_x_instlevel1',\n",
       " 'new_lugar3_x_instlevel2',\n",
       " 'new_lugar3_x_instlevel3',\n",
       " 'new_lugar3_x_instlevel4',\n",
       " 'new_lugar3_x_instlevel5',\n",
       " 'new_lugar3_x_instlevel6',\n",
       " 'new_lugar3_x_instlevel7',\n",
       " 'new_lugar3_x_instlevel8',\n",
       " 'new_lugar3_x_instlevel9',\n",
       " 'new_lugar4_x_instlevel1',\n",
       " 'new_lugar4_x_instlevel2',\n",
       " 'new_lugar4_x_instlevel3',\n",
       " 'new_lugar4_x_instlevel4',\n",
       " 'new_lugar4_x_instlevel5',\n",
       " 'new_lugar4_x_instlevel6',\n",
       " 'new_lugar4_x_instlevel7',\n",
       " 'new_lugar4_x_instlevel8',\n",
       " 'new_lugar4_x_instlevel9',\n",
       " 'new_lugar5_x_instlevel1',\n",
       " 'new_lugar5_x_instlevel2',\n",
       " 'new_lugar5_x_instlevel3',\n",
       " 'new_lugar5_x_instlevel4',\n",
       " 'new_lugar5_x_instlevel5',\n",
       " 'new_lugar5_x_instlevel6',\n",
       " 'new_lugar5_x_instlevel7',\n",
       " 'new_lugar5_x_instlevel8',\n",
       " 'new_lugar5_x_instlevel9',\n",
       " 'new_lugar6_x_instlevel1',\n",
       " 'new_lugar6_x_instlevel2',\n",
       " 'new_lugar6_x_instlevel3',\n",
       " 'new_lugar6_x_instlevel4',\n",
       " 'new_lugar6_x_instlevel5',\n",
       " 'new_lugar6_x_instlevel6',\n",
       " 'new_lugar6_x_instlevel7',\n",
       " 'new_lugar6_x_instlevel8',\n",
       " 'new_paredblolad_x_pisomoscer',\n",
       " 'new_paredblolad_x_pisocemento',\n",
       " 'new_paredblolad_x_pisoother',\n",
       " 'new_paredblolad_x_pisomadera',\n",
       " 'new_paredzocalo_x_pisomoscer',\n",
       " 'new_paredzocalo_x_pisocemento',\n",
       " 'new_paredzocalo_x_pisonotiene',\n",
       " 'new_paredzocalo_x_pisomadera',\n",
       " 'new_paredpreb_x_pisomoscer',\n",
       " 'new_paredpreb_x_pisocemento',\n",
       " 'new_paredpreb_x_pisoother',\n",
       " 'new_paredpreb_x_pisonotiene',\n",
       " 'new_paredpreb_x_pisomadera',\n",
       " 'new_pareddes_x_pisomoscer',\n",
       " 'new_pareddes_x_pisocemento',\n",
       " 'new_pareddes_x_pisonotiene',\n",
       " 'new_pareddes_x_pisomadera',\n",
       " 'new_paredmad_x_pisomoscer',\n",
       " 'new_paredmad_x_pisocemento',\n",
       " 'new_paredmad_x_pisonotiene',\n",
       " 'new_paredmad_x_pisomadera',\n",
       " 'new_paredzinc_x_pisomoscer',\n",
       " 'new_paredzinc_x_pisocemento',\n",
       " 'new_paredzinc_x_pisonotiene',\n",
       " 'new_paredzinc_x_pisomadera',\n",
       " 'new_paredfibras_x_pisomoscer',\n",
       " 'new_paredfibras_x_pisocemento',\n",
       " 'new_paredother_x_pisomoscer',\n",
       " 'new_paredother_x_pisocemento',\n",
       " 'new_pisomoscer_x_techozinc',\n",
       " 'new_pisomoscer_x_techoentrepiso',\n",
       " 'new_pisomoscer_x_techocane',\n",
       " 'new_pisomoscer_x_techootro',\n",
       " 'new_pisocemento_x_techozinc',\n",
       " 'new_pisocemento_x_techoentrepiso',\n",
       " 'new_pisoother_x_techozinc',\n",
       " 'new_pisonotiene_x_techozinc',\n",
       " 'new_pisomadera_x_techozinc',\n",
       " 'new_pisomadera_x_techoentrepiso',\n",
       " 'new_paredblolad_x_techozinc',\n",
       " 'new_paredblolad_x_techoentrepiso',\n",
       " 'new_paredblolad_x_techocane',\n",
       " 'new_paredblolad_x_techootro',\n",
       " 'new_paredzocalo_x_techozinc',\n",
       " 'new_paredpreb_x_techozinc',\n",
       " 'new_paredpreb_x_techoentrepiso',\n",
       " 'new_paredpreb_x_techocane',\n",
       " 'new_pareddes_x_techozinc',\n",
       " 'new_paredmad_x_techozinc',\n",
       " 'new_paredmad_x_techoentrepiso',\n",
       " 'new_paredzinc_x_techozinc',\n",
       " 'new_paredfibras_x_techozinc',\n",
       " 'new_paredfibras_x_techocane',\n",
       " 'new_paredother_x_techozinc',\n",
       " 'new_epared1_x_etecho1_x_eviv1',\n",
       " 'new_epared1_x_etecho1_x_eviv2',\n",
       " 'new_epared1_x_etecho1_x_eviv3',\n",
       " 'new_epared1_x_etecho2_x_eviv1',\n",
       " 'new_epared1_x_etecho2_x_eviv2',\n",
       " 'new_epared1_x_etecho2_x_eviv3',\n",
       " 'new_epared1_x_etecho3_x_eviv1',\n",
       " 'new_epared1_x_etecho3_x_eviv2',\n",
       " 'new_epared1_x_etecho3_x_eviv3',\n",
       " 'new_epared2_x_etecho1_x_eviv1',\n",
       " 'new_epared2_x_etecho1_x_eviv2',\n",
       " 'new_epared2_x_etecho1_x_eviv3',\n",
       " 'new_epared2_x_etecho2_x_eviv1',\n",
       " 'new_epared2_x_etecho2_x_eviv2',\n",
       " 'new_epared2_x_etecho2_x_eviv3',\n",
       " 'new_epared2_x_etecho3_x_eviv1',\n",
       " 'new_epared2_x_etecho3_x_eviv2',\n",
       " 'new_epared2_x_etecho3_x_eviv3',\n",
       " 'new_epared3_x_etecho1_x_eviv1',\n",
       " 'new_epared3_x_etecho1_x_eviv2',\n",
       " 'new_epared3_x_etecho1_x_eviv3',\n",
       " 'new_epared3_x_etecho2_x_eviv1',\n",
       " 'new_epared3_x_etecho2_x_eviv2',\n",
       " 'new_epared3_x_etecho2_x_eviv3',\n",
       " 'new_epared3_x_etecho3_x_eviv1',\n",
       " 'new_epared3_x_etecho3_x_eviv2',\n",
       " 'new_epared3_x_etecho3_x_eviv3',\n",
       " 'new_paredblolad_x_pisomoscer_x_techozinc',\n",
       " 'new_paredblolad_x_pisomoscer_x_techoentrepiso',\n",
       " 'new_paredblolad_x_pisomoscer_x_techocane',\n",
       " 'new_paredblolad_x_pisomoscer_x_techootro',\n",
       " 'new_paredblolad_x_pisocemento_x_techozinc',\n",
       " 'new_paredblolad_x_pisocemento_x_techoentrepiso',\n",
       " 'new_paredblolad_x_pisoother_x_techozinc',\n",
       " 'new_paredblolad_x_pisomadera_x_techozinc',\n",
       " 'new_paredblolad_x_pisomadera_x_techoentrepiso',\n",
       " 'new_paredzocalo_x_pisomoscer_x_techozinc',\n",
       " 'new_paredzocalo_x_pisocemento_x_techozinc',\n",
       " 'new_paredzocalo_x_pisonotiene_x_techozinc',\n",
       " 'new_paredzocalo_x_pisomadera_x_techozinc',\n",
       " 'new_paredpreb_x_pisomoscer_x_techozinc',\n",
       " 'new_paredpreb_x_pisomoscer_x_techoentrepiso',\n",
       " 'new_paredpreb_x_pisomoscer_x_techocane',\n",
       " 'new_paredpreb_x_pisocemento_x_techozinc',\n",
       " 'new_paredpreb_x_pisoother_x_techozinc',\n",
       " 'new_paredpreb_x_pisonotiene_x_techozinc',\n",
       " 'new_paredpreb_x_pisomadera_x_techozinc',\n",
       " 'new_pareddes_x_pisocemento_x_techozinc',\n",
       " 'new_pareddes_x_pisonotiene_x_techozinc',\n",
       " 'new_paredmad_x_pisomoscer_x_techozinc',\n",
       " 'new_paredmad_x_pisomoscer_x_techoentrepiso',\n",
       " 'new_paredmad_x_pisocemento_x_techozinc',\n",
       " 'new_paredmad_x_pisocemento_x_techoentrepiso',\n",
       " 'new_paredmad_x_pisonotiene_x_techozinc',\n",
       " 'new_paredmad_x_pisomadera_x_techozinc',\n",
       " 'new_paredmad_x_pisomadera_x_techoentrepiso',\n",
       " 'new_paredzinc_x_pisomoscer_x_techozinc',\n",
       " 'new_paredzinc_x_pisocemento_x_techozinc',\n",
       " 'new_paredzinc_x_pisonotiene_x_techozinc',\n",
       " 'new_paredzinc_x_pisomadera_x_techozinc',\n",
       " 'new_paredfibras_x_pisomoscer_x_techozinc',\n",
       " 'new_paredfibras_x_pisocemento_x_techozinc',\n",
       " 'new_paredother_x_pisomoscer_x_techozinc',\n",
       " 'new_paredother_x_pisocemento_x_techozinc']"
      ]
     },
     "execution_count": 95,
     "metadata": {},
     "output_type": "execute_result"
    }
   ],
   "source": [
    "# LGBM 모델에서 categorical feats 따로 지정을 위해 관련 변수 목록 변수 저장\n",
    "categorical_feats = [col for col in train.columns if train[col].value_counts().shape[0] == 2]\n",
    "categorical_feats"
   ]
  },
  {
   "cell_type": "code",
   "execution_count": 96,
   "metadata": {},
   "outputs": [],
   "source": [
    "# multi class classifcation 모델 평가를 위한 평가 함수 정의\n",
    "# F1 score\n",
    "# 1이 좋음, 0이 안 좋음\n",
    "# F1 = 2 * (precision * recall) / (precision + recall)\n",
    "# y_true = [0, 1, 2, 0, 1, 2]\n",
    "# y_pred = [0, 2, 1, 0, 0, 1]\n",
    "# f1_score(y_true, y_pred, average='macro')\n",
    "def evaluate_macroF1_lgb(truth, predictions):\n",
    "    pred_labels = predictions.reshape(len(np.unique(truth)), -1).argmax(axis=0)\n",
    "    f1 = f1_score(truth, pred_labels, average=\"macro\")\n",
    "    return (\"macroF1\", f1, True)"
   ]
  },
  {
   "cell_type": "code",
   "execution_count": 97,
   "metadata": {},
   "outputs": [],
   "source": [
    "# 소요 시간 출력 함수\n",
    "def print_execution_time(start):\n",
    "    end = time.time()\n",
    "    hours, rem = divmod(end-start, 3600)\n",
    "    minutes, seconds = divmod(rem, 60)\n",
    "    # {:0>2} 왼쪽 두 칸 공간 확보 + 0으로 채우기 (00h)\n",
    "    print(\"*\"*20, \"Execution ended in {:0>2}h {:0>2}m {:05.2f}s\".format(int(hours), int(minutes), seconds), \"*\"*20)"
   ]
  },
  {
   "cell_type": "code",
   "execution_count": 98,
   "metadata": {},
   "outputs": [],
   "source": [
    "# feature 추출을 위한 shap 사용 함수\n",
    "def extract_good_features_using_shap_LGB(params, SEED):\n",
    "    clf = lgb.LGBMClassifier(objective=\"multiclass\",\n",
    "                            random_state=1989,\n",
    "                            max_depth=params[\"max_depth\"],\n",
    "                            learning_rate=params[\"learning_rate\"],\n",
    "                            silent=True,\n",
    "                            metric=\"multi_logloss\",\n",
    "                            n_jobs=-1, n_estimators=10000,\n",
    "                            class_weight=\"balanced\",\n",
    "                            colsample_bytree=params[\"colsample_bytree\"],\n",
    "                            min_split_gain=params[\"min_split_gain\"],\n",
    "                            bagging_freq=params[\"bagging_freq\"],\n",
    "                            min_child_weight=params[\"min_child_weight\"],\n",
    "                            num_leaves=params[\"num_leaves\"],\n",
    "                            subsample=params[\"subsample\"],\n",
    "                            reg_alpha=params[\"reg_alpha\"],\n",
    "                            reg_lambda=params[\"reg_lambda\"],\n",
    "                            num_class=len(np.unique(y)),\n",
    "                            bagging_seed=SEED,\n",
    "                            seed=SEED)\n",
    "    \n",
    "    # 단순히 나누는 것이 아니라 label에 따라 균등하게 나눠주는 split\n",
    "    kfold = 5\n",
    "    kf = StratifiedKFold(n_splits=kfold, shuffle=True)\n",
    "    \n",
    "    feat_importance_df = pd.DataFrame()\n",
    "    \n",
    "    for i, (train_index, test_index) in enumerate(kf.split(train, y)):\n",
    "        print(\"=\"*30, \"%s of %s folds\" % (i+1, kfold), \"=\"*30)\n",
    "        start = time.time()\n",
    "        X_train, X_val = train.iloc[train_index], train.iloc[test_index]\n",
    "        y_train, y_val = y.iloc[train_index], y.iloc[test_index]\n",
    "        \n",
    "        # 범주형 데이터 알아서 처리 위해 categorical_feature 파라미터 설정\n",
    "        # eval_set 은 [X_val, y_val] 로 입력하는 것도 무방\n",
    "        # custom eval metric 예시: https://www.kaggle.com/ttahara/example-of-lgbm-custom-metric\n",
    "        # (eval_name, eval_result, is_higher_better) --> is_higher_better 은 큰 값이 좋을 때 True (Accuracy), 작은 값이 좋을 때 False (Loss)\n",
    "        # eval_metric 으로 지정된 macroF1 이 제일 좋은 값으로 나온 후에 100번동안 그 값이 개선이 안 되면 그 값을 최적값으로 설정하고 종료\n",
    "        clf.fit(X_train, y_train, eval_set=[(X_val, y_val)], eval_metric=evaluate_macroF1_lgb,\n",
    "               categorical_feature=categorical_feats, early_stopping_rounds=50, verbose=500)\n",
    "    \n",
    "        # clf.booster_ 는 모델을 의미\n",
    "        shap_values = shap.TreeExplainer(clf.booster_).shap_values(X_train)\n",
    "        \n",
    "        fold_importance_df = pd.DataFrame()\n",
    "        fold_importance_df[\"feature\"] = X_train.columns\n",
    "        # mean(1) - shape 1값 없앤 평균, mean(0) - shape 0값 없앤 평균\n",
    "        # 4개 label 평균낸값으로 얼마나 임팩트있는지 분류 (multiclass classification 문제에서 shap_values는 각 label별로 나옴)\n",
    "        fold_importance_df['shap_values'] = abs(np.array(shap_values)[:, :].mean(1).mean(0))\n",
    "        # 131 개 row 씩 iteration 마다 추가됨. 나중에 group해서 131개 row로 줄여야함\n",
    "        fold_importance_df[\"feat_imp\"] = clf.feature_importances_\n",
    "        \n",
    "        feat_importance_df = pd.concat([feat_importance_df, fold_importance_df])\n",
    "        print_execution_time(start)\n",
    "        \n",
    "    feat_importance_df_shap = feat_importance_df.groupby(\"feature\").mean().sort_values(\"shap_values\", ascending=False).reset_index()\n",
    "    \n",
    "    return feat_importance_df_shap     "
   ]
  },
  {
   "cell_type": "code",
   "execution_count": 99,
   "metadata": {},
   "outputs": [
    {
     "name": "stdout",
     "output_type": "stream",
     "text": [
      "######################################## 1 of 10 iterations ########################################\n",
      "============================== 1 of 5 folds ==============================\n",
      "[LightGBM] [Warning] seed is set=0, random_state=1989 will be ignored. Current value: seed=0\n",
      "[LightGBM] [Warning] bagging_freq is set=2, subsample_freq=0 will be ignored. Current value: bagging_freq=2\n",
      "Training until validation scores don't improve for 50 rounds\n",
      "Early stopping, best iteration is:\n",
      "[5]\tvalid_0's multi_logloss: 1.36202\tvalid_0's macroF1: 0.409652\n",
      "******************** Execution ended in 00h 00m 00.64s ********************\n",
      "============================== 2 of 5 folds ==============================\n",
      "[LightGBM] [Warning] seed is set=0, random_state=1989 will be ignored. Current value: seed=0\n",
      "[LightGBM] [Warning] bagging_freq is set=2, subsample_freq=0 will be ignored. Current value: bagging_freq=2\n",
      "Training until validation scores don't improve for 50 rounds\n",
      "Early stopping, best iteration is:\n",
      "[57]\tvalid_0's multi_logloss: 1.22653\tvalid_0's macroF1: 0.399503\n",
      "******************** Execution ended in 00h 00m 00.71s ********************\n",
      "============================== 3 of 5 folds ==============================\n",
      "[LightGBM] [Warning] seed is set=0, random_state=1989 will be ignored. Current value: seed=0\n",
      "[LightGBM] [Warning] bagging_freq is set=2, subsample_freq=0 will be ignored. Current value: bagging_freq=2\n",
      "Training until validation scores don't improve for 50 rounds\n",
      "Early stopping, best iteration is:\n",
      "[6]\tvalid_0's multi_logloss: 1.35644\tvalid_0's macroF1: 0.415818\n",
      "******************** Execution ended in 00h 00m 00.56s ********************\n",
      "============================== 4 of 5 folds ==============================\n",
      "[LightGBM] [Warning] seed is set=0, random_state=1989 will be ignored. Current value: seed=0\n",
      "[LightGBM] [Warning] bagging_freq is set=2, subsample_freq=0 will be ignored. Current value: bagging_freq=2\n",
      "Training until validation scores don't improve for 50 rounds\n",
      "Early stopping, best iteration is:\n",
      "[89]\tvalid_0's multi_logloss: 1.15032\tvalid_0's macroF1: 0.448086\n",
      "******************** Execution ended in 00h 00m 01.74s ********************\n",
      "============================== 5 of 5 folds ==============================\n",
      "[LightGBM] [Warning] seed is set=0, random_state=1989 will be ignored. Current value: seed=0\n",
      "[LightGBM] [Warning] bagging_freq is set=2, subsample_freq=0 will be ignored. Current value: bagging_freq=2\n",
      "Training until validation scores don't improve for 50 rounds\n",
      "Early stopping, best iteration is:\n",
      "[18]\tvalid_0's multi_logloss: 1.31277\tvalid_0's macroF1: 0.446309\n",
      "******************** Execution ended in 00h 00m 01.20s ********************\n",
      "######################################## 2 of 10 iterations ########################################\n",
      "============================== 1 of 5 folds ==============================\n",
      "[LightGBM] [Warning] seed is set=1, random_state=1989 will be ignored. Current value: seed=1\n",
      "[LightGBM] [Warning] bagging_freq is set=3, subsample_freq=0 will be ignored. Current value: bagging_freq=3\n",
      "Training until validation scores don't improve for 50 rounds\n",
      "Early stopping, best iteration is:\n",
      "[42]\tvalid_0's multi_logloss: 1.2227\tvalid_0's macroF1: 0.392469\n",
      "******************** Execution ended in 00h 00m 00.80s ********************\n",
      "============================== 2 of 5 folds ==============================\n",
      "[LightGBM] [Warning] seed is set=1, random_state=1989 will be ignored. Current value: seed=1\n",
      "[LightGBM] [Warning] bagging_freq is set=3, subsample_freq=0 will be ignored. Current value: bagging_freq=3\n",
      "Training until validation scores don't improve for 50 rounds\n",
      "Early stopping, best iteration is:\n",
      "[75]\tvalid_0's multi_logloss: 1.176\tvalid_0's macroF1: 0.439585\n",
      "******************** Execution ended in 00h 00m 01.10s ********************\n",
      "============================== 3 of 5 folds ==============================\n",
      "[LightGBM] [Warning] seed is set=1, random_state=1989 will be ignored. Current value: seed=1\n",
      "[LightGBM] [Warning] bagging_freq is set=3, subsample_freq=0 will be ignored. Current value: bagging_freq=3\n",
      "Training until validation scores don't improve for 50 rounds\n",
      "Early stopping, best iteration is:\n",
      "[51]\tvalid_0's multi_logloss: 1.20698\tvalid_0's macroF1: 0.401931\n",
      "******************** Execution ended in 00h 00m 00.84s ********************\n",
      "============================== 4 of 5 folds ==============================\n",
      "[LightGBM] [Warning] seed is set=1, random_state=1989 will be ignored. Current value: seed=1\n",
      "[LightGBM] [Warning] bagging_freq is set=3, subsample_freq=0 will be ignored. Current value: bagging_freq=3\n",
      "Training until validation scores don't improve for 50 rounds\n",
      "Early stopping, best iteration is:\n",
      "[220]\tvalid_0's multi_logloss: 1.14819\tvalid_0's macroF1: 0.370146\n",
      "******************** Execution ended in 00h 00m 01.99s ********************\n",
      "============================== 5 of 5 folds ==============================\n",
      "[LightGBM] [Warning] seed is set=1, random_state=1989 will be ignored. Current value: seed=1\n",
      "[LightGBM] [Warning] bagging_freq is set=3, subsample_freq=0 will be ignored. Current value: bagging_freq=3\n",
      "Training until validation scores don't improve for 50 rounds\n",
      "Early stopping, best iteration is:\n",
      "[8]\tvalid_0's multi_logloss: 1.33959\tvalid_0's macroF1: 0.407908\n",
      "******************** Execution ended in 00h 00m 00.37s ********************\n",
      "######################################## 3 of 10 iterations ########################################\n",
      "============================== 1 of 5 folds ==============================\n",
      "[LightGBM] [Warning] seed is set=2, random_state=1989 will be ignored. Current value: seed=2\n",
      "[LightGBM] [Warning] bagging_freq is set=3, subsample_freq=0 will be ignored. Current value: bagging_freq=3\n",
      "Training until validation scores don't improve for 50 rounds\n",
      "Early stopping, best iteration is:\n",
      "[81]\tvalid_0's multi_logloss: 1.08628\tvalid_0's macroF1: 0.434287\n",
      "******************** Execution ended in 00h 00m 01.00s ********************\n",
      "============================== 2 of 5 folds ==============================\n",
      "[LightGBM] [Warning] seed is set=2, random_state=1989 will be ignored. Current value: seed=2\n",
      "[LightGBM] [Warning] bagging_freq is set=3, subsample_freq=0 will be ignored. Current value: bagging_freq=3\n",
      "Training until validation scores don't improve for 50 rounds\n",
      "Early stopping, best iteration is:\n",
      "[4]\tvalid_0's multi_logloss: 1.35551\tvalid_0's macroF1: 0.430802\n",
      "******************** Execution ended in 00h 00m 00.77s ********************\n",
      "============================== 3 of 5 folds ==============================\n",
      "[LightGBM] [Warning] seed is set=2, random_state=1989 will be ignored. Current value: seed=2\n",
      "[LightGBM] [Warning] bagging_freq is set=3, subsample_freq=0 will be ignored. Current value: bagging_freq=3\n",
      "Training until validation scores don't improve for 50 rounds\n",
      "Early stopping, best iteration is:\n",
      "[42]\tvalid_0's multi_logloss: 1.19689\tvalid_0's macroF1: 0.398315\n",
      "******************** Execution ended in 00h 00m 00.92s ********************\n",
      "============================== 4 of 5 folds ==============================\n",
      "[LightGBM] [Warning] seed is set=2, random_state=1989 will be ignored. Current value: seed=2\n",
      "[LightGBM] [Warning] bagging_freq is set=3, subsample_freq=0 will be ignored. Current value: bagging_freq=3\n",
      "Training until validation scores don't improve for 50 rounds\n",
      "Early stopping, best iteration is:\n",
      "[20]\tvalid_0's multi_logloss: 1.25098\tvalid_0's macroF1: 0.420993\n",
      "******************** Execution ended in 00h 00m 00.61s ********************\n",
      "============================== 5 of 5 folds ==============================\n",
      "[LightGBM] [Warning] seed is set=2, random_state=1989 will be ignored. Current value: seed=2\n",
      "[LightGBM] [Warning] bagging_freq is set=3, subsample_freq=0 will be ignored. Current value: bagging_freq=3\n",
      "Training until validation scores don't improve for 50 rounds\n",
      "Early stopping, best iteration is:\n",
      "[107]\tvalid_0's multi_logloss: 1.1068\tvalid_0's macroF1: 0.41595\n",
      "******************** Execution ended in 00h 00m 01.27s ********************\n",
      "######################################## 4 of 10 iterations ########################################\n",
      "============================== 1 of 5 folds ==============================\n",
      "[LightGBM] [Warning] seed is set=3, random_state=1989 will be ignored. Current value: seed=3\n",
      "[LightGBM] [Warning] bagging_freq is set=2, subsample_freq=0 will be ignored. Current value: bagging_freq=2\n",
      "Training until validation scores don't improve for 50 rounds\n"
     ]
    },
    {
     "name": "stdout",
     "output_type": "stream",
     "text": [
      "Early stopping, best iteration is:\n",
      "[109]\tvalid_0's multi_logloss: 1.09985\tvalid_0's macroF1: 0.453954\n",
      "******************** Execution ended in 00h 00m 01.55s ********************\n",
      "============================== 2 of 5 folds ==============================\n",
      "[LightGBM] [Warning] seed is set=3, random_state=1989 will be ignored. Current value: seed=3\n",
      "[LightGBM] [Warning] bagging_freq is set=2, subsample_freq=0 will be ignored. Current value: bagging_freq=2\n",
      "Training until validation scores don't improve for 50 rounds\n",
      "Early stopping, best iteration is:\n",
      "[5]\tvalid_0's multi_logloss: 1.36048\tvalid_0's macroF1: 0.422055\n",
      "******************** Execution ended in 00h 00m 00.44s ********************\n",
      "============================== 3 of 5 folds ==============================\n",
      "[LightGBM] [Warning] seed is set=3, random_state=1989 will be ignored. Current value: seed=3\n",
      "[LightGBM] [Warning] bagging_freq is set=2, subsample_freq=0 will be ignored. Current value: bagging_freq=2\n",
      "Training until validation scores don't improve for 50 rounds\n",
      "Early stopping, best iteration is:\n",
      "[20]\tvalid_0's multi_logloss: 1.29763\tvalid_0's macroF1: 0.42343\n",
      "******************** Execution ended in 00h 00m 00.46s ********************\n",
      "============================== 4 of 5 folds ==============================\n",
      "[LightGBM] [Warning] seed is set=3, random_state=1989 will be ignored. Current value: seed=3\n",
      "[LightGBM] [Warning] bagging_freq is set=2, subsample_freq=0 will be ignored. Current value: bagging_freq=2\n",
      "Training until validation scores don't improve for 50 rounds\n",
      "Early stopping, best iteration is:\n",
      "[33]\tvalid_0's multi_logloss: 1.24951\tvalid_0's macroF1: 0.426106\n",
      "******************** Execution ended in 00h 00m 00.97s ********************\n",
      "============================== 5 of 5 folds ==============================\n",
      "[LightGBM] [Warning] seed is set=3, random_state=1989 will be ignored. Current value: seed=3\n",
      "[LightGBM] [Warning] bagging_freq is set=2, subsample_freq=0 will be ignored. Current value: bagging_freq=2\n",
      "Training until validation scores don't improve for 50 rounds\n",
      "Early stopping, best iteration is:\n",
      "[54]\tvalid_0's multi_logloss: 1.18986\tvalid_0's macroF1: 0.405119\n",
      "******************** Execution ended in 00h 00m 00.94s ********************\n",
      "######################################## 5 of 10 iterations ########################################\n",
      "============================== 1 of 5 folds ==============================\n",
      "[LightGBM] [Warning] seed is set=4, random_state=1989 will be ignored. Current value: seed=4\n",
      "[LightGBM] [Warning] bagging_freq is set=2, subsample_freq=0 will be ignored. Current value: bagging_freq=2\n",
      "Training until validation scores don't improve for 50 rounds\n",
      "Early stopping, best iteration is:\n",
      "[61]\tvalid_0's multi_logloss: 1.30777\tvalid_0's macroF1: 0.436072\n",
      "******************** Execution ended in 00h 00m 00.80s ********************\n",
      "============================== 2 of 5 folds ==============================\n",
      "[LightGBM] [Warning] seed is set=4, random_state=1989 will be ignored. Current value: seed=4\n",
      "[LightGBM] [Warning] bagging_freq is set=2, subsample_freq=0 will be ignored. Current value: bagging_freq=2\n",
      "Training until validation scores don't improve for 50 rounds\n",
      "Early stopping, best iteration is:\n",
      "[2]\tvalid_0's multi_logloss: 1.38372\tvalid_0's macroF1: 0.375795\n",
      "******************** Execution ended in 00h 00m 00.46s ********************\n",
      "============================== 3 of 5 folds ==============================\n",
      "[LightGBM] [Warning] seed is set=4, random_state=1989 will be ignored. Current value: seed=4\n",
      "[LightGBM] [Warning] bagging_freq is set=2, subsample_freq=0 will be ignored. Current value: bagging_freq=2\n",
      "Training until validation scores don't improve for 50 rounds\n",
      "Early stopping, best iteration is:\n",
      "[41]\tvalid_0's multi_logloss: 1.33553\tvalid_0's macroF1: 0.38651\n",
      "******************** Execution ended in 00h 00m 00.73s ********************\n",
      "============================== 4 of 5 folds ==============================\n",
      "[LightGBM] [Warning] seed is set=4, random_state=1989 will be ignored. Current value: seed=4\n",
      "[LightGBM] [Warning] bagging_freq is set=2, subsample_freq=0 will be ignored. Current value: bagging_freq=2\n",
      "Training until validation scores don't improve for 50 rounds\n",
      "Early stopping, best iteration is:\n",
      "[59]\tvalid_0's multi_logloss: 1.31754\tvalid_0's macroF1: 0.364787\n",
      "******************** Execution ended in 00h 00m 00.89s ********************\n",
      "============================== 5 of 5 folds ==============================\n",
      "[LightGBM] [Warning] seed is set=4, random_state=1989 will be ignored. Current value: seed=4\n",
      "[LightGBM] [Warning] bagging_freq is set=2, subsample_freq=0 will be ignored. Current value: bagging_freq=2\n",
      "Training until validation scores don't improve for 50 rounds\n",
      "Early stopping, best iteration is:\n",
      "[108]\tvalid_0's multi_logloss: 1.26669\tvalid_0's macroF1: 0.437276\n",
      "******************** Execution ended in 00h 00m 01.11s ********************\n",
      "######################################## 6 of 10 iterations ########################################\n",
      "============================== 1 of 5 folds ==============================\n",
      "[LightGBM] [Warning] seed is set=5, random_state=1989 will be ignored. Current value: seed=5\n",
      "[LightGBM] [Warning] bagging_freq is set=4, subsample_freq=0 will be ignored. Current value: bagging_freq=4\n",
      "Training until validation scores don't improve for 50 rounds\n",
      "Early stopping, best iteration is:\n",
      "[25]\tvalid_0's multi_logloss: 1.24284\tvalid_0's macroF1: 0.396062\n",
      "******************** Execution ended in 00h 00m 00.73s ********************\n",
      "============================== 2 of 5 folds ==============================\n",
      "[LightGBM] [Warning] seed is set=5, random_state=1989 will be ignored. Current value: seed=5\n",
      "[LightGBM] [Warning] bagging_freq is set=4, subsample_freq=0 will be ignored. Current value: bagging_freq=4\n",
      "Training until validation scores don't improve for 50 rounds\n",
      "Early stopping, best iteration is:\n",
      "[16]\tvalid_0's multi_logloss: 1.2917\tvalid_0's macroF1: 0.422469\n",
      "******************** Execution ended in 00h 00m 00.75s ********************\n",
      "============================== 3 of 5 folds ==============================\n",
      "[LightGBM] [Warning] seed is set=5, random_state=1989 will be ignored. Current value: seed=5\n",
      "[LightGBM] [Warning] bagging_freq is set=4, subsample_freq=0 will be ignored. Current value: bagging_freq=4\n",
      "Training until validation scores don't improve for 50 rounds\n",
      "Early stopping, best iteration is:\n",
      "[57]\tvalid_0's multi_logloss: 1.16599\tvalid_0's macroF1: 0.417571\n",
      "******************** Execution ended in 00h 00m 00.87s ********************\n",
      "============================== 4 of 5 folds ==============================\n",
      "[LightGBM] [Warning] seed is set=5, random_state=1989 will be ignored. Current value: seed=5\n",
      "[LightGBM] [Warning] bagging_freq is set=4, subsample_freq=0 will be ignored. Current value: bagging_freq=4\n",
      "Training until validation scores don't improve for 50 rounds\n",
      "Early stopping, best iteration is:\n",
      "[8]\tvalid_0's multi_logloss: 1.33315\tvalid_0's macroF1: 0.389522\n",
      "******************** Execution ended in 00h 00m 00.62s ********************\n",
      "============================== 5 of 5 folds ==============================\n",
      "[LightGBM] [Warning] seed is set=5, random_state=1989 will be ignored. Current value: seed=5\n",
      "[LightGBM] [Warning] bagging_freq is set=4, subsample_freq=0 will be ignored. Current value: bagging_freq=4\n",
      "Training until validation scores don't improve for 50 rounds\n",
      "Early stopping, best iteration is:\n",
      "[6]\tvalid_0's multi_logloss: 1.3444\tvalid_0's macroF1: 0.411728\n",
      "******************** Execution ended in 00h 00m 00.54s ********************\n",
      "######################################## 7 of 10 iterations ########################################\n",
      "============================== 1 of 5 folds ==============================\n",
      "[LightGBM] [Warning] seed is set=6, random_state=1989 will be ignored. Current value: seed=6\n",
      "[LightGBM] [Warning] bagging_freq is set=3, subsample_freq=0 will be ignored. Current value: bagging_freq=3\n",
      "Training until validation scores don't improve for 50 rounds\n",
      "Early stopping, best iteration is:\n",
      "[87]\tvalid_0's multi_logloss: 1.22664\tvalid_0's macroF1: 0.39838\n",
      "******************** Execution ended in 00h 00m 00.67s ********************\n",
      "============================== 2 of 5 folds ==============================\n",
      "[LightGBM] [Warning] seed is set=6, random_state=1989 will be ignored. Current value: seed=6\n",
      "[LightGBM] [Warning] bagging_freq is set=3, subsample_freq=0 will be ignored. Current value: bagging_freq=3\n"
     ]
    },
    {
     "name": "stdout",
     "output_type": "stream",
     "text": [
      "Training until validation scores don't improve for 50 rounds\n",
      "Early stopping, best iteration is:\n",
      "[175]\tvalid_0's multi_logloss: 1.12351\tvalid_0's macroF1: 0.447095\n",
      "******************** Execution ended in 00h 00m 01.57s ********************\n",
      "============================== 3 of 5 folds ==============================\n",
      "[LightGBM] [Warning] seed is set=6, random_state=1989 will be ignored. Current value: seed=6\n",
      "[LightGBM] [Warning] bagging_freq is set=3, subsample_freq=0 will be ignored. Current value: bagging_freq=3\n",
      "Training until validation scores don't improve for 50 rounds\n",
      "Early stopping, best iteration is:\n",
      "[1]\tvalid_0's multi_logloss: 1.38345\tvalid_0's macroF1: 0.378935\n",
      "******************** Execution ended in 00h 00m 00.47s ********************\n",
      "============================== 4 of 5 folds ==============================\n",
      "[LightGBM] [Warning] seed is set=6, random_state=1989 will be ignored. Current value: seed=6\n",
      "[LightGBM] [Warning] bagging_freq is set=3, subsample_freq=0 will be ignored. Current value: bagging_freq=3\n",
      "Training until validation scores don't improve for 50 rounds\n",
      "Early stopping, best iteration is:\n",
      "[191]\tvalid_0's multi_logloss: 1.15016\tvalid_0's macroF1: 0.43071\n",
      "******************** Execution ended in 00h 00m 01.93s ********************\n",
      "============================== 5 of 5 folds ==============================\n",
      "[LightGBM] [Warning] seed is set=6, random_state=1989 will be ignored. Current value: seed=6\n",
      "[LightGBM] [Warning] bagging_freq is set=3, subsample_freq=0 will be ignored. Current value: bagging_freq=3\n",
      "Training until validation scores don't improve for 50 rounds\n",
      "Early stopping, best iteration is:\n",
      "[15]\tvalid_0's multi_logloss: 1.34391\tvalid_0's macroF1: 0.377937\n",
      "******************** Execution ended in 00h 00m 00.58s ********************\n",
      "######################################## 8 of 10 iterations ########################################\n",
      "============================== 1 of 5 folds ==============================\n",
      "[LightGBM] [Warning] seed is set=7, random_state=1989 will be ignored. Current value: seed=7\n",
      "[LightGBM] [Warning] bagging_freq is set=3, subsample_freq=0 will be ignored. Current value: bagging_freq=3\n",
      "Training until validation scores don't improve for 50 rounds\n",
      "Early stopping, best iteration is:\n",
      "[51]\tvalid_0's multi_logloss: 1.23061\tvalid_0's macroF1: 0.357184\n",
      "******************** Execution ended in 00h 00m 00.78s ********************\n",
      "============================== 2 of 5 folds ==============================\n",
      "[LightGBM] [Warning] seed is set=7, random_state=1989 will be ignored. Current value: seed=7\n",
      "[LightGBM] [Warning] bagging_freq is set=3, subsample_freq=0 will be ignored. Current value: bagging_freq=3\n",
      "Training until validation scores don't improve for 50 rounds\n",
      "Early stopping, best iteration is:\n",
      "[53]\tvalid_0's multi_logloss: 1.2176\tvalid_0's macroF1: 0.436184\n",
      "******************** Execution ended in 00h 00m 00.91s ********************\n",
      "============================== 3 of 5 folds ==============================\n",
      "[LightGBM] [Warning] seed is set=7, random_state=1989 will be ignored. Current value: seed=7\n",
      "[LightGBM] [Warning] bagging_freq is set=3, subsample_freq=0 will be ignored. Current value: bagging_freq=3\n",
      "Training until validation scores don't improve for 50 rounds\n",
      "Early stopping, best iteration is:\n",
      "[205]\tvalid_0's multi_logloss: 1.06821\tvalid_0's macroF1: 0.463778\n",
      "******************** Execution ended in 00h 00m 01.71s ********************\n",
      "============================== 4 of 5 folds ==============================\n",
      "[LightGBM] [Warning] seed is set=7, random_state=1989 will be ignored. Current value: seed=7\n",
      "[LightGBM] [Warning] bagging_freq is set=3, subsample_freq=0 will be ignored. Current value: bagging_freq=3\n",
      "Training until validation scores don't improve for 50 rounds\n",
      "Early stopping, best iteration is:\n",
      "[105]\tvalid_0's multi_logloss: 1.14393\tvalid_0's macroF1: 0.39745\n",
      "******************** Execution ended in 00h 00m 01.00s ********************\n",
      "============================== 5 of 5 folds ==============================\n",
      "[LightGBM] [Warning] seed is set=7, random_state=1989 will be ignored. Current value: seed=7\n",
      "[LightGBM] [Warning] bagging_freq is set=3, subsample_freq=0 will be ignored. Current value: bagging_freq=3\n",
      "Training until validation scores don't improve for 50 rounds\n",
      "Early stopping, best iteration is:\n",
      "[136]\tvalid_0's multi_logloss: 1.10682\tvalid_0's macroF1: 0.404505\n",
      "******************** Execution ended in 00h 00m 01.26s ********************\n",
      "######################################## 9 of 10 iterations ########################################\n",
      "============================== 1 of 5 folds ==============================\n",
      "[LightGBM] [Warning] seed is set=8, random_state=1989 will be ignored. Current value: seed=8\n",
      "[LightGBM] [Warning] bagging_freq is set=3, subsample_freq=0 will be ignored. Current value: bagging_freq=3\n",
      "Training until validation scores don't improve for 50 rounds\n",
      "Early stopping, best iteration is:\n",
      "[71]\tvalid_0's multi_logloss: 1.11316\tvalid_0's macroF1: 0.420283\n",
      "******************** Execution ended in 00h 00m 01.27s ********************\n",
      "============================== 2 of 5 folds ==============================\n",
      "[LightGBM] [Warning] seed is set=8, random_state=1989 will be ignored. Current value: seed=8\n",
      "[LightGBM] [Warning] bagging_freq is set=3, subsample_freq=0 will be ignored. Current value: bagging_freq=3\n",
      "Training until validation scores don't improve for 50 rounds\n",
      "Early stopping, best iteration is:\n",
      "[30]\tvalid_0's multi_logloss: 1.1938\tvalid_0's macroF1: 0.419904\n",
      "******************** Execution ended in 00h 00m 00.65s ********************\n",
      "============================== 3 of 5 folds ==============================\n",
      "[LightGBM] [Warning] seed is set=8, random_state=1989 will be ignored. Current value: seed=8\n",
      "[LightGBM] [Warning] bagging_freq is set=3, subsample_freq=0 will be ignored. Current value: bagging_freq=3\n",
      "Training until validation scores don't improve for 50 rounds\n",
      "Early stopping, best iteration is:\n",
      "[76]\tvalid_0's multi_logloss: 1.06574\tvalid_0's macroF1: 0.447787\n",
      "******************** Execution ended in 00h 00m 01.28s ********************\n",
      "============================== 4 of 5 folds ==============================\n",
      "[LightGBM] [Warning] seed is set=8, random_state=1989 will be ignored. Current value: seed=8\n",
      "[LightGBM] [Warning] bagging_freq is set=3, subsample_freq=0 will be ignored. Current value: bagging_freq=3\n",
      "Training until validation scores don't improve for 50 rounds\n",
      "Early stopping, best iteration is:\n",
      "[162]\tvalid_0's multi_logloss: 1.03295\tvalid_0's macroF1: 0.409077\n",
      "******************** Execution ended in 00h 00m 01.89s ********************\n",
      "============================== 5 of 5 folds ==============================\n",
      "[LightGBM] [Warning] seed is set=8, random_state=1989 will be ignored. Current value: seed=8\n",
      "[LightGBM] [Warning] bagging_freq is set=3, subsample_freq=0 will be ignored. Current value: bagging_freq=3\n",
      "Training until validation scores don't improve for 50 rounds\n",
      "Early stopping, best iteration is:\n",
      "[98]\tvalid_0's multi_logloss: 1.08406\tvalid_0's macroF1: 0.422867\n",
      "******************** Execution ended in 00h 00m 01.34s ********************\n",
      "######################################## 10 of 10 iterations ########################################\n",
      "============================== 1 of 5 folds ==============================\n",
      "[LightGBM] [Warning] seed is set=9, random_state=1989 will be ignored. Current value: seed=9\n",
      "[LightGBM] [Warning] bagging_freq is set=3, subsample_freq=0 will be ignored. Current value: bagging_freq=3\n",
      "Training until validation scores don't improve for 50 rounds\n",
      "Early stopping, best iteration is:\n",
      "[235]\tvalid_0's multi_logloss: 1.01186\tvalid_0's macroF1: 0.431831\n",
      "******************** Execution ended in 00h 00m 02.07s ********************\n",
      "============================== 2 of 5 folds ==============================\n",
      "[LightGBM] [Warning] seed is set=9, random_state=1989 will be ignored. Current value: seed=9\n",
      "[LightGBM] [Warning] bagging_freq is set=3, subsample_freq=0 will be ignored. Current value: bagging_freq=3\n",
      "Training until validation scores don't improve for 50 rounds\n",
      "Early stopping, best iteration is:\n",
      "[54]\tvalid_0's multi_logloss: 1.11967\tvalid_0's macroF1: 0.415771\n",
      "******************** Execution ended in 00h 00m 00.69s ********************\n",
      "============================== 3 of 5 folds ==============================\n",
      "[LightGBM] [Warning] seed is set=9, random_state=1989 will be ignored. Current value: seed=9\n",
      "[LightGBM] [Warning] bagging_freq is set=3, subsample_freq=0 will be ignored. Current value: bagging_freq=3\n"
     ]
    },
    {
     "name": "stdout",
     "output_type": "stream",
     "text": [
      "Training until validation scores don't improve for 50 rounds\n",
      "Early stopping, best iteration is:\n",
      "[9]\tvalid_0's multi_logloss: 1.31086\tvalid_0's macroF1: 0.388896\n",
      "******************** Execution ended in 00h 00m 00.43s ********************\n",
      "============================== 4 of 5 folds ==============================\n",
      "[LightGBM] [Warning] seed is set=9, random_state=1989 will be ignored. Current value: seed=9\n",
      "[LightGBM] [Warning] bagging_freq is set=3, subsample_freq=0 will be ignored. Current value: bagging_freq=3\n",
      "Training until validation scores don't improve for 50 rounds\n",
      "Early stopping, best iteration is:\n",
      "[146]\tvalid_0's multi_logloss: 1.06531\tvalid_0's macroF1: 0.416921\n",
      "******************** Execution ended in 00h 00m 01.55s ********************\n",
      "============================== 5 of 5 folds ==============================\n",
      "[LightGBM] [Warning] seed is set=9, random_state=1989 will be ignored. Current value: seed=9\n",
      "[LightGBM] [Warning] bagging_freq is set=3, subsample_freq=0 will be ignored. Current value: bagging_freq=3\n",
      "Training until validation scores don't improve for 50 rounds\n",
      "Early stopping, best iteration is:\n",
      "[70]\tvalid_0's multi_logloss: 1.0729\tvalid_0's macroF1: 0.441917\n",
      "******************** Execution ended in 00h 00m 01.21s ********************\n"
     ]
    }
   ],
   "source": [
    "# 실행\n",
    "total_shap_df = pd.DataFrame()\n",
    "num_iterations = 10\n",
    "\n",
    "# 위 함수에서는 validation set 마다 importance를 산출했다면 그 값을 평균을 내서 최종 importance를 계산\n",
    "# 여기서는 함수로 한 행위를 parameter에 따라 반복해 importance 산출하고 행으로 붙여넣음\n",
    "for SEED in range(num_iterations):\n",
    "    print(\"#\"*40, \"%s of %s iterations\" % (SEED+1, num_iterations), \"#\"*40)\n",
    "    \n",
    "    params = {'max_depth': np.random.choice([5, 6, 7, 8, 10, 12, -1]),\n",
    "               'learning_rate': np.random.rand() * 0.02,\n",
    "               'colsample_bytree': np.random.rand() * (1 - 0.5) + 0.5,\n",
    "               'subsample': np.random.rand() * (1 - 0.5) + 0.5,\n",
    "               'min_split_gain': np.random.rand() * 0.2,\n",
    "               'num_leaves': np.random.choice([32, 48, 64]),\n",
    "               'reg_alpha': np.random.rand() * 2,\n",
    "               'reg_lambda': np.random.rand() *2,\n",
    "               'bagging_freq': np.random.randint(4) +1,\n",
    "               'min_child_weight': np.random.randint(100) + 20\n",
    "              }\n",
    "    \n",
    "    temp_shap_df = extract_good_features_using_shap_LGB(params, SEED)\n",
    "    total_shap_df = pd.concat([total_shap_df, temp_shap_df])"
   ]
  },
  {
   "cell_type": "code",
   "execution_count": 100,
   "metadata": {},
   "outputs": [
    {
     "data": {
      "text/html": [
       "<div>\n",
       "<style scoped>\n",
       "    .dataframe tbody tr th:only-of-type {\n",
       "        vertical-align: middle;\n",
       "    }\n",
       "\n",
       "    .dataframe tbody tr th {\n",
       "        vertical-align: top;\n",
       "    }\n",
       "\n",
       "    .dataframe thead th {\n",
       "        text-align: right;\n",
       "    }\n",
       "</style>\n",
       "<table border=\"1\" class=\"dataframe\">\n",
       "  <thead>\n",
       "    <tr style=\"text-align: right;\">\n",
       "      <th></th>\n",
       "      <th>feature</th>\n",
       "      <th>shap_values</th>\n",
       "      <th>feat_imp</th>\n",
       "    </tr>\n",
       "  </thead>\n",
       "  <tbody>\n",
       "    <tr>\n",
       "      <th>0</th>\n",
       "      <td>escolari_new_max</td>\n",
       "      <td>0.001056</td>\n",
       "      <td>34.8</td>\n",
       "    </tr>\n",
       "    <tr>\n",
       "      <th>1</th>\n",
       "      <td>escolari_new_mean</td>\n",
       "      <td>0.000584</td>\n",
       "      <td>89.6</td>\n",
       "    </tr>\n",
       "    <tr>\n",
       "      <th>2</th>\n",
       "      <td>phones-per-capita</td>\n",
       "      <td>0.000333</td>\n",
       "      <td>20.8</td>\n",
       "    </tr>\n",
       "    <tr>\n",
       "      <th>3</th>\n",
       "      <td>new_rooms_per_r4t2</td>\n",
       "      <td>0.000333</td>\n",
       "      <td>16.2</td>\n",
       "    </tr>\n",
       "    <tr>\n",
       "      <th>4</th>\n",
       "      <td>meaneduc</td>\n",
       "      <td>0.000305</td>\n",
       "      <td>25.6</td>\n",
       "    </tr>\n",
       "    <tr>\n",
       "      <th>...</th>\n",
       "      <td>...</td>\n",
       "      <td>...</td>\n",
       "      <td>...</td>\n",
       "    </tr>\n",
       "    <tr>\n",
       "      <th>578</th>\n",
       "      <td>new_lugar4_x_instlevel8</td>\n",
       "      <td>0.000000</td>\n",
       "      <td>0.0</td>\n",
       "    </tr>\n",
       "    <tr>\n",
       "      <th>579</th>\n",
       "      <td>new_lugar4_x_instlevel7</td>\n",
       "      <td>0.000000</td>\n",
       "      <td>0.0</td>\n",
       "    </tr>\n",
       "    <tr>\n",
       "      <th>580</th>\n",
       "      <td>new_lugar4_x_instlevel6</td>\n",
       "      <td>0.000000</td>\n",
       "      <td>0.0</td>\n",
       "    </tr>\n",
       "    <tr>\n",
       "      <th>581</th>\n",
       "      <td>new_lugar4_x_instlevel5</td>\n",
       "      <td>0.000000</td>\n",
       "      <td>0.0</td>\n",
       "    </tr>\n",
       "    <tr>\n",
       "      <th>582</th>\n",
       "      <td>new_paredblolad_x_pisomoscer_x_techocane</td>\n",
       "      <td>0.000000</td>\n",
       "      <td>0.0</td>\n",
       "    </tr>\n",
       "  </tbody>\n",
       "</table>\n",
       "<p>5830 rows × 3 columns</p>\n",
       "</div>"
      ],
      "text/plain": [
       "                                      feature  shap_values  feat_imp\n",
       "0                            escolari_new_max     0.001056      34.8\n",
       "1                           escolari_new_mean     0.000584      89.6\n",
       "2                           phones-per-capita     0.000333      20.8\n",
       "3                          new_rooms_per_r4t2     0.000333      16.2\n",
       "4                                    meaneduc     0.000305      25.6\n",
       "..                                        ...          ...       ...\n",
       "578                   new_lugar4_x_instlevel8     0.000000       0.0\n",
       "579                   new_lugar4_x_instlevel7     0.000000       0.0\n",
       "580                   new_lugar4_x_instlevel6     0.000000       0.0\n",
       "581                   new_lugar4_x_instlevel5     0.000000       0.0\n",
       "582  new_paredblolad_x_pisomoscer_x_techocane     0.000000       0.0\n",
       "\n",
       "[5830 rows x 3 columns]"
      ]
     },
     "execution_count": 100,
     "metadata": {},
     "output_type": "execute_result"
    }
   ],
   "source": [
    "# 10개의 itertion에 해당하는 row가 합쳐진 상태\n",
    "total_shap_df"
   ]
  },
  {
   "cell_type": "code",
   "execution_count": 101,
   "metadata": {},
   "outputs": [],
   "source": [
    "shap_sorted_df = total_shap_df[[\"feature\", \"shap_values\"]].groupby(\"feature\").mean().sort_values(\"shap_values\", ascending=False).reset_index()\n",
    "feat_imp_sorted_df = total_shap_df[[\"feature\", \"feat_imp\"]].groupby(\"feature\").mean().sort_values(\"feat_imp\", ascending=False).reset_index()"
   ]
  },
  {
   "cell_type": "code",
   "execution_count": 102,
   "metadata": {},
   "outputs": [
    {
     "data": {
      "text/plain": [
       "Text(0.5, 1.0, 'Feature importance based on LGBM feature importance')"
      ]
     },
     "execution_count": 102,
     "metadata": {},
     "output_type": "execute_result"
    },
    {
     "data": {
      "image/png": "[encoded data removed]",
      "text/plain": [
       "<Figure size 2880x2160 with 2 Axes>"
      ]
     },
     "metadata": {},
     "output_type": "display_data"
    }
   ],
   "source": [
    "# 차트 확인\n",
    "fig, ax = plt.subplots(1, 2, figsize=(40, 30))\n",
    "\n",
    "num_features = 50\n",
    "\n",
    "# shap\n",
    "sns.barplot(x=shap_sorted_df[\"shap_values\"][:num_features], y=shap_sorted_df[\"feature\"][:num_features],\n",
    "           ax=ax[0])\n",
    "ax[0].set_title(\"Feature importance based on shap values\")\n",
    "\n",
    "# feature importance\n",
    "sns.barplot(x=feat_imp_sorted_df[\"feat_imp\"][:num_features], y=feat_imp_sorted_df[\"feature\"][:num_features],\n",
    "           ax=ax[1])\n",
    "ax[1].set_title(\"Feature importance based on LGBM feature importance\")"
   ]
  },
  {
   "cell_type": "code",
   "execution_count": 103,
   "metadata": {},
   "outputs": [],
   "source": [
    "# shap 기준 top 100 feature와 feature importance 기준 top 100을 추출\n",
    "top_features_shap = shap_sorted_df[\"feature\"][:100]\n",
    "top_features_feat_imp = feat_imp_sorted_df[\"feature\"][:100]\n",
    "\n",
    "# 중복을 제외하고 합쳐서 최종 사용 변수 목록 선정\n",
    "top_features = pd.Series(list(top_features_shap) + list(top_features_feat_imp))\n",
    "top_features = top_features.unique()"
   ]
  },
  {
   "cell_type": "code",
   "execution_count": 104,
   "metadata": {},
   "outputs": [
    {
     "data": {
      "text/plain": [
       "(110,)"
      ]
     },
     "execution_count": 104,
     "metadata": {},
     "output_type": "execute_result"
    }
   ],
   "source": [
    "top_features.shape"
   ]
  },
  {
   "cell_type": "code",
   "execution_count": 105,
   "metadata": {},
   "outputs": [
    {
     "data": {
      "text/plain": [
       "array(['escolari_new_max', 'escolari_new_mean', 'phones-per-capita',\n",
       "       'new_etecho3_x_eviv3', 'escolari_age_new_sum',\n",
       "       'new_epared3_x_eviv3', 'new_rooms_per_r4t2', 'meaneduc',\n",
       "       'new_epared3_x_etecho3_x_eviv3', 'escolari_age', 'eviv3',\n",
       "       'escolari_age_new_mean', 'age_new_mean', 'escolari_age_new_max',\n",
       "       'escolari_new_sum', 'edjefe', 'escolari', 'adult_new_sum',\n",
       "       'dependency', 'new_qmobilephone_per_hogar_total',\n",
       "       'dependency_new_sum', 'escolari_age_new_std', 'cielorazo',\n",
       "       'escolari_age_new_max_min', 'age', 'new_qmobilephone_per_r4t2',\n",
       "       'qmobilephone_new_sum', 'age_new_std',\n",
       "       'new_paredblolad_x_pisomoscer', 'age_new_min', 'age_new_max_min',\n",
       "       'escolari_new_min', 'escolari_age_new_min', 'age_new_sum',\n",
       "       'rooms-per-capita', 'child_percent', 'epared3',\n",
       "       'new_qmobilephone_per_r4m3', 'elder_percent',\n",
       "       'new_rooms_per_adult', 'new_bedrooms_per_adult', 'pisomoscer',\n",
       "       'overcrowding', 'new_rooms_per_hogar_total',\n",
       "       'new_epared3_x_etecho3', 'persons_younger_12_years_percent',\n",
       "       'age_new_max', 'paredblolad', 'r4h2_new_sum', 'new_rooms_per_r4h2',\n",
       "       'new_rooms_per_hogar_mayor', 'new_rooms_per_hogar_adul',\n",
       "       'new_paredblolad_x_pisomoscer_x_techozinc', 'edjefa',\n",
       "       'qmobilephone', 'r4m3_new_sum', 'new_v18q1_per_r4t2',\n",
       "       'new_rooms_per_r4h3', 'escolari_new_std', 'etecho3', 'rooms',\n",
       "       'new_qmobilephone_per_r4t3', 'dependency_new_mean',\n",
       "       'new_v18q1_per_r4m2', 'new_qmobilephone_per_r4m2',\n",
       "       'new_pisomoscer_x_techozinc', 'rooms_new_sum',\n",
       "       'new_rooms_per_r4t1', 'new_qmobilephone_per_adult',\n",
       "       'new_v18q1_per_r4m3', 'adult_percent', 'new_bedrooms_per_r4t2',\n",
       "       'females_older_12_years_percent', 'new_rooms_per_r4m3',\n",
       "       'males_older_12_years_percent', 'new_bedrooms_per_r4m3', 'eviv1',\n",
       "       'persons_older_12_years_percent', 'new_paredblolad_x_techozinc',\n",
       "       'hogar_adul_new_sum', 'new_rooms_per_r4t3',\n",
       "       'new_qmobilephone_per_r4h3', 'adult', 'new_bedrooms_per_r4t1',\n",
       "       'new_qmobilephone_per_r4t1', 'lugar1', 'r4t2_new_sum',\n",
       "       'new_public_x_energcocinar2', 'new_v18q1_per_hogar_total',\n",
       "       'energcocinar2', 'overcrowding_new_sum',\n",
       "       'new_qmobilephone_per_hogar_adul', 'new_rooms_per_r4m2',\n",
       "       'hogar_mayor_new_sum', 'age_12_19', 'new_bedrooms_per_hogar_total',\n",
       "       'estadocivil5', 'male', 'new_qmobilephone_per_r4h2',\n",
       "       'r4h3_new_sum', 'males_percent', 'new_bedrooms_per_r4h3', 'v2a1',\n",
       "       'escolari_new_max_min', 'new_bedrooms_per_r4m2',\n",
       "       'bedrooms_new_sum', 'new_bedrooms_per_r4h2', 'new_v2a1_per_r4m3',\n",
       "       'new_sanitario3_x_elimbasu1', 'new_v2a1_per_hogar_total'],\n",
       "      dtype=object)"
      ]
     },
     "execution_count": 105,
     "metadata": {},
     "output_type": "execute_result"
    }
   ],
   "source": [
    "top_features"
   ]
  },
  {
   "cell_type": "markdown",
   "metadata": {},
   "source": [
    "## 4. Model development"
   ]
  },
  {
   "cell_type": "code",
   "execution_count": 106,
   "metadata": {},
   "outputs": [],
   "source": [
    "# feature selection에서 선정된 features만으로 train/test set 구성\n",
    "new_train = train[top_features].copy()\n",
    "new_test = test[top_features].copy()"
   ]
  },
  {
   "cell_type": "code",
   "execution_count": 107,
   "metadata": {},
   "outputs": [
    {
     "name": "stdout",
     "output_type": "stream",
     "text": [
      "(2973, 110)\n",
      "(23856, 110)\n"
     ]
    }
   ],
   "source": [
    "print(new_train.shape)\n",
    "print(new_test.shape)"
   ]
  },
  {
   "cell_type": "code",
   "execution_count": 108,
   "metadata": {},
   "outputs": [],
   "source": [
    "# top features에서 categorical feats 다시 추출\n",
    "new_categorical_feats = [col for col in top_features if col in categorical_feats]"
   ]
  },
  {
   "cell_type": "code",
   "execution_count": 109,
   "metadata": {},
   "outputs": [],
   "source": [
    "# 모델 함수 정의\n",
    "def LGB_OOF(params, categorical_feats, n_folds, SEED=1989):\n",
    "    clf = lgb.LGBMClassifier(objective=\"multiclass\",\n",
    "                             random_state=1989,\n",
    "                             max_depth=params[\"max_depth\"], \n",
    "                             learning_rate=params[\"learning_rate\"],  \n",
    "                             silent=True, \n",
    "                             metric=\"multi_logloss\",\n",
    "                             n_jobs=-1, n_estimators=10000, \n",
    "                             class_weight=\"balanced\",\n",
    "                             colsample_bytree = params[\"colsample_bytree\"], \n",
    "                             min_split_gain= params[\"min_split_gain\"], \n",
    "                             bagging_freq = params[\"bagging_freq\"],\n",
    "                             min_child_weight=params[\"min_child_weight\"],\n",
    "                             num_leaves = params[\"num_leaves\"], \n",
    "                             subsample = params[\"subsample\"],\n",
    "                             reg_alpha= params[\"reg_alpha\"],\n",
    "                             reg_lambda= params[\"reg_lambda\"],\n",
    "                             num_class=len(np.unique(y)),\n",
    "                             bagging_seed=SEED,\n",
    "                             seed=SEED)\n",
    "\n",
    "    kfold = n_folds\n",
    "    kf = StratifiedKFold(n_splits=kfold, shuffle=True)\n",
    "    \n",
    "    feat_importance_df  = pd.DataFrame()\n",
    "    \n",
    "    predicts_result = []\n",
    "\n",
    "    for i, (train_index, test_index) in enumerate(kf.split(new_train, y)):\n",
    "        print(\"=\"*30, \"%s of %s folds\" % (i+1, kfold), \"=\"*30)\n",
    "        start = time.time()\n",
    "        X_train, X_val = new_train.iloc[train_index], new_train.iloc[test_index]\n",
    "        y_train, y_val = y.iloc[train_index], y.iloc[test_index]\n",
    "        clf.fit(X_train, y_train, eval_set=[(X_val, y_val)], eval_metric=evaluate_macroF1_lgb,categorical_feature=new_categorical_feats,\n",
    "                early_stopping_rounds=500, verbose=500)\n",
    "        shap_values = shap.TreeExplainer(clf.booster_).shap_values(X_train)\n",
    "        \n",
    "        fold_importance_df  = pd.DataFrame()\n",
    "        fold_importance_df[\"feature\"] = X_train.columns\n",
    "        fold_importance_df[\"shap_values\"] = abs(np.array(shap_values)[:, :].mean(1).mean(0))\n",
    "        fold_importance_df[\"feat_imp\"] = clf.feature_importances_\n",
    "        \n",
    "        feat_importance_df = pd.concat([feat_importance_df, fold_importance_df])\n",
    "        \n",
    "        predicts_result.append(clf.predict(new_test))\n",
    "        \n",
    "        print_execution_time(start)\n",
    "        \n",
    "    return predicts_result, feat_importance_df"
   ]
  },
  {
   "cell_type": "markdown",
   "metadata": {},
   "source": [
    "**임의 파라미터 지정을 통한 모델링**"
   ]
  },
  {
   "cell_type": "code",
   "execution_count": 110,
   "metadata": {},
   "outputs": [
    {
     "name": "stdout",
     "output_type": "stream",
     "text": [
      "============================== 1 of 10 folds ==============================\n",
      "[LightGBM] [Warning] seed is set=1989, random_state=1989 will be ignored. Current value: seed=1989\n",
      "[LightGBM] [Warning] bagging_freq is set=2, subsample_freq=0 will be ignored. Current value: bagging_freq=2\n",
      "Training until validation scores don't improve for 500 rounds\n",
      "[500]\tvalid_0's multi_logloss: 1.11034\tvalid_0's macroF1: 0.395606\n",
      "Early stopping, best iteration is:\n",
      "[173]\tvalid_0's multi_logloss: 1.23989\tvalid_0's macroF1: 0.418198\n",
      "******************** Execution ended in 00h 00m 04.58s ********************\n",
      "============================== 2 of 10 folds ==============================\n",
      "[LightGBM] [Warning] seed is set=1989, random_state=1989 will be ignored. Current value: seed=1989\n",
      "[LightGBM] [Warning] bagging_freq is set=2, subsample_freq=0 will be ignored. Current value: bagging_freq=2\n",
      "Training until validation scores don't improve for 500 rounds\n",
      "[500]\tvalid_0's multi_logloss: 1.15766\tvalid_0's macroF1: 0.373054\n",
      "Early stopping, best iteration is:\n",
      "[15]\tvalid_0's multi_logloss: 1.37173\tvalid_0's macroF1: 0.394434\n",
      "******************** Execution ended in 00h 00m 02.70s ********************\n",
      "============================== 3 of 10 folds ==============================\n",
      "[LightGBM] [Warning] seed is set=1989, random_state=1989 will be ignored. Current value: seed=1989\n",
      "[LightGBM] [Warning] bagging_freq is set=2, subsample_freq=0 will be ignored. Current value: bagging_freq=2\n",
      "Training until validation scores don't improve for 500 rounds\n",
      "[500]\tvalid_0's multi_logloss: 1.13615\tvalid_0's macroF1: 0.39521\n",
      "[1000]\tvalid_0's multi_logloss: 1.07362\tvalid_0's macroF1: 0.39834\n",
      "Early stopping, best iteration is:\n",
      "[751]\tvalid_0's multi_logloss: 1.09538\tvalid_0's macroF1: 0.412725\n",
      "******************** Execution ended in 00h 00m 08.72s ********************\n",
      "============================== 4 of 10 folds ==============================\n",
      "[LightGBM] [Warning] seed is set=1989, random_state=1989 will be ignored. Current value: seed=1989\n",
      "[LightGBM] [Warning] bagging_freq is set=2, subsample_freq=0 will be ignored. Current value: bagging_freq=2\n",
      "Training until validation scores don't improve for 500 rounds\n",
      "[500]\tvalid_0's multi_logloss: 1.1269\tvalid_0's macroF1: 0.401917\n",
      "Early stopping, best iteration is:\n",
      "[65]\tvalid_0's multi_logloss: 1.32363\tvalid_0's macroF1: 0.412345\n",
      "******************** Execution ended in 00h 00m 02.40s ********************\n",
      "============================== 5 of 10 folds ==============================\n",
      "[LightGBM] [Warning] seed is set=1989, random_state=1989 will be ignored. Current value: seed=1989\n",
      "[LightGBM] [Warning] bagging_freq is set=2, subsample_freq=0 will be ignored. Current value: bagging_freq=2\n",
      "Training until validation scores don't improve for 500 rounds\n",
      "[500]\tvalid_0's multi_logloss: 1.07444\tvalid_0's macroF1: 0.453458\n",
      "Early stopping, best iteration is:\n",
      "[62]\tvalid_0's multi_logloss: 1.31603\tvalid_0's macroF1: 0.487098\n",
      "******************** Execution ended in 00h 00m 02.41s ********************\n",
      "============================== 6 of 10 folds ==============================\n",
      "[LightGBM] [Warning] seed is set=1989, random_state=1989 will be ignored. Current value: seed=1989\n",
      "[LightGBM] [Warning] bagging_freq is set=2, subsample_freq=0 will be ignored. Current value: bagging_freq=2\n",
      "Training until validation scores don't improve for 500 rounds\n",
      "[500]\tvalid_0's multi_logloss: 1.10027\tvalid_0's macroF1: 0.400913\n",
      "Early stopping, best iteration is:\n",
      "[54]\tvalid_0's multi_logloss: 1.32876\tvalid_0's macroF1: 0.433717\n",
      "******************** Execution ended in 00h 00m 02.79s ********************\n",
      "============================== 7 of 10 folds ==============================\n",
      "[LightGBM] [Warning] seed is set=1989, random_state=1989 will be ignored. Current value: seed=1989\n",
      "[LightGBM] [Warning] bagging_freq is set=2, subsample_freq=0 will be ignored. Current value: bagging_freq=2\n",
      "Training until validation scores don't improve for 500 rounds\n",
      "[500]\tvalid_0's multi_logloss: 1.10696\tvalid_0's macroF1: 0.362009\n",
      "Early stopping, best iteration is:\n",
      "[5]\tvalid_0's multi_logloss: 1.3801\tvalid_0's macroF1: 0.412607\n",
      "******************** Execution ended in 00h 00m 02.69s ********************\n",
      "============================== 8 of 10 folds ==============================\n",
      "[LightGBM] [Warning] seed is set=1989, random_state=1989 will be ignored. Current value: seed=1989\n",
      "[LightGBM] [Warning] bagging_freq is set=2, subsample_freq=0 will be ignored. Current value: bagging_freq=2\n",
      "Training until validation scores don't improve for 500 rounds\n",
      "[500]\tvalid_0's multi_logloss: 1.14217\tvalid_0's macroF1: 0.387996\n",
      "Early stopping, best iteration is:\n",
      "[6]\tvalid_0's multi_logloss: 1.37944\tvalid_0's macroF1: 0.418089\n",
      "******************** Execution ended in 00h 00m 02.60s ********************\n",
      "============================== 9 of 10 folds ==============================\n",
      "[LightGBM] [Warning] seed is set=1989, random_state=1989 will be ignored. Current value: seed=1989\n",
      "[LightGBM] [Warning] bagging_freq is set=2, subsample_freq=0 will be ignored. Current value: bagging_freq=2\n",
      "Training until validation scores don't improve for 500 rounds\n",
      "[500]\tvalid_0's multi_logloss: 1.10806\tvalid_0's macroF1: 0.415552\n",
      "Early stopping, best iteration is:\n",
      "[43]\tvalid_0's multi_logloss: 1.33933\tvalid_0's macroF1: 0.436423\n",
      "******************** Execution ended in 00h 00m 02.29s ********************\n",
      "============================== 10 of 10 folds ==============================\n",
      "[LightGBM] [Warning] seed is set=1989, random_state=1989 will be ignored. Current value: seed=1989\n",
      "[LightGBM] [Warning] bagging_freq is set=2, subsample_freq=0 will be ignored. Current value: bagging_freq=2\n",
      "Training until validation scores don't improve for 500 rounds\n",
      "[500]\tvalid_0's multi_logloss: 1.09228\tvalid_0's macroF1: 0.439213\n",
      "Early stopping, best iteration is:\n",
      "[21]\tvalid_0's multi_logloss: 1.36156\tvalid_0's macroF1: 0.452027\n",
      "******************** Execution ended in 00h 00m 02.57s ********************\n"
     ]
    }
   ],
   "source": [
    "# 임의 파라미터 지정 후 모델 결과 확인\n",
    "params = {'max_depth': 6,\n",
    "         'learning_rate': 0.002,\n",
    "          'colsample_bytree': 0.8,\n",
    "          'subsample': 0.8,\n",
    "          'min_split_gain': 0.02,\n",
    "          'num_leaves': 48,\n",
    "          'reg_alpha': 0.04,\n",
    "          'reg_lambda': 0.073,\n",
    "          'bagging_freq': 2,\n",
    "          'min_child_weight': 40\n",
    "         }\n",
    "\n",
    "n_folds = 10\n",
    "SEED = 1989\n",
    "predicts_result, feat_importance_df = LGB_OOF(params, new_categorical_feats, n_folds, SEED)"
   ]
  },
  {
   "cell_type": "code",
   "execution_count": 111,
   "metadata": {},
   "outputs": [
    {
     "data": {
      "text/plain": [
       "[array([4, 4, 4, ..., 2, 2, 2]),\n",
       " array([4, 4, 4, ..., 2, 2, 2]),\n",
       " array([4, 4, 4, ..., 2, 2, 2]),\n",
       " array([4, 4, 4, ..., 2, 2, 2]),\n",
       " array([4, 4, 4, ..., 2, 2, 2]),\n",
       " array([4, 4, 4, ..., 2, 2, 2]),\n",
       " array([4, 4, 4, ..., 2, 2, 2]),\n",
       " array([4, 4, 4, ..., 2, 2, 2]),\n",
       " array([4, 4, 4, ..., 2, 2, 2]),\n",
       " array([4, 4, 4, ..., 2, 2, 2])]"
      ]
     },
     "execution_count": 111,
     "metadata": {},
     "output_type": "execute_result"
    }
   ],
   "source": [
    "# 10개 fold 각각으로 만든 모델 결과가 담겨져 있음\n",
    "predicts_result"
   ]
  },
  {
   "cell_type": "code",
   "execution_count": 112,
   "metadata": {},
   "outputs": [
    {
     "data": {
      "text/plain": [
       "(23856,)"
      ]
     },
     "execution_count": 112,
     "metadata": {},
     "output_type": "execute_result"
    }
   ],
   "source": [
    "predicts_result[0].shape"
   ]
  },
  {
   "cell_type": "code",
   "execution_count": 113,
   "metadata": {},
   "outputs": [],
   "source": [
    "# Submission 파일 생성\n",
    "submission[\"Target\"] = np.array(predicts_result).mean(axis=0).round().astype(int)\n",
    "submission.to_csv(\"submission_with_defined_param.csv\", index=False)"
   ]
  },
  {
   "cell_type": "markdown",
   "metadata": {},
   "source": [
    "**Randomized search로 파라미터 최적화를 한 모델링**"
   ]
  },
  {
   "cell_type": "code",
   "execution_count": 139,
   "metadata": {},
   "outputs": [
    {
     "name": "stdout",
     "output_type": "stream",
     "text": [
      "-------------------- For 1 of 100 iterations --------------------\n",
      "-------------------- For 2 of 100 iterations --------------------\n",
      "-------------------- For 3 of 100 iterations --------------------\n",
      "[1000]\tcv_agg's multi_logloss: 0.822328 + 0.0163323\n",
      "-------------------- For 4 of 100 iterations --------------------\n",
      "-------------------- For 5 of 100 iterations --------------------\n",
      "[1000]\tcv_agg's multi_logloss: 0.821177 + 0.0171065\n",
      "-------------------- For 6 of 100 iterations --------------------\n",
      "-------------------- For 7 of 100 iterations --------------------\n",
      "-------------------- For 8 of 100 iterations --------------------\n",
      "-------------------- For 9 of 100 iterations --------------------\n",
      "-------------------- For 10 of 100 iterations --------------------\n",
      "-------------------- For 11 of 100 iterations --------------------\n",
      "-------------------- For 12 of 100 iterations --------------------\n",
      "-------------------- For 13 of 100 iterations --------------------\n",
      "-------------------- For 14 of 100 iterations --------------------\n",
      "-------------------- For 15 of 100 iterations --------------------\n",
      "-------------------- For 16 of 100 iterations --------------------\n",
      "-------------------- For 17 of 100 iterations --------------------\n",
      "-------------------- For 18 of 100 iterations --------------------\n",
      "-------------------- For 19 of 100 iterations --------------------\n",
      "-------------------- For 20 of 100 iterations --------------------\n",
      "-------------------- For 21 of 100 iterations --------------------\n",
      "-------------------- For 22 of 100 iterations --------------------\n",
      "-------------------- For 23 of 100 iterations --------------------\n",
      "-------------------- For 24 of 100 iterations --------------------\n",
      "[1000]\tcv_agg's multi_logloss: 0.822321 + 0.0142078\n",
      "-------------------- For 25 of 100 iterations --------------------\n",
      "-------------------- For 26 of 100 iterations --------------------\n",
      "-------------------- For 27 of 100 iterations --------------------\n",
      "-------------------- For 28 of 100 iterations --------------------\n",
      "[1000]\tcv_agg's multi_logloss: 0.894479 + 0.00522964\n",
      "[2000]\tcv_agg's multi_logloss: 0.850973 + 0.0100711\n",
      "[3000]\tcv_agg's multi_logloss: 0.83093 + 0.0133639\n",
      "[4000]\tcv_agg's multi_logloss: 0.821331 + 0.0153647\n",
      "-------------------- For 29 of 100 iterations --------------------\n",
      "-------------------- For 30 of 100 iterations --------------------\n",
      "-------------------- For 31 of 100 iterations --------------------\n",
      "-------------------- For 32 of 100 iterations --------------------\n",
      "-------------------- For 33 of 100 iterations --------------------\n",
      "[1000]\tcv_agg's multi_logloss: 0.82113 + 0.0169554\n",
      "-------------------- For 34 of 100 iterations --------------------\n",
      "-------------------- For 35 of 100 iterations --------------------\n",
      "[1000]\tcv_agg's multi_logloss: 0.881732 + 0.00640116\n",
      "[2000]\tcv_agg's multi_logloss: 0.838145 + 0.0117308\n",
      "[3000]\tcv_agg's multi_logloss: 0.820806 + 0.0150372\n",
      "-------------------- For 36 of 100 iterations --------------------\n",
      "-------------------- For 37 of 100 iterations --------------------\n",
      "-------------------- For 38 of 100 iterations --------------------\n",
      "-------------------- For 39 of 100 iterations --------------------\n",
      "-------------------- For 40 of 100 iterations --------------------\n",
      "-------------------- For 41 of 100 iterations --------------------\n",
      "-------------------- For 42 of 100 iterations --------------------\n",
      "-------------------- For 43 of 100 iterations --------------------\n",
      "-------------------- For 44 of 100 iterations --------------------\n",
      "-------------------- For 45 of 100 iterations --------------------\n",
      "[1000]\tcv_agg's multi_logloss: 0.819591 + 0.0162539\n",
      "-------------------- For 46 of 100 iterations --------------------\n",
      "[1000]\tcv_agg's multi_logloss: 0.854146 + 0.00970149\n",
      "[2000]\tcv_agg's multi_logloss: 0.82129 + 0.0154761\n",
      "-------------------- For 47 of 100 iterations --------------------\n",
      "[1000]\tcv_agg's multi_logloss: 0.842319 + 0.0133003\n",
      "-------------------- For 48 of 100 iterations --------------------\n",
      "-------------------- For 49 of 100 iterations --------------------\n",
      "-------------------- For 50 of 100 iterations --------------------\n",
      "-------------------- For 51 of 100 iterations --------------------\n",
      "[1000]\tcv_agg's multi_logloss: 0.824193 + 0.0143667\n",
      "-------------------- For 52 of 100 iterations --------------------\n",
      "-------------------- For 53 of 100 iterations --------------------\n",
      "-------------------- For 54 of 100 iterations --------------------\n",
      "-------------------- For 55 of 100 iterations --------------------\n",
      "-------------------- For 56 of 100 iterations --------------------\n",
      "-------------------- For 57 of 100 iterations --------------------\n",
      "-------------------- For 58 of 100 iterations --------------------\n",
      "[1000]\tcv_agg's multi_logloss: 0.854128 + 0.0091526\n",
      "[2000]\tcv_agg's multi_logloss: 0.819619 + 0.014736\n",
      "-------------------- For 59 of 100 iterations --------------------\n",
      "-------------------- For 60 of 100 iterations --------------------\n",
      "-------------------- For 61 of 100 iterations --------------------\n",
      "-------------------- For 62 of 100 iterations --------------------\n",
      "-------------------- For 63 of 100 iterations --------------------\n",
      "[1000]\tcv_agg's multi_logloss: 0.840419 + 0.0132737\n",
      "-------------------- For 64 of 100 iterations --------------------\n",
      "-------------------- For 65 of 100 iterations --------------------\n",
      "-------------------- For 66 of 100 iterations --------------------\n",
      "-------------------- For 67 of 100 iterations --------------------\n",
      "-------------------- For 68 of 100 iterations --------------------\n",
      "-------------------- For 69 of 100 iterations --------------------\n",
      "-------------------- For 70 of 100 iterations --------------------\n",
      "[1000]\tcv_agg's multi_logloss: 0.823889 + 0.014108\n",
      "-------------------- For 71 of 100 iterations --------------------\n",
      "-------------------- For 72 of 100 iterations --------------------\n",
      "[1000]\tcv_agg's multi_logloss: 0.8577 + 0.0106752\n",
      "[2000]\tcv_agg's multi_logloss: 0.828068 + 0.0155397\n",
      "-------------------- For 73 of 100 iterations --------------------\n",
      "-------------------- For 74 of 100 iterations --------------------\n",
      "[1000]\tcv_agg's multi_logloss: 0.930773 + 0.00288675\n",
      "[2000]\tcv_agg's multi_logloss: 0.886399 + 0.00591927\n",
      "[3000]\tcv_agg's multi_logloss: 0.859083 + 0.00865826\n",
      "[4000]\tcv_agg's multi_logloss: 0.841705 + 0.0108945\n",
      "[5000]\tcv_agg's multi_logloss: 0.830465 + 0.0126687\n",
      "[6000]\tcv_agg's multi_logloss: 0.822991 + 0.0141767\n",
      "[7000]\tcv_agg's multi_logloss: 0.818049 + 0.0152901\n",
      "-------------------- For 75 of 100 iterations --------------------\n",
      "-------------------- For 76 of 100 iterations --------------------\n",
      "-------------------- For 77 of 100 iterations --------------------\n",
      "-------------------- For 78 of 100 iterations --------------------\n",
      "-------------------- For 79 of 100 iterations --------------------\n",
      "-------------------- For 80 of 100 iterations --------------------\n",
      "-------------------- For 81 of 100 iterations --------------------\n",
      "[1000]\tcv_agg's multi_logloss: 0.820464 + 0.0161087\n",
      "-------------------- For 82 of 100 iterations --------------------\n",
      "-------------------- For 83 of 100 iterations --------------------\n",
      "-------------------- For 84 of 100 iterations --------------------\n",
      "-------------------- For 85 of 100 iterations --------------------\n",
      "-------------------- For 86 of 100 iterations --------------------\n",
      "-------------------- For 87 of 100 iterations --------------------\n",
      "-------------------- For 88 of 100 iterations --------------------\n",
      "-------------------- For 89 of 100 iterations --------------------\n",
      "[1000]\tcv_agg's multi_logloss: 1.00265 + 0.000695879\n",
      "[2000]\tcv_agg's multi_logloss: 0.998691 + 0.000648188\n",
      "[3000]\tcv_agg's multi_logloss: 0.994833 + 0.00062879\n",
      "[4000]\tcv_agg's multi_logloss: 0.991091 + 0.000634065\n",
      "[5000]\tcv_agg's multi_logloss: 0.98744 + 0.000671947\n",
      "[6000]\tcv_agg's multi_logloss: 0.983889 + 0.000733532\n",
      "[7000]\tcv_agg's multi_logloss: 0.980422 + 0.000821519\n",
      "[8000]\tcv_agg's multi_logloss: 0.977048 + 0.00091554\n",
      "[9000]\tcv_agg's multi_logloss: 0.973751 + 0.00102126\n",
      "[10000]\tcv_agg's multi_logloss: 0.970543 + 0.00113352\n",
      "-------------------- For 90 of 100 iterations --------------------\n",
      "-------------------- For 91 of 100 iterations --------------------\n",
      "[1000]\tcv_agg's multi_logloss: 0.819621 + 0.0162394\n"
     ]
    },
    {
     "name": "stdout",
     "output_type": "stream",
     "text": [
      "-------------------- For 92 of 100 iterations --------------------\n",
      "-------------------- For 93 of 100 iterations --------------------\n",
      "-------------------- For 94 of 100 iterations --------------------\n",
      "-------------------- For 95 of 100 iterations --------------------\n",
      "-------------------- For 96 of 100 iterations --------------------\n",
      "[1000]\tcv_agg's multi_logloss: 0.815099 + 0.0162301\n",
      "-------------------- For 97 of 100 iterations --------------------\n",
      "-------------------- For 98 of 100 iterations --------------------\n",
      "-------------------- For 99 of 100 iterations --------------------\n",
      "-------------------- For 100 of 100 iterations --------------------\n",
      "[1000]\tcv_agg's multi_logloss: 0.818629 + 0.0165001\n"
     ]
    }
   ],
   "source": [
    "# 이 부분은 나중에 한 번 더 보자\n",
    "\n",
    "optimized_param = None\n",
    "lowest_cv = 1000\n",
    "total_iteration = 100\n",
    "for i in range(total_iteration):\n",
    "    print('-'*20, 'For {} of {} iterations'.format(i+1, total_iteration), '-'*20)\n",
    "    learning_rate = np.random.rand() * 0.02\n",
    "    n_folds = 3\n",
    "\n",
    "    num_class = len(np.unique(y))\n",
    "\n",
    "    params = {}\n",
    "    params['application'] = 'multiclass'\n",
    "    params['metric'] = 'multi_logloss'\n",
    "    params['num_class'] = num_class\n",
    "    params['class_weight'] = 'balanced'\n",
    "    params['num_leaves'] = np.random.randint(24, 48)\n",
    "    params['max_depth'] = np.random.randint(5, 8)\n",
    "    params['min_child_weight'] = np.random.randint(5, 50)\n",
    "    params['min_split_gain'] = np.random.rand() * 0.09\n",
    "    params['colsample_bytree'] = np.random.rand() * (0.9 - 0.1) + 0.1\n",
    "    params['subsample'] = np.random.rand() * (1 - 0.8) + 0.8\n",
    "    params['bagging_freq'] = np.random.randint(1, 5)\n",
    "    params['bagging_seed'] = np.random.randint(1, 5)\n",
    "    params['reg_alpha'] = np.random.rand() * 2\n",
    "    params['reg_lambda'] = np.random.rand() * 2\n",
    "    params['learning_rate'] = np.random.rand() * 0.02\n",
    "    params['seed'] = 1989\n",
    "    # 추가 (colab 말고 mac 환경에서 c++ 에러가 계속 출력되어 문제 발생)\n",
    "    params['verbose'] = -1\n",
    "    \n",
    "    d_train = lgb.Dataset(data=new_train, label=y.values-1, categorical_feature=new_categorical_feats, free_raw_data=False,)\n",
    "    cv_results = lgb.cv(params=params, train_set=d_train, num_boost_round=10000, categorical_feature=new_categorical_feats,\n",
    "                        nfold=n_folds, stratified=True, shuffle=True, early_stopping_rounds=1, verbose_eval=1000)\n",
    "\n",
    "    min_cv_results = min(cv_results['multi_logloss-mean'])\n",
    "    \n",
    "    if min_cv_results < lowest_cv:\n",
    "        lowest_cv = min_cv_results\n",
    "        optimized_param = params"
   ]
  },
  {
   "cell_type": "code",
   "execution_count": 150,
   "metadata": {},
   "outputs": [
    {
     "name": "stdout",
     "output_type": "stream",
     "text": [
      "============================== 1 of 10 folds ==============================\n",
      "[LightGBM] [Warning] seed is set=1989, random_state=1989 will be ignored. Current value: seed=1989\n",
      "[LightGBM] [Warning] bagging_freq is set=3, subsample_freq=0 will be ignored. Current value: bagging_freq=3\n",
      "Training until validation scores don't improve for 500 rounds\n",
      "[500]\tvalid_0's multi_logloss: 0.914887\tvalid_0's macroF1: 0.469448\n",
      "Early stopping, best iteration is:\n",
      "[342]\tvalid_0's multi_logloss: 0.922507\tvalid_0's macroF1: 0.474025\n",
      "******************** Execution ended in 00h 00m 05.84s ********************\n",
      "============================== 2 of 10 folds ==============================\n",
      "[LightGBM] [Warning] seed is set=1989, random_state=1989 will be ignored. Current value: seed=1989\n",
      "[LightGBM] [Warning] bagging_freq is set=3, subsample_freq=0 will be ignored. Current value: bagging_freq=3\n",
      "Training until validation scores don't improve for 500 rounds\n",
      "[500]\tvalid_0's multi_logloss: 0.861585\tvalid_0's macroF1: 0.454873\n",
      "Early stopping, best iteration is:\n",
      "[78]\tvalid_0's multi_logloss: 1.04175\tvalid_0's macroF1: 0.512696\n",
      "******************** Execution ended in 00h 00m 03.32s ********************\n",
      "============================== 3 of 10 folds ==============================\n",
      "[LightGBM] [Warning] seed is set=1989, random_state=1989 will be ignored. Current value: seed=1989\n",
      "[LightGBM] [Warning] bagging_freq is set=3, subsample_freq=0 will be ignored. Current value: bagging_freq=3\n",
      "Training until validation scores don't improve for 500 rounds\n",
      "[500]\tvalid_0's multi_logloss: 0.943788\tvalid_0's macroF1: 0.392831\n",
      "Early stopping, best iteration is:\n",
      "[4]\tvalid_0's multi_logloss: 1.35549\tvalid_0's macroF1: 0.414116\n",
      "******************** Execution ended in 00h 00m 02.49s ********************\n",
      "============================== 4 of 10 folds ==============================\n",
      "[LightGBM] [Warning] seed is set=1989, random_state=1989 will be ignored. Current value: seed=1989\n",
      "[LightGBM] [Warning] bagging_freq is set=3, subsample_freq=0 will be ignored. Current value: bagging_freq=3\n",
      "Training until validation scores don't improve for 500 rounds\n",
      "[500]\tvalid_0's multi_logloss: 0.932773\tvalid_0's macroF1: 0.450851\n",
      "[1000]\tvalid_0's multi_logloss: 0.897709\tvalid_0's macroF1: 0.458632\n",
      "[1500]\tvalid_0's multi_logloss: 0.890993\tvalid_0's macroF1: 0.453567\n",
      "Early stopping, best iteration is:\n",
      "[1009]\tvalid_0's multi_logloss: 0.897252\tvalid_0's macroF1: 0.473788\n",
      "******************** Execution ended in 00h 00m 12.72s ********************\n",
      "============================== 5 of 10 folds ==============================\n",
      "[LightGBM] [Warning] seed is set=1989, random_state=1989 will be ignored. Current value: seed=1989\n",
      "[LightGBM] [Warning] bagging_freq is set=3, subsample_freq=0 will be ignored. Current value: bagging_freq=3\n",
      "Training until validation scores don't improve for 500 rounds\n",
      "[500]\tvalid_0's multi_logloss: 0.965964\tvalid_0's macroF1: 0.405405\n",
      "Early stopping, best iteration is:\n",
      "[480]\tvalid_0's multi_logloss: 0.966929\tvalid_0's macroF1: 0.4113\n",
      "******************** Execution ended in 00h 00m 06.70s ********************\n",
      "============================== 6 of 10 folds ==============================\n",
      "[LightGBM] [Warning] seed is set=1989, random_state=1989 will be ignored. Current value: seed=1989\n",
      "[LightGBM] [Warning] bagging_freq is set=3, subsample_freq=0 will be ignored. Current value: bagging_freq=3\n",
      "Training until validation scores don't improve for 500 rounds\n",
      "[500]\tvalid_0's multi_logloss: 0.994898\tvalid_0's macroF1: 0.380708\n",
      "Early stopping, best iteration is:\n",
      "[10]\tvalid_0's multi_logloss: 1.32385\tvalid_0's macroF1: 0.402309\n",
      "******************** Execution ended in 00h 00m 02.04s ********************\n",
      "============================== 7 of 10 folds ==============================\n",
      "[LightGBM] [Warning] seed is set=1989, random_state=1989 will be ignored. Current value: seed=1989\n",
      "[LightGBM] [Warning] bagging_freq is set=3, subsample_freq=0 will be ignored. Current value: bagging_freq=3\n",
      "Training until validation scores don't improve for 500 rounds\n",
      "[500]\tvalid_0's multi_logloss: 0.956642\tvalid_0's macroF1: 0.39448\n",
      "Early stopping, best iteration is:\n",
      "[229]\tvalid_0's multi_logloss: 0.98833\tvalid_0's macroF1: 0.431289\n",
      "******************** Execution ended in 00h 00m 04.64s ********************\n",
      "============================== 8 of 10 folds ==============================\n",
      "[LightGBM] [Warning] seed is set=1989, random_state=1989 will be ignored. Current value: seed=1989\n",
      "[LightGBM] [Warning] bagging_freq is set=3, subsample_freq=0 will be ignored. Current value: bagging_freq=3\n",
      "Training until validation scores don't improve for 500 rounds\n",
      "[500]\tvalid_0's multi_logloss: 1.01743\tvalid_0's macroF1: 0.387562\n",
      "Early stopping, best iteration is:\n",
      "[37]\tvalid_0's multi_logloss: 1.20625\tvalid_0's macroF1: 0.417747\n",
      "******************** Execution ended in 00h 00m 02.34s ********************\n",
      "============================== 9 of 10 folds ==============================\n",
      "[LightGBM] [Warning] seed is set=1989, random_state=1989 will be ignored. Current value: seed=1989\n",
      "[LightGBM] [Warning] bagging_freq is set=3, subsample_freq=0 will be ignored. Current value: bagging_freq=3\n",
      "Training until validation scores don't improve for 500 rounds\n",
      "[500]\tvalid_0's multi_logloss: 0.983215\tvalid_0's macroF1: 0.453027\n",
      "[1000]\tvalid_0's multi_logloss: 0.96188\tvalid_0's macroF1: 0.46005\n",
      "[1500]\tvalid_0's multi_logloss: 0.95598\tvalid_0's macroF1: 0.466438\n",
      "Early stopping, best iteration is:\n",
      "[1320]\tvalid_0's multi_logloss: 0.95594\tvalid_0's macroF1: 0.477735\n",
      "******************** Execution ended in 00h 00m 13.51s ********************\n",
      "============================== 10 of 10 folds ==============================\n",
      "[LightGBM] [Warning] seed is set=1989, random_state=1989 will be ignored. Current value: seed=1989\n",
      "[LightGBM] [Warning] bagging_freq is set=3, subsample_freq=0 will be ignored. Current value: bagging_freq=3\n",
      "Training until validation scores don't improve for 500 rounds\n",
      "[500]\tvalid_0's multi_logloss: 1.04032\tvalid_0's macroF1: 0.410659\n",
      "Early stopping, best iteration is:\n",
      "[21]\tvalid_0's multi_logloss: 1.26728\tvalid_0's macroF1: 0.453011\n",
      "******************** Execution ended in 00h 00m 02.80s ********************\n"
     ]
    }
   ],
   "source": [
    "# parameter 이용 예측 결과 산출\n",
    "n_folds = 10\n",
    "predicts_result, feat_importance_df = LGB_OOF(optimized_param, new_categorical_feats, n_folds, SEED=1989)"
   ]
  },
  {
   "cell_type": "code",
   "execution_count": 151,
   "metadata": {},
   "outputs": [],
   "source": [
    "# Submission 파일 생성\n",
    "submission['Target'] = np.array(predicts_result).mean(axis=0).round().astype(int)\n",
    "submission.to_csv(result_path +'submission_with_randomized_search.csv', index=False)"
   ]
  },
  {
   "cell_type": "markdown",
   "metadata": {},
   "source": [
    "**Kaggle submission**"
   ]
  },
  {
   "cell_type": "code",
   "execution_count": 160,
   "metadata": {},
   "outputs": [
    {
     "name": "stdout",
     "output_type": "stream",
     "text": [
      "100%|████████████████████████████████████████| 349k/349k [00:04<00:00, 80.8kB/s]\n",
      "400 - Bad Request\n"
     ]
    }
   ],
   "source": [
    "# Notebook으로만 submit 가능한 competition이라 아래 방식 불가\n",
    "# !kaggle competitions submit -c costa-rican-household-poverty-prediction -f submission_with_defined_param.csv -m \"Random Search LGB\""
   ]
  },
  {
   "cell_type": "code",
   "execution_count": 157,
   "metadata": {},
   "outputs": [
    {
     "name": "stdout",
     "output_type": "stream",
     "text": [
      "100%|████████████████████████████████████████| 349k/349k [00:04<00:00, 82.0kB/s]\n",
      "400 - Bad Request\n"
     ]
    }
   ],
   "source": [
    "# Notebook으로만 submit 가능한 competition이라 아래 방식 불가\n",
    "# !kaggle competitions submit -c costa-rican-household-poverty-prediction -f submission_with_randomized_search.csv -m \"Random Search LGB\""
   ]
  },
  {
   "cell_type": "code",
   "execution_count": null,
   "metadata": {},
   "outputs": [],
   "source": [
    "# 나중에 train, test 데이터를 바탕으로 앱처럼 만들어보자\n",
    "# test에서 새로오는 데이터처럼 인풋을 주고 train으로 만든 모델로 결과가 나오게\n",
    "# 결과 나올때 shap 값 같은 것도 같이 나오기\n",
    "\n",
    "# feature를 선택하고 이런 과정들은 그냥 앱에 포함되지 않고 jupyter로 모델의 정당성을 설명하기 위해 사용\n",
    "# aggr feature 같은 것도 모델이 만들어 줄 수 있게 (이럴 때 spark가 빠르려나, 시간 비교)\n",
    "# spark로도?"
   ]
  },
  {
   "cell_type": "code",
   "execution_count": null,
   "metadata": {},
   "outputs": [],
   "source": []
  }
 ],
 "metadata": {
  "colab": {
   "collapsed_sections": [],
   "name": "costarican_test.ipynb",
   "provenance": []
  },
  "kernelspec": {
   "display_name": "jupyter-ml",
   "language": "python",
   "name": "ml"
  },
  "language_info": {
   "codemirror_mode": {
    "name": "ipython",
    "version": 3
   },
   "file_extension": ".py",
   "mimetype": "text/x-python",
   "name": "python",
   "nbconvert_exporter": "python",
   "pygments_lexer": "ipython3",
   "version": "3.7.1"
  }
 },
 "nbformat": 4,
 "nbformat_minor": 1
}
